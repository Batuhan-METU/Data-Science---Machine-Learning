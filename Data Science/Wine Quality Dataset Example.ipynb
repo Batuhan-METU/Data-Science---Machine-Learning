{
 "cells": [
  {
   "cell_type": "code",
   "execution_count": null,
   "id": "c283acfd-242b-4f04-8f42-3ea59ad1bb53",
   "metadata": {},
   "outputs": [],
   "source": [
    "import pandas as pd\n",
    "import numpy as np \n",
    "import seaborn as sns \n",
    "import matplotlib.pyplot as plt "
   ]
  },
  {
   "cell_type": "code",
   "execution_count": null,
   "id": "0532f284-a502-4c42-ab2f-2db8f088a971",
   "metadata": {},
   "outputs": [],
   "source": [
    "df = pd.read_csv(\"WineQT.csv\")"
   ]
  },
  {
   "cell_type": "code",
   "execution_count": null,
   "id": "ca3182c1-fc66-4245-813b-1343d669a6de",
   "metadata": {},
   "outputs": [],
   "source": [
    "df "
   ]
  },
  {
   "cell_type": "code",
   "execution_count": null,
   "id": "fd911050-c0a9-4b88-9a5b-8a6c2a8ce6ca",
   "metadata": {},
   "outputs": [],
   "source": [
    "df.describe()"
   ]
  },
  {
   "cell_type": "code",
   "execution_count": null,
   "id": "4e5e9ca1-d150-4b2e-9f24-a8791104507b",
   "metadata": {},
   "outputs": [],
   "source": [
    "df.info()"
   ]
  },
  {
   "cell_type": "code",
   "execution_count": null,
   "id": "78058bba-8c6e-4d15-bc99-4ffefafeb3cd",
   "metadata": {},
   "outputs": [],
   "source": [
    "df[\"quality\"].unique()"
   ]
  },
  {
   "cell_type": "code",
   "execution_count": null,
   "id": "8d2124a1-ccb1-424e-ad77-380dd994bbae",
   "metadata": {},
   "outputs": [],
   "source": [
    "df.isnull().sum()"
   ]
  },
  {
   "cell_type": "code",
   "execution_count": null,
   "id": "298e0286-2d6e-425c-bc58-1788e71aef76",
   "metadata": {},
   "outputs": [],
   "source": [
    "df.corr()"
   ]
  },
  {
   "cell_type": "code",
   "execution_count": null,
   "id": "8c4a005b-e342-40b0-91a4-9ac33790395b",
   "metadata": {},
   "outputs": [],
   "source": [
    "plt.figure(figsize = (10,8))\n",
    "sns.heatmap(df.corr(), annot = True)"
   ]
  },
  {
   "cell_type": "code",
   "execution_count": null,
   "id": "026d9968-e682-4c09-9649-c7481b7d071c",
   "metadata": {},
   "outputs": [],
   "source": [
    "df.groupby(\"quality\").mean()"
   ]
  },
  {
   "cell_type": "code",
   "execution_count": null,
   "id": "8c839250-dc7d-4dad-95b2-698c466957c4",
   "metadata": {},
   "outputs": [],
   "source": [
    "df[\"quality\"].value_counts().plot(kind = \"bar\")\n",
    "plt.show()"
   ]
  },
  {
   "cell_type": "code",
   "execution_count": null,
   "id": "9e9856bf-c514-4922-a201-7d8ee9e7f6bc",
   "metadata": {},
   "outputs": [],
   "source": [
    "sns.histplot(df[\"alcohol\"])"
   ]
  },
  {
   "cell_type": "code",
   "execution_count": null,
   "id": "8fa5f84a-04b2-4492-84b1-d320dbd17def",
   "metadata": {},
   "outputs": [],
   "source": [
    "sns.pairplot(df)"
   ]
  },
  {
   "cell_type": "code",
   "execution_count": null,
   "id": "3134c1b7-a91c-46ba-9958-f99a9c4dbf26",
   "metadata": {},
   "outputs": [],
   "source": [
    "sns.boxplot(x = \"quality\", y = \"alcohol\", data = df)"
   ]
  },
  {
   "cell_type": "code",
   "execution_count": null,
   "id": "497089a5-1298-4214-ace4-bfea50a310e1",
   "metadata": {},
   "outputs": [],
   "source": [
    "sns.scatterplot(x = \"fixed acidity\", y = \"density\", hue = \"quality\", data = df)"
   ]
  },
  {
   "cell_type": "code",
   "execution_count": null,
   "id": "b8fd2bec-e358-49be-bab3-fdf5059870a0",
   "metadata": {},
   "outputs": [],
   "source": [
    "columns = df.columns\n",
    "(fig,ax) = plt.subplots(4,4,figsize = (20,18))\n",
    "ax = ax.flatten()\n",
    "\n",
    "for i, column in enumerate(columns): \n",
    "    sns.kdeplot(\n",
    "        data = df, \n",
    "        x = column,\n",
    "        hue = df.quality, \n",
    "        ax = ax[i]\n",
    "    )\n",
    "\n",
    "    ax[i].set_title(f\"{column} Distribution\")\n",
    "    ax[i].set_xlabel(None)\n",
    "\n",
    "for i in range(i+1, len(ax)): \n",
    "    ax[i].axis(\"off\")"
   ]
  },
  {
   "cell_type": "code",
   "execution_count": null,
   "id": "f9390a4f-f7e4-4cb9-b9ad-9881c0be117c",
   "metadata": {},
   "outputs": [],
   "source": []
  }
 ],
 "metadata": {
  "kernelspec": {
   "display_name": "Python 3 (ipykernel)",
   "language": "python",
   "name": "python3"
  },
  "language_info": {
   "codemirror_mode": {
    "name": "ipython",
    "version": 3
   },
   "file_extension": ".py",
   "mimetype": "text/x-python",
   "name": "python",
   "nbconvert_exporter": "python",
   "pygments_lexer": "ipython3",
   "version": "3.13.5"
  }
 },
 "nbformat": 4,
 "nbformat_minor": 5
}
