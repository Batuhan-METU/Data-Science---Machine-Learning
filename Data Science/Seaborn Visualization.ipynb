{
 "cells": [
  {
   "cell_type": "code",
   "execution_count": null,
   "id": "e7f157bd-8ff2-484a-a863-13df63434ea3",
   "metadata": {},
   "outputs": [],
   "source": [
    "import pandas as pd \n",
    "import matplotlib.pyplot as plt "
   ]
  },
  {
   "cell_type": "code",
   "execution_count": null,
   "id": "6329683e-1364-496d-adfe-ab8387579fc3",
   "metadata": {},
   "outputs": [],
   "source": [
    "import seaborn as sns "
   ]
  },
  {
   "cell_type": "code",
   "execution_count": null,
   "id": "6f973704-6d6a-4569-a6a0-d891b9397e93",
   "metadata": {},
   "outputs": [],
   "source": [
    "data = pd.read_csv('athlete_events.csv')"
   ]
  },
  {
   "cell_type": "code",
   "execution_count": null,
   "id": "81c5ef70-48ea-4a94-b715-75a6cbabf699",
   "metadata": {},
   "outputs": [],
   "source": [
    "data.describe()"
   ]
  },
  {
   "cell_type": "code",
   "execution_count": null,
   "id": "7477f204-8ec8-4390-b510-11c07e762366",
   "metadata": {},
   "outputs": [],
   "source": [
    "data.head()"
   ]
  },
  {
   "cell_type": "code",
   "execution_count": null,
   "id": "515beef6-bd17-4f2f-81ec-a58ff5a17c15",
   "metadata": {},
   "outputs": [],
   "source": [
    "data.columns"
   ]
  },
  {
   "cell_type": "code",
   "execution_count": null,
   "id": "22bcb000-8a99-4938-88c3-b74688b8a79f",
   "metadata": {},
   "outputs": [],
   "source": [
    "data.isnull()"
   ]
  },
  {
   "cell_type": "code",
   "execution_count": null,
   "id": "c0e4ca21-d92c-4d3f-a74b-c9375623bfde",
   "metadata": {},
   "outputs": [],
   "source": [
    "data.info()"
   ]
  },
  {
   "cell_type": "code",
   "execution_count": null,
   "id": "97667480-f52f-47e9-bff5-6cada5ccfe58",
   "metadata": {},
   "outputs": [],
   "source": [
    "plt.scatter(\"Height\", \"Weight\", data = data)\n",
    "plt.xlabel(\"Height\")\n",
    "plt.ylabel(\"Weight\")\n",
    "plt.title(\"Athlete Height vs Weigth\")\n",
    "\n",
    "plt.show()"
   ]
  },
  {
   "cell_type": "code",
   "execution_count": null,
   "id": "814e69bb-14ca-4eae-8729-bfbd68743735",
   "metadata": {},
   "outputs": [],
   "source": [
    "sns.set_style(\"dark\")\n",
    "sns.scatterplot(x = \"Height\", y = \"Weight\", data = data)\n",
    "plt.xlabel(\"Height of Athletes\")\n",
    "plt.ylabel(\"Weight of Athletes\")\n",
    "plt.title(\"Athletes Height vs Weight\")\n",
    "\n",
    "plt.show()"
   ]
  },
  {
   "cell_type": "code",
   "execution_count": null,
   "id": "cf8cf054-1b3a-4d5b-a504-4191222bc723",
   "metadata": {},
   "outputs": [],
   "source": [
    "sns.set_style(\"dark\")\n",
    "sns.scatterplot(x = \"Height\", y = \"Weight\", hue = \"Sex\", data = data)\n",
    "plt.xlabel(\"Height of Athletes\")\n",
    "plt.ylabel(\"Weight of Athletes\")\n",
    "plt.title(\"Athletes Height vs Weight\")\n",
    "\n",
    "plt.show()"
   ]
  },
  {
   "cell_type": "code",
   "execution_count": null,
   "id": "1bda5e75-af5e-4cf2-9470-65ebd0d07196",
   "metadata": {},
   "outputs": [],
   "source": [
    "data.columns"
   ]
  },
  {
   "cell_type": "code",
   "execution_count": null,
   "id": "b29add81-bf37-4908-b3b8-3c868a54e604",
   "metadata": {},
   "outputs": [],
   "source": [
    "data[\"Medal\"].unique()"
   ]
  },
  {
   "cell_type": "code",
   "execution_count": null,
   "id": "ca9cef10-2f69-48e0-beb1-e09a890898cd",
   "metadata": {},
   "outputs": [],
   "source": [
    "data[\"Sex\"].unique()"
   ]
  },
  {
   "cell_type": "code",
   "execution_count": null,
   "id": "70aef653-7387-488c-9cc2-9cd50208f0a5",
   "metadata": {},
   "outputs": [],
   "source": [
    "sns.set_style(\"dark\")\n",
    "sns.scatterplot(x = \"Height\", y = \"Weight\", hue = \"Medal\", data = data)\n",
    "plt.xlabel(\"Height of Athletes\")\n",
    "plt.ylabel(\"Weight of Athletes\")\n",
    "plt.title(\"Athletes Height vs Weight\")\n",
    "\n",
    "plt.show()"
   ]
  },
  {
   "cell_type": "code",
   "execution_count": null,
   "id": "cc2feb52-bb39-4d3f-bfb6-68913905c5a3",
   "metadata": {},
   "outputs": [],
   "source": [
    "sns.set_style(\"dark\")\n",
    "sns.scatterplot(x = \"Height\", y = \"Weight\", hue = \"Sex\",style = \"Medal\", data = data)\n",
    "plt.xlabel(\"Height of Athletes\")\n",
    "plt.ylabel(\"Weight of Athletes\")\n",
    "plt.title(\"Athletes Height vs Weight\")\n",
    "\n",
    "plt.show()"
   ]
  },
  {
   "cell_type": "code",
   "execution_count": null,
   "id": "18e7ef0e-798a-4bae-9b0f-8c9334b8c378",
   "metadata": {},
   "outputs": [],
   "source": [
    "sns.set_style(\"dark\")\n",
    "sns.scatterplot(x = \"Height\", y = \"Weight\", hue = \"Sex\",style = \"Medal\", size = \"Age\" ,data = data)\n",
    "plt.xlabel(\"Height of Athletes\")\n",
    "plt.ylabel(\"Weight of Athletes\")\n",
    "plt.title(\"Athletes Height vs Weight\")\n",
    "\n",
    "plt.show()"
   ]
  },
  {
   "cell_type": "code",
   "execution_count": null,
   "id": "a1b499f3-7eb3-4e05-b27d-8ee8dc7e1974",
   "metadata": {},
   "outputs": [],
   "source": [
    "sns.set_style(\"whitegrid\")\n",
    "sns.lineplot(x = \"Height\", y = \"Weight\", hue = \"Sex\", data = data)\n",
    "plt.xlabel(\"Height of Athletes\")\n",
    "plt.ylabel(\"Weight of Athletes\")\n",
    "plt.title(\"Athletes Height vs Weight\")\n",
    "\n",
    "plt.show()"
   ]
  },
  {
   "cell_type": "code",
   "execution_count": null,
   "id": "5fa21bd5-1a4d-4820-a28f-e4223a7be2e2",
   "metadata": {},
   "outputs": [],
   "source": [
    "sns.set_style(\"white\")\n",
    "sns.displot(x = \"Height\", hue = \"Sex\", data = data)\n",
    "plt.ylabel(\"Frequency\")\n",
    "plt.title(\"Athletes Heigth Distribution\")\n",
    "\n",
    "plt.show()"
   ]
  },
  {
   "cell_type": "code",
   "execution_count": null,
   "id": "67efef72-ea04-43d4-98d2-c821da80135a",
   "metadata": {},
   "outputs": [],
   "source": [
    "sns.set_style(\"white\")\n",
    "sns.displot(x = \"Height\", hue = \"Sex\", data = data, kind = \"kde\")\n",
    "plt.ylabel(\"Frequency\")\n",
    "plt.title(\"Athletes Heigth Distribution\")\n",
    "\n",
    "plt.show()"
   ]
  },
  {
   "cell_type": "code",
   "execution_count": null,
   "id": "7fd822dd-7297-4591-bf8e-8eb239367b1a",
   "metadata": {},
   "outputs": [],
   "source": [
    "sns.barplot(x = \"Medal\", y = \"Height\", hue = \"Sex\", data = data)\n",
    "plt.title(\"Medals by Height\")\n",
    "plt.show()"
   ]
  },
  {
   "cell_type": "code",
   "execution_count": null,
   "id": "a870af67-0f81-45ed-ab0c-45f2b8ce2d91",
   "metadata": {},
   "outputs": [],
   "source": [
    "sns.catplot(x = \"Medal\", y = \"Height\", hue = \"Sex\", col = \"Season\", data = data)"
   ]
  },
  {
   "cell_type": "code",
   "execution_count": null,
   "id": "e2031498-96fc-4fb9-8ce2-3491071eaa7e",
   "metadata": {},
   "outputs": [],
   "source": [
    "data.corr(numeric_only = True)"
   ]
  },
  {
   "cell_type": "code",
   "execution_count": null,
   "id": "b64f6083-2bb8-44c8-848c-88e053d1a16d",
   "metadata": {},
   "outputs": [],
   "source": [
    "sns.heatmap(data.corr(numeric_only = True), annot = True)"
   ]
  },
  {
   "cell_type": "code",
   "execution_count": null,
   "id": "2976e968-11ec-4110-a441-0989878c1e75",
   "metadata": {},
   "outputs": [],
   "source": []
  }
 ],
 "metadata": {
  "kernelspec": {
   "display_name": "Python 3 (ipykernel)",
   "language": "python",
   "name": "python3"
  },
  "language_info": {
   "codemirror_mode": {
    "name": "ipython",
    "version": 3
   },
   "file_extension": ".py",
   "mimetype": "text/x-python",
   "name": "python",
   "nbconvert_exporter": "python",
   "pygments_lexer": "ipython3",
   "version": "3.13.5"
  }
 },
 "nbformat": 4,
 "nbformat_minor": 5
}
