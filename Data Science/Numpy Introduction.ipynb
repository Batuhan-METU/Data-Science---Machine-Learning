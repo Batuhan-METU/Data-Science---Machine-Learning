{
 "cells": [
  {
   "cell_type": "code",
   "execution_count": 1,
   "id": "68b83932-73af-4d17-8624-1adb89271906",
   "metadata": {},
   "outputs": [],
   "source": [
    "import numpy as np "
   ]
  },
  {
   "cell_type": "code",
   "execution_count": 2,
   "id": "a161d241-93e7-4108-9a7e-f6dea35e5c19",
   "metadata": {},
   "outputs": [],
   "source": [
    "my_list = [10,20,30,40]"
   ]
  },
  {
   "cell_type": "code",
   "execution_count": 3,
   "id": "98fcc107-27ea-4235-9614-5735977754f6",
   "metadata": {},
   "outputs": [
    {
     "data": {
      "text/plain": [
       "list"
      ]
     },
     "execution_count": 3,
     "metadata": {},
     "output_type": "execute_result"
    }
   ],
   "source": [
    "type(my_list)"
   ]
  },
  {
   "cell_type": "code",
   "execution_count": 4,
   "id": "501bb9ec-ce1c-4a7e-8b2b-54bb6ccb3497",
   "metadata": {},
   "outputs": [
    {
     "data": {
      "text/plain": [
       "array([10, 20, 30, 40])"
      ]
     },
     "execution_count": 4,
     "metadata": {},
     "output_type": "execute_result"
    }
   ],
   "source": [
    "np.array(my_list)"
   ]
  },
  {
   "cell_type": "code",
   "execution_count": 6,
   "id": "7063f378-9d6e-44a7-bad3-08bad3a651d5",
   "metadata": {},
   "outputs": [],
   "source": [
    "myNumpyArray = np.array(my_list)"
   ]
  },
  {
   "cell_type": "code",
   "execution_count": 7,
   "id": "097b978c-24f0-4506-92ae-37c077a0e998",
   "metadata": {},
   "outputs": [
    {
     "data": {
      "text/plain": [
       "np.int64(40)"
      ]
     },
     "execution_count": 7,
     "metadata": {},
     "output_type": "execute_result"
    }
   ],
   "source": [
    "myNumpyArray.max()"
   ]
  },
  {
   "cell_type": "code",
   "execution_count": 8,
   "id": "f2a4616c-8d3b-4921-8a16-c83991d6f70d",
   "metadata": {},
   "outputs": [
    {
     "data": {
      "text/plain": [
       "numpy.ndarray"
      ]
     },
     "execution_count": 8,
     "metadata": {},
     "output_type": "execute_result"
    }
   ],
   "source": [
    "type(myNumpyArray)"
   ]
  },
  {
   "cell_type": "code",
   "execution_count": 9,
   "id": "fe790400-6854-48be-8ca1-eb87b1b1f422",
   "metadata": {},
   "outputs": [
    {
     "data": {
      "text/plain": [
       "np.int64(10)"
      ]
     },
     "execution_count": 9,
     "metadata": {},
     "output_type": "execute_result"
    }
   ],
   "source": [
    "myNumpyArray.min()"
   ]
  },
  {
   "cell_type": "code",
   "execution_count": 10,
   "id": "e8883302-4baa-48fb-b9bd-218385256d7a",
   "metadata": {},
   "outputs": [
    {
     "data": {
      "text/plain": [
       "array([1., 1., 1., 1., 1.])"
      ]
     },
     "execution_count": 10,
     "metadata": {},
     "output_type": "execute_result"
    }
   ],
   "source": [
    "np.ones(5)"
   ]
  },
  {
   "cell_type": "code",
   "execution_count": 11,
   "id": "60a6875a-a8b2-40ef-90aa-288759b8c4cb",
   "metadata": {},
   "outputs": [
    {
     "data": {
      "text/plain": [
       "array([0.13342495, 0.19587644, 0.66739672, 0.78594251, 0.19832565])"
      ]
     },
     "execution_count": 11,
     "metadata": {},
     "output_type": "execute_result"
    }
   ],
   "source": [
    "np.random.random(5)"
   ]
  },
  {
   "cell_type": "code",
   "execution_count": 12,
   "id": "bf0fffe1-3e56-4850-bac4-395226078a48",
   "metadata": {},
   "outputs": [],
   "source": [
    "myList1 = [1,2]"
   ]
  },
  {
   "cell_type": "code",
   "execution_count": 13,
   "id": "4c9bd9b7-778d-4b17-b09b-7c7adfca0e43",
   "metadata": {},
   "outputs": [],
   "source": [
    "myList2 = [2,3]"
   ]
  },
  {
   "cell_type": "code",
   "execution_count": 14,
   "id": "5d382656-8177-4a4e-a1e0-bb3bcfcb2d3d",
   "metadata": {},
   "outputs": [],
   "source": [
    "myNumpyArray1 = np.array(myList1)"
   ]
  },
  {
   "cell_type": "code",
   "execution_count": 15,
   "id": "f3c9e06f-8a74-4ea0-a0e5-57d2d265a9e7",
   "metadata": {},
   "outputs": [],
   "source": [
    "myNumpyArray2 = np.array(myList2)"
   ]
  },
  {
   "cell_type": "code",
   "execution_count": 16,
   "id": "ae29fe37-fee2-4d18-9a4b-e030523db0ba",
   "metadata": {},
   "outputs": [
    {
     "data": {
      "text/plain": [
       "array([3, 5])"
      ]
     },
     "execution_count": 16,
     "metadata": {},
     "output_type": "execute_result"
    }
   ],
   "source": [
    "myNumpyArray1 + myNumpyArray2"
   ]
  },
  {
   "cell_type": "code",
   "execution_count": 17,
   "id": "6bf7035c-1c3a-481c-836c-0f1ab75abee6",
   "metadata": {},
   "outputs": [],
   "source": [
    "# valid for *, -, / "
   ]
  },
  {
   "cell_type": "code",
   "execution_count": 18,
   "id": "c352d50d-8607-4b79-b4d6-e587092662e3",
   "metadata": {},
   "outputs": [
    {
     "data": {
      "text/plain": [
       "np.int64(3)"
      ]
     },
     "execution_count": 18,
     "metadata": {},
     "output_type": "execute_result"
    }
   ],
   "source": [
    "myNumpyArray1.sum()"
   ]
  },
  {
   "cell_type": "code",
   "execution_count": 19,
   "id": "80b9035b-2c36-45d4-8b2a-f5fa0ebf2f78",
   "metadata": {},
   "outputs": [
    {
     "data": {
      "text/plain": [
       "array([0, 1, 2, 3, 4, 5, 6, 7, 8, 9])"
      ]
     },
     "execution_count": 19,
     "metadata": {},
     "output_type": "execute_result"
    }
   ],
   "source": [
    "np.arange(0,10)"
   ]
  },
  {
   "cell_type": "code",
   "execution_count": 20,
   "id": "391b0b8d-08b6-479f-90bc-8d071af27de3",
   "metadata": {},
   "outputs": [],
   "source": [
    "np_array = np.arange(0,10)"
   ]
  },
  {
   "cell_type": "code",
   "execution_count": 21,
   "id": "25aed81e-bc03-4acb-844a-ad5e1198cece",
   "metadata": {},
   "outputs": [
    {
     "data": {
      "text/plain": [
       "np.int64(0)"
      ]
     },
     "execution_count": 21,
     "metadata": {},
     "output_type": "execute_result"
    }
   ],
   "source": [
    "np_array[0]"
   ]
  },
  {
   "cell_type": "code",
   "execution_count": 22,
   "id": "4dcda154-737c-42d0-98aa-b682b7cfaf11",
   "metadata": {},
   "outputs": [
    {
     "data": {
      "text/plain": [
       "np.int64(9)"
      ]
     },
     "execution_count": 22,
     "metadata": {},
     "output_type": "execute_result"
    }
   ],
   "source": [
    "np_array[-1]"
   ]
  },
  {
   "cell_type": "code",
   "execution_count": 23,
   "id": "28036e40-4971-4a99-a14f-25f1eed20b86",
   "metadata": {},
   "outputs": [
    {
     "data": {
      "text/plain": [
       "array([9, 8, 7, 6, 5, 4, 3, 2, 1, 0])"
      ]
     },
     "execution_count": 23,
     "metadata": {},
     "output_type": "execute_result"
    }
   ],
   "source": [
    "np_array[::-1]"
   ]
  },
  {
   "cell_type": "code",
   "execution_count": 24,
   "id": "04af2671-dbbd-43df-acaa-f4929e172b6d",
   "metadata": {},
   "outputs": [
    {
     "data": {
      "text/plain": [
       "array([[-1.04054142, -0.86090198,  0.28637268,  1.20938015],\n",
       "       [ 1.17406557,  1.037879  ,  1.28372383,  1.38446162],\n",
       "       [-0.15771193, -0.71139824,  0.86938199, -0.16402442],\n",
       "       [ 0.3197882 , -1.28125788, -0.06024085, -0.97825894]])"
      ]
     },
     "execution_count": 24,
     "metadata": {},
     "output_type": "execute_result"
    }
   ],
   "source": [
    "np.random.randn(4,4)"
   ]
  },
  {
   "cell_type": "code",
   "execution_count": 25,
   "id": "3cee8e33-e0f8-428e-b368-8000b755e3a7",
   "metadata": {},
   "outputs": [
    {
     "data": {
      "text/plain": [
       "array([ 95, 211, 165,  85, 178])"
      ]
     },
     "execution_count": 25,
     "metadata": {},
     "output_type": "execute_result"
    }
   ],
   "source": [
    "np.random.randint(1,300,5)"
   ]
  },
  {
   "cell_type": "code",
   "execution_count": 27,
   "id": "a51e4bd1-f1d4-4bee-91b1-716340ac9a9e",
   "metadata": {},
   "outputs": [],
   "source": [
    "array1 = np.random.random((3,2))"
   ]
  },
  {
   "cell_type": "code",
   "execution_count": 28,
   "id": "3bab0490-1464-4684-a324-c9d12d2ceb49",
   "metadata": {},
   "outputs": [
    {
     "data": {
      "text/plain": [
       "array([[0.52222054, 0.09776395],\n",
       "       [0.52206444, 0.81582589],\n",
       "       [0.38894574, 0.38583962]])"
      ]
     },
     "execution_count": 28,
     "metadata": {},
     "output_type": "execute_result"
    }
   ],
   "source": [
    "array1"
   ]
  },
  {
   "cell_type": "code",
   "execution_count": 29,
   "id": "2a81d2c2-67c2-4798-8a0e-cea6475e8f31",
   "metadata": {},
   "outputs": [
    {
     "data": {
      "text/plain": [
       "np.float64(0.5220644430050898)"
      ]
     },
     "execution_count": 29,
     "metadata": {},
     "output_type": "execute_result"
    }
   ],
   "source": [
    "array1[1][0]"
   ]
  },
  {
   "cell_type": "code",
   "execution_count": 31,
   "id": "688e2f36-39f5-4370-9845-eb44769cedd3",
   "metadata": {},
   "outputs": [],
   "source": [
    "array2 = np.array([[3,2], [15,20]])"
   ]
  },
  {
   "cell_type": "code",
   "execution_count": 32,
   "id": "4d1442dc-6b1b-4cce-b5e7-3d09398c8a89",
   "metadata": {},
   "outputs": [
    {
     "data": {
      "text/plain": [
       "array([[ 3,  2],\n",
       "       [15, 20]])"
      ]
     },
     "execution_count": 32,
     "metadata": {},
     "output_type": "execute_result"
    }
   ],
   "source": [
    "array2"
   ]
  },
  {
   "cell_type": "code",
   "execution_count": 33,
   "id": "52d7e845-5eda-4e76-ad19-674b48682acb",
   "metadata": {},
   "outputs": [
    {
     "data": {
      "text/plain": [
       "array([[0., 0., 0., 0., 0.],\n",
       "       [0., 0., 0., 0., 0.],\n",
       "       [0., 0., 0., 0., 0.]])"
      ]
     },
     "execution_count": 33,
     "metadata": {},
     "output_type": "execute_result"
    }
   ],
   "source": [
    "np.zeros((3,5))"
   ]
  },
  {
   "cell_type": "code",
   "execution_count": 34,
   "id": "8b0e6a01-fe67-41c9-9acf-fb30aac63815",
   "metadata": {},
   "outputs": [],
   "source": [
    "first_array = np.array([[15,20], [30,40]])"
   ]
  },
  {
   "cell_type": "code",
   "execution_count": 36,
   "id": "1dbb545e-bbb3-48af-b217-e816b425b76e",
   "metadata": {},
   "outputs": [],
   "source": [
    "second_array = np.array([[3,4], [5,6]])"
   ]
  },
  {
   "cell_type": "code",
   "execution_count": 37,
   "id": "d307aac6-970a-4d14-a4f3-648b7849a7c0",
   "metadata": {},
   "outputs": [
    {
     "data": {
      "text/plain": [
       "array([[18, 24],\n",
       "       [35, 46]])"
      ]
     },
     "execution_count": 37,
     "metadata": {},
     "output_type": "execute_result"
    }
   ],
   "source": [
    "first_array + second_array\n"
   ]
  },
  {
   "cell_type": "code",
   "execution_count": 38,
   "id": "fa074469-6034-4d56-bd91-3627979893e7",
   "metadata": {},
   "outputs": [],
   "source": [
    "third_array = np.array([[50,60]])"
   ]
  },
  {
   "cell_type": "code",
   "execution_count": 39,
   "id": "5f6b88be-ab05-48aa-9e84-a7e05a5b3a45",
   "metadata": {},
   "outputs": [
    {
     "data": {
      "text/plain": [
       "array([[ 65,  80],\n",
       "       [ 80, 100]])"
      ]
     },
     "execution_count": 39,
     "metadata": {},
     "output_type": "execute_result"
    }
   ],
   "source": [
    "first_array + third_array "
   ]
  },
  {
   "cell_type": "code",
   "execution_count": 41,
   "id": "1f699373-9c4d-460e-b549-69e5a5daec66",
   "metadata": {},
   "outputs": [
    {
     "data": {
      "text/plain": [
       "array([[15, 20],\n",
       "       [30, 40]])"
      ]
     },
     "execution_count": 41,
     "metadata": {},
     "output_type": "execute_result"
    }
   ],
   "source": [
    "first_array"
   ]
  },
  {
   "cell_type": "code",
   "execution_count": 42,
   "id": "c14664d6-a004-44da-8927-340ce79831e9",
   "metadata": {},
   "outputs": [],
   "source": [
    "third_array = np.array([[10], [20]])"
   ]
  },
  {
   "cell_type": "code",
   "execution_count": 44,
   "id": "ce5face5-e8e5-4cb3-9dad-fb21a717b833",
   "metadata": {},
   "outputs": [
    {
     "data": {
      "text/plain": [
       "array([[10],\n",
       "       [20]])"
      ]
     },
     "execution_count": 44,
     "metadata": {},
     "output_type": "execute_result"
    }
   ],
   "source": [
    "third_array"
   ]
  },
  {
   "cell_type": "code",
   "execution_count": 45,
   "id": "9ee899f5-4518-4c12-bba5-d4a38376c806",
   "metadata": {},
   "outputs": [
    {
     "data": {
      "text/plain": [
       "array([[25, 30],\n",
       "       [50, 60]])"
      ]
     },
     "execution_count": 45,
     "metadata": {},
     "output_type": "execute_result"
    }
   ],
   "source": [
    "first_array + third_array "
   ]
  },
  {
   "cell_type": "code",
   "execution_count": 46,
   "id": "40dfed28-94c3-4501-b56a-d45c98d9050b",
   "metadata": {},
   "outputs": [
    {
     "data": {
      "text/plain": [
       "array([[15, 20],\n",
       "       [30, 40]])"
      ]
     },
     "execution_count": 46,
     "metadata": {},
     "output_type": "execute_result"
    }
   ],
   "source": [
    "first_array "
   ]
  },
  {
   "cell_type": "code",
   "execution_count": 47,
   "id": "8b2e84ec-4481-4d7e-b826-2b8d3b57e7c6",
   "metadata": {},
   "outputs": [
    {
     "data": {
      "text/plain": [
       "array([[3, 4],\n",
       "       [5, 6]])"
      ]
     },
     "execution_count": 47,
     "metadata": {},
     "output_type": "execute_result"
    }
   ],
   "source": [
    "second_array "
   ]
  },
  {
   "cell_type": "code",
   "execution_count": 48,
   "id": "43574a4e-ece6-43c3-ad11-3d453aca04b8",
   "metadata": {},
   "outputs": [
    {
     "data": {
      "text/plain": [
       "array([[ 45,  80],\n",
       "       [150, 240]])"
      ]
     },
     "execution_count": 48,
     "metadata": {},
     "output_type": "execute_result"
    }
   ],
   "source": [
    "first_array * second_array "
   ]
  },
  {
   "cell_type": "code",
   "execution_count": 49,
   "id": "ce2e2b7c-5af7-4f7e-aecf-dcf3ad1f3ceb",
   "metadata": {},
   "outputs": [],
   "source": [
    "#dot product"
   ]
  },
  {
   "cell_type": "code",
   "execution_count": 50,
   "id": "47d051ef-9e59-4b76-aa30-807205ea56c4",
   "metadata": {},
   "outputs": [],
   "source": [
    "first_matrix = np.array([[10,20,30]])"
   ]
  },
  {
   "cell_type": "code",
   "execution_count": 51,
   "id": "411e3c39-6bf4-4eec-9f96-2950a1b90fd9",
   "metadata": {},
   "outputs": [],
   "source": [
    "second_matrix = np.array([[2,3], [2,3], [2,3]])"
   ]
  },
  {
   "cell_type": "code",
   "execution_count": 52,
   "id": "b436b460-8545-461a-b472-47697f543b0b",
   "metadata": {},
   "outputs": [
    {
     "data": {
      "text/plain": [
       "array([[10, 20, 30]])"
      ]
     },
     "execution_count": 52,
     "metadata": {},
     "output_type": "execute_result"
    }
   ],
   "source": [
    "first_matrix"
   ]
  },
  {
   "cell_type": "code",
   "execution_count": 53,
   "id": "6aa10a51-590e-4de5-8770-3b814ffb5057",
   "metadata": {},
   "outputs": [
    {
     "data": {
      "text/plain": [
       "array([[2, 3],\n",
       "       [2, 3],\n",
       "       [2, 3]])"
      ]
     },
     "execution_count": 53,
     "metadata": {},
     "output_type": "execute_result"
    }
   ],
   "source": [
    "second_matrix"
   ]
  },
  {
   "cell_type": "code",
   "execution_count": 54,
   "id": "73cbd86d-9862-4875-8d98-ddf9f91a5aca",
   "metadata": {},
   "outputs": [],
   "source": [
    "result_matrix = first_matrix.dot(second_matrix)"
   ]
  },
  {
   "cell_type": "code",
   "execution_count": 55,
   "id": "e0e9a542-2a79-4e51-8a7b-d1c58a33c8fc",
   "metadata": {},
   "outputs": [
    {
     "data": {
      "text/plain": [
       "array([[120, 180]])"
      ]
     },
     "execution_count": 55,
     "metadata": {},
     "output_type": "execute_result"
    }
   ],
   "source": [
    "result_matrix"
   ]
  },
  {
   "cell_type": "code",
   "execution_count": 56,
   "id": "fd43ee2b-8cab-40f3-b7d5-b6fc83160165",
   "metadata": {},
   "outputs": [
    {
     "data": {
      "text/plain": [
       "(1, 2)"
      ]
     },
     "execution_count": 56,
     "metadata": {},
     "output_type": "execute_result"
    }
   ],
   "source": [
    "result_matrix.shape"
   ]
  },
  {
   "cell_type": "code",
   "execution_count": null,
   "id": "0703f28d-65b7-4ecf-be1d-88df891005a7",
   "metadata": {},
   "outputs": [],
   "source": []
  }
 ],
 "metadata": {
  "kernelspec": {
   "display_name": "Python 3 (ipykernel)",
   "language": "python",
   "name": "python3"
  },
  "language_info": {
   "codemirror_mode": {
    "name": "ipython",
    "version": 3
   },
   "file_extension": ".py",
   "mimetype": "text/x-python",
   "name": "python",
   "nbconvert_exporter": "python",
   "pygments_lexer": "ipython3",
   "version": "3.13.5"
  }
 },
 "nbformat": 4,
 "nbformat_minor": 5
}
