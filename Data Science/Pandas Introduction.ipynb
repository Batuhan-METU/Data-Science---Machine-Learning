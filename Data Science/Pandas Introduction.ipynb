{
 "cells": [
  {
   "cell_type": "code",
   "execution_count": 1,
   "id": "f834bb50-78fd-4b84-995f-b4aea371fa56",
   "metadata": {},
   "outputs": [],
   "source": [
    "import numpy as np "
   ]
  },
  {
   "cell_type": "code",
   "execution_count": 2,
   "id": "68191698-e6a4-4b5f-bad2-44055b77cc96",
   "metadata": {},
   "outputs": [],
   "source": [
    "import pandas as pd "
   ]
  },
  {
   "cell_type": "code",
   "execution_count": 3,
   "id": "1fc65fd0-7cc4-4fd7-b5c0-adc00205a4fe",
   "metadata": {},
   "outputs": [],
   "source": [
    "grades = {\"Atil\": 50, \"James\": 60, \"Lars\": 30}"
   ]
  },
  {
   "cell_type": "code",
   "execution_count": 4,
   "id": "8a5aae72-ec35-4c61-ba21-c320edf4ddf7",
   "metadata": {},
   "outputs": [
    {
     "data": {
      "text/plain": [
       "Atil     50\n",
       "James    60\n",
       "Lars     30\n",
       "dtype: int64"
      ]
     },
     "execution_count": 4,
     "metadata": {},
     "output_type": "execute_result"
    }
   ],
   "source": [
    "pd.Series(grades)"
   ]
  },
  {
   "cell_type": "code",
   "execution_count": 5,
   "id": "d9e2e291-17c1-47c3-8c97-8c4b5310a867",
   "metadata": {},
   "outputs": [],
   "source": [
    "names = [\"Atil\", \"James\", \"Lars\"]\n",
    "grades = [50,60,30]"
   ]
  },
  {
   "cell_type": "code",
   "execution_count": 6,
   "id": "dbce319c-9c8a-4d9d-91e1-4b58b76fd713",
   "metadata": {},
   "outputs": [
    {
     "data": {
      "text/plain": [
       "50     Atil\n",
       "60    James\n",
       "30     Lars\n",
       "dtype: object"
      ]
     },
     "execution_count": 6,
     "metadata": {},
     "output_type": "execute_result"
    }
   ],
   "source": [
    "pd.Series(names, grades)"
   ]
  },
  {
   "cell_type": "code",
   "execution_count": 7,
   "id": "eead546a-b237-43b8-9b5d-149db6574a96",
   "metadata": {},
   "outputs": [
    {
     "data": {
      "text/plain": [
       "Atil     50\n",
       "James    60\n",
       "Lars     30\n",
       "dtype: int64"
      ]
     },
     "execution_count": 7,
     "metadata": {},
     "output_type": "execute_result"
    }
   ],
   "source": [
    "pd.Series(grades, names)"
   ]
  },
  {
   "cell_type": "code",
   "execution_count": 8,
   "id": "55394115-ea05-4123-a739-f8178c321ae6",
   "metadata": {},
   "outputs": [],
   "source": [
    "#with numpy"
   ]
  },
  {
   "cell_type": "code",
   "execution_count": 9,
   "id": "60415bf8-fb0c-40e2-a9e7-e3bec7d769f8",
   "metadata": {},
   "outputs": [],
   "source": [
    "numpyArray = np.array([50,60,30,20])"
   ]
  },
  {
   "cell_type": "code",
   "execution_count": 10,
   "id": "bbb8967c-9b31-409e-be64-bd160de6a7dc",
   "metadata": {},
   "outputs": [
    {
     "data": {
      "text/plain": [
       "0    50\n",
       "1    60\n",
       "2    30\n",
       "3    20\n",
       "dtype: int64"
      ]
     },
     "execution_count": 10,
     "metadata": {},
     "output_type": "execute_result"
    }
   ],
   "source": [
    "pd.Series(numpyArray)"
   ]
  },
  {
   "cell_type": "code",
   "execution_count": 11,
   "id": "f1f6edbc-a14f-453f-837a-a70bd3feebe8",
   "metadata": {},
   "outputs": [],
   "source": [
    "#arithmetic"
   ]
  },
  {
   "cell_type": "code",
   "execution_count": 12,
   "id": "025f482d-dbed-4076-a1fe-ea606913c630",
   "metadata": {},
   "outputs": [],
   "source": [
    "contest_result1 = pd.Series(data = [10,5,100], index = [\"Atil\", \"James\", \"Lars\"])"
   ]
  },
  {
   "cell_type": "code",
   "execution_count": 13,
   "id": "0885b27d-b9dc-41cf-afee-76739d861038",
   "metadata": {},
   "outputs": [],
   "source": [
    "contest_result2 = pd.Series(data = [20,50,10], index = [\"Atil\", \"James\", \"Lars\"])"
   ]
  },
  {
   "cell_type": "code",
   "execution_count": 14,
   "id": "a5c12f40-9a84-4170-a422-edf05e618702",
   "metadata": {},
   "outputs": [
    {
     "data": {
      "text/plain": [
       "Atil      10\n",
       "James      5\n",
       "Lars     100\n",
       "dtype: int64"
      ]
     },
     "execution_count": 14,
     "metadata": {},
     "output_type": "execute_result"
    }
   ],
   "source": [
    "contest_result1"
   ]
  },
  {
   "cell_type": "code",
   "execution_count": 16,
   "id": "56036c70-5aa0-4977-9bd1-488c31bafeb8",
   "metadata": {},
   "outputs": [
    {
     "data": {
      "text/plain": [
       "np.int64(10)"
      ]
     },
     "execution_count": 16,
     "metadata": {},
     "output_type": "execute_result"
    }
   ],
   "source": [
    "contest_result1[\"Atil\"]"
   ]
  },
  {
   "cell_type": "code",
   "execution_count": 17,
   "id": "6f88a68f-adc5-471e-959f-2fd8091e730d",
   "metadata": {},
   "outputs": [
    {
     "data": {
      "text/plain": [
       "np.int64(50)"
      ]
     },
     "execution_count": 17,
     "metadata": {},
     "output_type": "execute_result"
    }
   ],
   "source": [
    "contest_result2[\"James\"]"
   ]
  },
  {
   "cell_type": "code",
   "execution_count": 18,
   "id": "9aeb0143-6ea5-4669-8fe1-317160c9e31a",
   "metadata": {},
   "outputs": [],
   "source": [
    "final_result = contest_result1 + contest_result2"
   ]
  },
  {
   "cell_type": "code",
   "execution_count": 19,
   "id": "87b29672-f5ff-4f68-b5e6-f701862bbf12",
   "metadata": {},
   "outputs": [
    {
     "data": {
      "text/plain": [
       "Atil      30\n",
       "James     55\n",
       "Lars     110\n",
       "dtype: int64"
      ]
     },
     "execution_count": 19,
     "metadata": {},
     "output_type": "execute_result"
    }
   ],
   "source": [
    "final_result"
   ]
  },
  {
   "cell_type": "code",
   "execution_count": 20,
   "id": "3a139843-7a5f-4e47-887b-79fa391ad942",
   "metadata": {},
   "outputs": [],
   "source": [
    "different_series1 = pd.Series(data = [20,30,40,50], index = [\"a\", \"b\", \"c\", \"d\"])"
   ]
  },
  {
   "cell_type": "code",
   "execution_count": 21,
   "id": "a5f70789-edd0-4d1a-b64e-860d2dbeb3fa",
   "metadata": {},
   "outputs": [],
   "source": [
    "different_series2 = pd.Series([10,5,3,1], [\"a\", \"c\", \"f\", \"g\"])"
   ]
  },
  {
   "cell_type": "code",
   "execution_count": 22,
   "id": "12bee815-0471-4ff8-a134-40c812992bd5",
   "metadata": {},
   "outputs": [
    {
     "data": {
      "text/plain": [
       "a    30.0\n",
       "b     NaN\n",
       "c    45.0\n",
       "d     NaN\n",
       "f     NaN\n",
       "g     NaN\n",
       "dtype: float64"
      ]
     },
     "execution_count": 22,
     "metadata": {},
     "output_type": "execute_result"
    }
   ],
   "source": [
    "different_series1 + different_series2 "
   ]
  },
  {
   "cell_type": "code",
   "execution_count": 23,
   "id": "797cb9a6-2610-49ce-b806-a1f672ca273d",
   "metadata": {},
   "outputs": [],
   "source": [
    "data = np.random.randn(4,3)"
   ]
  },
  {
   "cell_type": "code",
   "execution_count": 24,
   "id": "616a99b2-2d13-4a7b-8677-24e3e34f75eb",
   "metadata": {},
   "outputs": [
    {
     "data": {
      "text/plain": [
       "array([[ 1.56414905, -0.56905796, -0.28273588],\n",
       "       [ 0.35039056,  2.05038469,  0.30044774],\n",
       "       [ 2.63188198,  1.6572324 ,  0.43825067],\n",
       "       [-1.7575999 ,  0.14803606,  0.86793441]])"
      ]
     },
     "execution_count": 24,
     "metadata": {},
     "output_type": "execute_result"
    }
   ],
   "source": [
    "data"
   ]
  },
  {
   "cell_type": "code",
   "execution_count": 27,
   "id": "32bf1043-ef74-4731-b49d-80e36ad251a6",
   "metadata": {},
   "outputs": [],
   "source": [
    "data_frame = pd.DataFrame(data)"
   ]
  },
  {
   "cell_type": "code",
   "execution_count": 28,
   "id": "a9c4bb8a-58ff-4829-9962-49884945699c",
   "metadata": {},
   "outputs": [
    {
     "data": {
      "text/html": [
       "<div>\n",
       "<style scoped>\n",
       "    .dataframe tbody tr th:only-of-type {\n",
       "        vertical-align: middle;\n",
       "    }\n",
       "\n",
       "    .dataframe tbody tr th {\n",
       "        vertical-align: top;\n",
       "    }\n",
       "\n",
       "    .dataframe thead th {\n",
       "        text-align: right;\n",
       "    }\n",
       "</style>\n",
       "<table border=\"1\" class=\"dataframe\">\n",
       "  <thead>\n",
       "    <tr style=\"text-align: right;\">\n",
       "      <th></th>\n",
       "      <th>0</th>\n",
       "      <th>1</th>\n",
       "      <th>2</th>\n",
       "    </tr>\n",
       "  </thead>\n",
       "  <tbody>\n",
       "    <tr>\n",
       "      <th>0</th>\n",
       "      <td>1.564149</td>\n",
       "      <td>-0.569058</td>\n",
       "      <td>-0.282736</td>\n",
       "    </tr>\n",
       "    <tr>\n",
       "      <th>1</th>\n",
       "      <td>0.350391</td>\n",
       "      <td>2.050385</td>\n",
       "      <td>0.300448</td>\n",
       "    </tr>\n",
       "    <tr>\n",
       "      <th>2</th>\n",
       "      <td>2.631882</td>\n",
       "      <td>1.657232</td>\n",
       "      <td>0.438251</td>\n",
       "    </tr>\n",
       "    <tr>\n",
       "      <th>3</th>\n",
       "      <td>-1.757600</td>\n",
       "      <td>0.148036</td>\n",
       "      <td>0.867934</td>\n",
       "    </tr>\n",
       "  </tbody>\n",
       "</table>\n",
       "</div>"
      ],
      "text/plain": [
       "          0         1         2\n",
       "0  1.564149 -0.569058 -0.282736\n",
       "1  0.350391  2.050385  0.300448\n",
       "2  2.631882  1.657232  0.438251\n",
       "3 -1.757600  0.148036  0.867934"
      ]
     },
     "execution_count": 28,
     "metadata": {},
     "output_type": "execute_result"
    }
   ],
   "source": [
    "data_frame"
   ]
  },
  {
   "cell_type": "code",
   "execution_count": 29,
   "id": "99c190db-3338-43f9-9687-6ab46d8eb0b0",
   "metadata": {},
   "outputs": [
    {
     "data": {
      "text/plain": [
       "0    1.564149\n",
       "1    0.350391\n",
       "2    2.631882\n",
       "3   -1.757600\n",
       "Name: 0, dtype: float64"
      ]
     },
     "execution_count": 29,
     "metadata": {},
     "output_type": "execute_result"
    }
   ],
   "source": [
    "data_frame[0]"
   ]
  },
  {
   "cell_type": "code",
   "execution_count": 30,
   "id": "8f0b61c9-3ea7-4639-9769-efc153ef0f10",
   "metadata": {},
   "outputs": [],
   "source": [
    "new_df = pd.DataFrame(data, index = [\"Atil\", \"Zeynep\", \"Atlas\", \"Mehmet\"], columns = [\"Salary\", \"Age\", \"Seniority\"])"
   ]
  },
  {
   "cell_type": "code",
   "execution_count": 31,
   "id": "ae388092-1c38-4cb7-a4e1-dffb77db298d",
   "metadata": {},
   "outputs": [
    {
     "data": {
      "text/html": [
       "<div>\n",
       "<style scoped>\n",
       "    .dataframe tbody tr th:only-of-type {\n",
       "        vertical-align: middle;\n",
       "    }\n",
       "\n",
       "    .dataframe tbody tr th {\n",
       "        vertical-align: top;\n",
       "    }\n",
       "\n",
       "    .dataframe thead th {\n",
       "        text-align: right;\n",
       "    }\n",
       "</style>\n",
       "<table border=\"1\" class=\"dataframe\">\n",
       "  <thead>\n",
       "    <tr style=\"text-align: right;\">\n",
       "      <th></th>\n",
       "      <th>Salary</th>\n",
       "      <th>Age</th>\n",
       "      <th>Seniority</th>\n",
       "    </tr>\n",
       "  </thead>\n",
       "  <tbody>\n",
       "    <tr>\n",
       "      <th>Atil</th>\n",
       "      <td>1.564149</td>\n",
       "      <td>-0.569058</td>\n",
       "      <td>-0.282736</td>\n",
       "    </tr>\n",
       "    <tr>\n",
       "      <th>Zeynep</th>\n",
       "      <td>0.350391</td>\n",
       "      <td>2.050385</td>\n",
       "      <td>0.300448</td>\n",
       "    </tr>\n",
       "    <tr>\n",
       "      <th>Atlas</th>\n",
       "      <td>2.631882</td>\n",
       "      <td>1.657232</td>\n",
       "      <td>0.438251</td>\n",
       "    </tr>\n",
       "    <tr>\n",
       "      <th>Mehmet</th>\n",
       "      <td>-1.757600</td>\n",
       "      <td>0.148036</td>\n",
       "      <td>0.867934</td>\n",
       "    </tr>\n",
       "  </tbody>\n",
       "</table>\n",
       "</div>"
      ],
      "text/plain": [
       "          Salary       Age  Seniority\n",
       "Atil    1.564149 -0.569058  -0.282736\n",
       "Zeynep  0.350391  2.050385   0.300448\n",
       "Atlas   2.631882  1.657232   0.438251\n",
       "Mehmet -1.757600  0.148036   0.867934"
      ]
     },
     "execution_count": 31,
     "metadata": {},
     "output_type": "execute_result"
    }
   ],
   "source": [
    "new_df"
   ]
  },
  {
   "cell_type": "code",
   "execution_count": 32,
   "id": "c367e490-4c0e-4290-856e-6cb256dcd402",
   "metadata": {},
   "outputs": [
    {
     "data": {
      "text/plain": [
       "Atil     -0.569058\n",
       "Zeynep    2.050385\n",
       "Atlas     1.657232\n",
       "Mehmet    0.148036\n",
       "Name: Age, dtype: float64"
      ]
     },
     "execution_count": 32,
     "metadata": {},
     "output_type": "execute_result"
    }
   ],
   "source": [
    "new_df[\"Age\"]"
   ]
  },
  {
   "cell_type": "code",
   "execution_count": 33,
   "id": "c8cfce3d-4601-49a8-9945-3c25b2761e31",
   "metadata": {},
   "outputs": [
    {
     "data": {
      "text/plain": [
       "Atil      1.564149\n",
       "Zeynep    0.350391\n",
       "Atlas     2.631882\n",
       "Mehmet   -1.757600\n",
       "Name: Salary, dtype: float64"
      ]
     },
     "execution_count": 33,
     "metadata": {},
     "output_type": "execute_result"
    }
   ],
   "source": [
    "new_df[\"Salary\"]"
   ]
  },
  {
   "cell_type": "code",
   "execution_count": 34,
   "id": "36607c54-c956-4fe3-b009-338755d4b25e",
   "metadata": {},
   "outputs": [
    {
     "data": {
      "text/plain": [
       "Salary       1.564149\n",
       "Age         -0.569058\n",
       "Seniority   -0.282736\n",
       "Name: Atil, dtype: float64"
      ]
     },
     "execution_count": 34,
     "metadata": {},
     "output_type": "execute_result"
    }
   ],
   "source": [
    "new_df.loc[\"Atil\"]"
   ]
  },
  {
   "cell_type": "code",
   "execution_count": 35,
   "id": "2fe4fa7b-d8d9-4492-b8b8-d6b11100c495",
   "metadata": {},
   "outputs": [
    {
     "data": {
      "text/plain": [
       "Salary       1.564149\n",
       "Age         -0.569058\n",
       "Seniority   -0.282736\n",
       "Name: Atil, dtype: float64"
      ]
     },
     "execution_count": 35,
     "metadata": {},
     "output_type": "execute_result"
    }
   ],
   "source": [
    "new_df.iloc[0]"
   ]
  },
  {
   "cell_type": "code",
   "execution_count": 36,
   "id": "a1fd1386-e45c-468c-a191-c700fbdf35a7",
   "metadata": {},
   "outputs": [
    {
     "data": {
      "text/plain": [
       "Salary       0.350391\n",
       "Age          2.050385\n",
       "Seniority    0.300448\n",
       "Name: Zeynep, dtype: float64"
      ]
     },
     "execution_count": 36,
     "metadata": {},
     "output_type": "execute_result"
    }
   ],
   "source": [
    "new_df.iloc[1]"
   ]
  },
  {
   "cell_type": "code",
   "execution_count": 37,
   "id": "47591aa0-86d4-4e20-8d19-541692941668",
   "metadata": {},
   "outputs": [
    {
     "data": {
      "text/html": [
       "<div>\n",
       "<style scoped>\n",
       "    .dataframe tbody tr th:only-of-type {\n",
       "        vertical-align: middle;\n",
       "    }\n",
       "\n",
       "    .dataframe tbody tr th {\n",
       "        vertical-align: top;\n",
       "    }\n",
       "\n",
       "    .dataframe thead th {\n",
       "        text-align: right;\n",
       "    }\n",
       "</style>\n",
       "<table border=\"1\" class=\"dataframe\">\n",
       "  <thead>\n",
       "    <tr style=\"text-align: right;\">\n",
       "      <th></th>\n",
       "      <th>Salary</th>\n",
       "      <th>Age</th>\n",
       "      <th>Seniority</th>\n",
       "    </tr>\n",
       "  </thead>\n",
       "  <tbody>\n",
       "    <tr>\n",
       "      <th>Atil</th>\n",
       "      <td>1.564149</td>\n",
       "      <td>-0.569058</td>\n",
       "      <td>-0.282736</td>\n",
       "    </tr>\n",
       "    <tr>\n",
       "      <th>Zeynep</th>\n",
       "      <td>0.350391</td>\n",
       "      <td>2.050385</td>\n",
       "      <td>0.300448</td>\n",
       "    </tr>\n",
       "    <tr>\n",
       "      <th>Atlas</th>\n",
       "      <td>2.631882</td>\n",
       "      <td>1.657232</td>\n",
       "      <td>0.438251</td>\n",
       "    </tr>\n",
       "    <tr>\n",
       "      <th>Mehmet</th>\n",
       "      <td>-1.757600</td>\n",
       "      <td>0.148036</td>\n",
       "      <td>0.867934</td>\n",
       "    </tr>\n",
       "  </tbody>\n",
       "</table>\n",
       "</div>"
      ],
      "text/plain": [
       "          Salary       Age  Seniority\n",
       "Atil    1.564149 -0.569058  -0.282736\n",
       "Zeynep  0.350391  2.050385   0.300448\n",
       "Atlas   2.631882  1.657232   0.438251\n",
       "Mehmet -1.757600  0.148036   0.867934"
      ]
     },
     "execution_count": 37,
     "metadata": {},
     "output_type": "execute_result"
    }
   ],
   "source": [
    "new_df"
   ]
  },
  {
   "cell_type": "code",
   "execution_count": 38,
   "id": "617d5e96-62d1-45ed-a3f9-b1df5c3c0bb7",
   "metadata": {},
   "outputs": [
    {
     "data": {
      "text/plain": [
       "Atil     -0.282736\n",
       "Zeynep    0.300448\n",
       "Atlas     0.438251\n",
       "Mehmet    0.867934\n",
       "Name: Seniority, dtype: float64"
      ]
     },
     "execution_count": 38,
     "metadata": {},
     "output_type": "execute_result"
    }
   ],
   "source": [
    "new_df.iloc[:,2]"
   ]
  },
  {
   "cell_type": "code",
   "execution_count": 39,
   "id": "cabed4ac-5142-461a-a1ac-649043c7116f",
   "metadata": {},
   "outputs": [
    {
     "data": {
      "text/plain": [
       "np.float64(0.8679344148986239)"
      ]
     },
     "execution_count": 39,
     "metadata": {},
     "output_type": "execute_result"
    }
   ],
   "source": [
    "new_df.iloc[3,2]"
   ]
  },
  {
   "cell_type": "code",
   "execution_count": 40,
   "id": "27359da8-4a7b-4e3e-ae62-c9b7f130e2b7",
   "metadata": {},
   "outputs": [],
   "source": [
    "#iloc kullanarak row, column mantığına erişebilirsin. "
   ]
  },
  {
   "cell_type": "code",
   "execution_count": 41,
   "id": "982d5558-f039-4aa2-a4c6-95ef99417027",
   "metadata": {},
   "outputs": [],
   "source": [
    "new_df[\"Extra\"] = 10 "
   ]
  },
  {
   "cell_type": "code",
   "execution_count": 42,
   "id": "4ea4c4ac-02db-4fa5-92e0-85dc804a5bf5",
   "metadata": {},
   "outputs": [
    {
     "data": {
      "text/html": [
       "<div>\n",
       "<style scoped>\n",
       "    .dataframe tbody tr th:only-of-type {\n",
       "        vertical-align: middle;\n",
       "    }\n",
       "\n",
       "    .dataframe tbody tr th {\n",
       "        vertical-align: top;\n",
       "    }\n",
       "\n",
       "    .dataframe thead th {\n",
       "        text-align: right;\n",
       "    }\n",
       "</style>\n",
       "<table border=\"1\" class=\"dataframe\">\n",
       "  <thead>\n",
       "    <tr style=\"text-align: right;\">\n",
       "      <th></th>\n",
       "      <th>Salary</th>\n",
       "      <th>Age</th>\n",
       "      <th>Seniority</th>\n",
       "      <th>Extra</th>\n",
       "    </tr>\n",
       "  </thead>\n",
       "  <tbody>\n",
       "    <tr>\n",
       "      <th>Atil</th>\n",
       "      <td>1.564149</td>\n",
       "      <td>-0.569058</td>\n",
       "      <td>-0.282736</td>\n",
       "      <td>10</td>\n",
       "    </tr>\n",
       "    <tr>\n",
       "      <th>Zeynep</th>\n",
       "      <td>0.350391</td>\n",
       "      <td>2.050385</td>\n",
       "      <td>0.300448</td>\n",
       "      <td>10</td>\n",
       "    </tr>\n",
       "    <tr>\n",
       "      <th>Atlas</th>\n",
       "      <td>2.631882</td>\n",
       "      <td>1.657232</td>\n",
       "      <td>0.438251</td>\n",
       "      <td>10</td>\n",
       "    </tr>\n",
       "    <tr>\n",
       "      <th>Mehmet</th>\n",
       "      <td>-1.757600</td>\n",
       "      <td>0.148036</td>\n",
       "      <td>0.867934</td>\n",
       "      <td>10</td>\n",
       "    </tr>\n",
       "  </tbody>\n",
       "</table>\n",
       "</div>"
      ],
      "text/plain": [
       "          Salary       Age  Seniority  Extra\n",
       "Atil    1.564149 -0.569058  -0.282736     10\n",
       "Zeynep  0.350391  2.050385   0.300448     10\n",
       "Atlas   2.631882  1.657232   0.438251     10\n",
       "Mehmet -1.757600  0.148036   0.867934     10"
      ]
     },
     "execution_count": 42,
     "metadata": {},
     "output_type": "execute_result"
    }
   ],
   "source": [
    "new_df"
   ]
  },
  {
   "cell_type": "code",
   "execution_count": 44,
   "id": "df858fe0-ddbb-4749-860c-333cf22c30e2",
   "metadata": {},
   "outputs": [
    {
     "data": {
      "text/html": [
       "<div>\n",
       "<style scoped>\n",
       "    .dataframe tbody tr th:only-of-type {\n",
       "        vertical-align: middle;\n",
       "    }\n",
       "\n",
       "    .dataframe tbody tr th {\n",
       "        vertical-align: top;\n",
       "    }\n",
       "\n",
       "    .dataframe thead th {\n",
       "        text-align: right;\n",
       "    }\n",
       "</style>\n",
       "<table border=\"1\" class=\"dataframe\">\n",
       "  <thead>\n",
       "    <tr style=\"text-align: right;\">\n",
       "      <th></th>\n",
       "      <th>Salary</th>\n",
       "      <th>Age</th>\n",
       "      <th>Seniority</th>\n",
       "    </tr>\n",
       "  </thead>\n",
       "  <tbody>\n",
       "    <tr>\n",
       "      <th>Atil</th>\n",
       "      <td>1.564149</td>\n",
       "      <td>-0.569058</td>\n",
       "      <td>-0.282736</td>\n",
       "    </tr>\n",
       "    <tr>\n",
       "      <th>Zeynep</th>\n",
       "      <td>0.350391</td>\n",
       "      <td>2.050385</td>\n",
       "      <td>0.300448</td>\n",
       "    </tr>\n",
       "    <tr>\n",
       "      <th>Atlas</th>\n",
       "      <td>2.631882</td>\n",
       "      <td>1.657232</td>\n",
       "      <td>0.438251</td>\n",
       "    </tr>\n",
       "    <tr>\n",
       "      <th>Mehmet</th>\n",
       "      <td>-1.757600</td>\n",
       "      <td>0.148036</td>\n",
       "      <td>0.867934</td>\n",
       "    </tr>\n",
       "  </tbody>\n",
       "</table>\n",
       "</div>"
      ],
      "text/plain": [
       "          Salary       Age  Seniority\n",
       "Atil    1.564149 -0.569058  -0.282736\n",
       "Zeynep  0.350391  2.050385   0.300448\n",
       "Atlas   2.631882  1.657232   0.438251\n",
       "Mehmet -1.757600  0.148036   0.867934"
      ]
     },
     "execution_count": 44,
     "metadata": {},
     "output_type": "execute_result"
    }
   ],
   "source": [
    "new_df.drop(\"Extra\", axis = 1)"
   ]
  },
  {
   "cell_type": "code",
   "execution_count": 45,
   "id": "e036d879-de22-40b9-af70-01d8bc34b0c9",
   "metadata": {},
   "outputs": [
    {
     "data": {
      "text/html": [
       "<div>\n",
       "<style scoped>\n",
       "    .dataframe tbody tr th:only-of-type {\n",
       "        vertical-align: middle;\n",
       "    }\n",
       "\n",
       "    .dataframe tbody tr th {\n",
       "        vertical-align: top;\n",
       "    }\n",
       "\n",
       "    .dataframe thead th {\n",
       "        text-align: right;\n",
       "    }\n",
       "</style>\n",
       "<table border=\"1\" class=\"dataframe\">\n",
       "  <thead>\n",
       "    <tr style=\"text-align: right;\">\n",
       "      <th></th>\n",
       "      <th>Salary</th>\n",
       "      <th>Age</th>\n",
       "      <th>Seniority</th>\n",
       "      <th>Extra</th>\n",
       "    </tr>\n",
       "  </thead>\n",
       "  <tbody>\n",
       "    <tr>\n",
       "      <th>Atil</th>\n",
       "      <td>1.564149</td>\n",
       "      <td>-0.569058</td>\n",
       "      <td>-0.282736</td>\n",
       "      <td>10</td>\n",
       "    </tr>\n",
       "    <tr>\n",
       "      <th>Zeynep</th>\n",
       "      <td>0.350391</td>\n",
       "      <td>2.050385</td>\n",
       "      <td>0.300448</td>\n",
       "      <td>10</td>\n",
       "    </tr>\n",
       "    <tr>\n",
       "      <th>Atlas</th>\n",
       "      <td>2.631882</td>\n",
       "      <td>1.657232</td>\n",
       "      <td>0.438251</td>\n",
       "      <td>10</td>\n",
       "    </tr>\n",
       "    <tr>\n",
       "      <th>Mehmet</th>\n",
       "      <td>-1.757600</td>\n",
       "      <td>0.148036</td>\n",
       "      <td>0.867934</td>\n",
       "      <td>10</td>\n",
       "    </tr>\n",
       "  </tbody>\n",
       "</table>\n",
       "</div>"
      ],
      "text/plain": [
       "          Salary       Age  Seniority  Extra\n",
       "Atil    1.564149 -0.569058  -0.282736     10\n",
       "Zeynep  0.350391  2.050385   0.300448     10\n",
       "Atlas   2.631882  1.657232   0.438251     10\n",
       "Mehmet -1.757600  0.148036   0.867934     10"
      ]
     },
     "execution_count": 45,
     "metadata": {},
     "output_type": "execute_result"
    }
   ],
   "source": [
    "new_df"
   ]
  },
  {
   "cell_type": "code",
   "execution_count": 46,
   "id": "3ac54268-1b96-403d-a816-3ba4b6e083bf",
   "metadata": {},
   "outputs": [],
   "source": [
    "new_df.drop(\"Extra\", axis = 1, inplace= True)"
   ]
  },
  {
   "cell_type": "code",
   "execution_count": 47,
   "id": "4a894722-f56c-4d5b-8058-ab79057e7200",
   "metadata": {},
   "outputs": [
    {
     "data": {
      "text/html": [
       "<div>\n",
       "<style scoped>\n",
       "    .dataframe tbody tr th:only-of-type {\n",
       "        vertical-align: middle;\n",
       "    }\n",
       "\n",
       "    .dataframe tbody tr th {\n",
       "        vertical-align: top;\n",
       "    }\n",
       "\n",
       "    .dataframe thead th {\n",
       "        text-align: right;\n",
       "    }\n",
       "</style>\n",
       "<table border=\"1\" class=\"dataframe\">\n",
       "  <thead>\n",
       "    <tr style=\"text-align: right;\">\n",
       "      <th></th>\n",
       "      <th>Salary</th>\n",
       "      <th>Age</th>\n",
       "      <th>Seniority</th>\n",
       "    </tr>\n",
       "  </thead>\n",
       "  <tbody>\n",
       "    <tr>\n",
       "      <th>Atil</th>\n",
       "      <td>1.564149</td>\n",
       "      <td>-0.569058</td>\n",
       "      <td>-0.282736</td>\n",
       "    </tr>\n",
       "    <tr>\n",
       "      <th>Zeynep</th>\n",
       "      <td>0.350391</td>\n",
       "      <td>2.050385</td>\n",
       "      <td>0.300448</td>\n",
       "    </tr>\n",
       "    <tr>\n",
       "      <th>Atlas</th>\n",
       "      <td>2.631882</td>\n",
       "      <td>1.657232</td>\n",
       "      <td>0.438251</td>\n",
       "    </tr>\n",
       "    <tr>\n",
       "      <th>Mehmet</th>\n",
       "      <td>-1.757600</td>\n",
       "      <td>0.148036</td>\n",
       "      <td>0.867934</td>\n",
       "    </tr>\n",
       "  </tbody>\n",
       "</table>\n",
       "</div>"
      ],
      "text/plain": [
       "          Salary       Age  Seniority\n",
       "Atil    1.564149 -0.569058  -0.282736\n",
       "Zeynep  0.350391  2.050385   0.300448\n",
       "Atlas   2.631882  1.657232   0.438251\n",
       "Mehmet -1.757600  0.148036   0.867934"
      ]
     },
     "execution_count": 47,
     "metadata": {},
     "output_type": "execute_result"
    }
   ],
   "source": [
    "new_df"
   ]
  },
  {
   "cell_type": "code",
   "execution_count": 48,
   "id": "edfb4750-92e8-4c76-8d23-cf5086eca19c",
   "metadata": {},
   "outputs": [],
   "source": [
    "new_df[\"Mehmet\"] = 10"
   ]
  },
  {
   "cell_type": "code",
   "execution_count": 49,
   "id": "16cf160c-3704-435b-9493-4099a60349fb",
   "metadata": {},
   "outputs": [
    {
     "data": {
      "text/html": [
       "<div>\n",
       "<style scoped>\n",
       "    .dataframe tbody tr th:only-of-type {\n",
       "        vertical-align: middle;\n",
       "    }\n",
       "\n",
       "    .dataframe tbody tr th {\n",
       "        vertical-align: top;\n",
       "    }\n",
       "\n",
       "    .dataframe thead th {\n",
       "        text-align: right;\n",
       "    }\n",
       "</style>\n",
       "<table border=\"1\" class=\"dataframe\">\n",
       "  <thead>\n",
       "    <tr style=\"text-align: right;\">\n",
       "      <th></th>\n",
       "      <th>Salary</th>\n",
       "      <th>Age</th>\n",
       "      <th>Seniority</th>\n",
       "      <th>Mehmet</th>\n",
       "    </tr>\n",
       "  </thead>\n",
       "  <tbody>\n",
       "    <tr>\n",
       "      <th>Atil</th>\n",
       "      <td>1.564149</td>\n",
       "      <td>-0.569058</td>\n",
       "      <td>-0.282736</td>\n",
       "      <td>10</td>\n",
       "    </tr>\n",
       "    <tr>\n",
       "      <th>Zeynep</th>\n",
       "      <td>0.350391</td>\n",
       "      <td>2.050385</td>\n",
       "      <td>0.300448</td>\n",
       "      <td>10</td>\n",
       "    </tr>\n",
       "    <tr>\n",
       "      <th>Atlas</th>\n",
       "      <td>2.631882</td>\n",
       "      <td>1.657232</td>\n",
       "      <td>0.438251</td>\n",
       "      <td>10</td>\n",
       "    </tr>\n",
       "    <tr>\n",
       "      <th>Mehmet</th>\n",
       "      <td>-1.757600</td>\n",
       "      <td>0.148036</td>\n",
       "      <td>0.867934</td>\n",
       "      <td>10</td>\n",
       "    </tr>\n",
       "  </tbody>\n",
       "</table>\n",
       "</div>"
      ],
      "text/plain": [
       "          Salary       Age  Seniority  Mehmet\n",
       "Atil    1.564149 -0.569058  -0.282736      10\n",
       "Zeynep  0.350391  2.050385   0.300448      10\n",
       "Atlas   2.631882  1.657232   0.438251      10\n",
       "Mehmet -1.757600  0.148036   0.867934      10"
      ]
     },
     "execution_count": 49,
     "metadata": {},
     "output_type": "execute_result"
    }
   ],
   "source": [
    "new_df"
   ]
  },
  {
   "cell_type": "code",
   "execution_count": 50,
   "id": "a1c5dd8a-7002-4a5b-b166-f4978ec8a2d8",
   "metadata": {},
   "outputs": [
    {
     "data": {
      "text/html": [
       "<div>\n",
       "<style scoped>\n",
       "    .dataframe tbody tr th:only-of-type {\n",
       "        vertical-align: middle;\n",
       "    }\n",
       "\n",
       "    .dataframe tbody tr th {\n",
       "        vertical-align: top;\n",
       "    }\n",
       "\n",
       "    .dataframe thead th {\n",
       "        text-align: right;\n",
       "    }\n",
       "</style>\n",
       "<table border=\"1\" class=\"dataframe\">\n",
       "  <thead>\n",
       "    <tr style=\"text-align: right;\">\n",
       "      <th></th>\n",
       "      <th>Salary</th>\n",
       "      <th>Age</th>\n",
       "      <th>Seniority</th>\n",
       "      <th>Mehmet</th>\n",
       "    </tr>\n",
       "  </thead>\n",
       "  <tbody>\n",
       "    <tr>\n",
       "      <th>Atil</th>\n",
       "      <td>1.564149</td>\n",
       "      <td>-0.569058</td>\n",
       "      <td>-0.282736</td>\n",
       "      <td>10</td>\n",
       "    </tr>\n",
       "    <tr>\n",
       "      <th>Zeynep</th>\n",
       "      <td>0.350391</td>\n",
       "      <td>2.050385</td>\n",
       "      <td>0.300448</td>\n",
       "      <td>10</td>\n",
       "    </tr>\n",
       "    <tr>\n",
       "      <th>Atlas</th>\n",
       "      <td>2.631882</td>\n",
       "      <td>1.657232</td>\n",
       "      <td>0.438251</td>\n",
       "      <td>10</td>\n",
       "    </tr>\n",
       "  </tbody>\n",
       "</table>\n",
       "</div>"
      ],
      "text/plain": [
       "          Salary       Age  Seniority  Mehmet\n",
       "Atil    1.564149 -0.569058  -0.282736      10\n",
       "Zeynep  0.350391  2.050385   0.300448      10\n",
       "Atlas   2.631882  1.657232   0.438251      10"
      ]
     },
     "execution_count": 50,
     "metadata": {},
     "output_type": "execute_result"
    }
   ],
   "source": [
    "new_df.drop(\"Mehmet\") "
   ]
  },
  {
   "cell_type": "code",
   "execution_count": 51,
   "id": "78fcfd84-5ffe-4145-9f04-75a8a26c887e",
   "metadata": {},
   "outputs": [],
   "source": [
    "new_df.drop(\"Mehmet\", axis = 1, inplace = True)"
   ]
  },
  {
   "cell_type": "code",
   "execution_count": 52,
   "id": "45bd0aca-97b7-463b-b4bb-a3d790760781",
   "metadata": {},
   "outputs": [
    {
     "data": {
      "text/html": [
       "<div>\n",
       "<style scoped>\n",
       "    .dataframe tbody tr th:only-of-type {\n",
       "        vertical-align: middle;\n",
       "    }\n",
       "\n",
       "    .dataframe tbody tr th {\n",
       "        vertical-align: top;\n",
       "    }\n",
       "\n",
       "    .dataframe thead th {\n",
       "        text-align: right;\n",
       "    }\n",
       "</style>\n",
       "<table border=\"1\" class=\"dataframe\">\n",
       "  <thead>\n",
       "    <tr style=\"text-align: right;\">\n",
       "      <th></th>\n",
       "      <th>Salary</th>\n",
       "      <th>Age</th>\n",
       "      <th>Seniority</th>\n",
       "    </tr>\n",
       "  </thead>\n",
       "  <tbody>\n",
       "    <tr>\n",
       "      <th>Atil</th>\n",
       "      <td>1.564149</td>\n",
       "      <td>-0.569058</td>\n",
       "      <td>-0.282736</td>\n",
       "    </tr>\n",
       "    <tr>\n",
       "      <th>Zeynep</th>\n",
       "      <td>0.350391</td>\n",
       "      <td>2.050385</td>\n",
       "      <td>0.300448</td>\n",
       "    </tr>\n",
       "    <tr>\n",
       "      <th>Atlas</th>\n",
       "      <td>2.631882</td>\n",
       "      <td>1.657232</td>\n",
       "      <td>0.438251</td>\n",
       "    </tr>\n",
       "    <tr>\n",
       "      <th>Mehmet</th>\n",
       "      <td>-1.757600</td>\n",
       "      <td>0.148036</td>\n",
       "      <td>0.867934</td>\n",
       "    </tr>\n",
       "  </tbody>\n",
       "</table>\n",
       "</div>"
      ],
      "text/plain": [
       "          Salary       Age  Seniority\n",
       "Atil    1.564149 -0.569058  -0.282736\n",
       "Zeynep  0.350391  2.050385   0.300448\n",
       "Atlas   2.631882  1.657232   0.438251\n",
       "Mehmet -1.757600  0.148036   0.867934"
      ]
     },
     "execution_count": 52,
     "metadata": {},
     "output_type": "execute_result"
    }
   ],
   "source": [
    "new_df"
   ]
  },
  {
   "cell_type": "code",
   "execution_count": 53,
   "id": "aa31a94f-fe36-40dc-8b3a-9edf9fb4353a",
   "metadata": {},
   "outputs": [
    {
     "data": {
      "text/plain": [
       "Salary       2.631882\n",
       "Age          1.657232\n",
       "Seniority    0.438251\n",
       "Name: Atlas, dtype: float64"
      ]
     },
     "execution_count": 53,
     "metadata": {},
     "output_type": "execute_result"
    }
   ],
   "source": [
    "new_df.loc[\"Atlas\"]"
   ]
  },
  {
   "cell_type": "code",
   "execution_count": 54,
   "id": "c464d5ee-fd1d-40a7-baba-800035794c4f",
   "metadata": {},
   "outputs": [
    {
     "data": {
      "text/plain": [
       "np.float64(2.6318819767960835)"
      ]
     },
     "execution_count": 54,
     "metadata": {},
     "output_type": "execute_result"
    }
   ],
   "source": [
    "new_df.loc[\"Atlas\"][\"Salary\"]"
   ]
  },
  {
   "cell_type": "code",
   "execution_count": 55,
   "id": "e755fd93-0a2b-42c7-a0c6-66edd59c3d6c",
   "metadata": {},
   "outputs": [
    {
     "data": {
      "text/plain": [
       "np.float64(2.6318819767960835)"
      ]
     },
     "execution_count": 55,
     "metadata": {},
     "output_type": "execute_result"
    }
   ],
   "source": [
    "new_df.loc[\"Atlas\", \"Salary\"]"
   ]
  },
  {
   "cell_type": "code",
   "execution_count": 58,
   "id": "b05dac34-d688-468e-baf5-45366649364f",
   "metadata": {},
   "outputs": [],
   "source": [
    "# iloc ile veriye erişmeye çalışırken sayı pozisyonları kullanılır\n",
    "# loc ile veriye erişmeye çalışırken label lar kullanılır "
   ]
  },
  {
   "cell_type": "code",
   "execution_count": 59,
   "id": "56b5bf30-cbfe-4014-8bd2-4ea11374bce1",
   "metadata": {},
   "outputs": [
    {
     "data": {
      "text/html": [
       "<div>\n",
       "<style scoped>\n",
       "    .dataframe tbody tr th:only-of-type {\n",
       "        vertical-align: middle;\n",
       "    }\n",
       "\n",
       "    .dataframe tbody tr th {\n",
       "        vertical-align: top;\n",
       "    }\n",
       "\n",
       "    .dataframe thead th {\n",
       "        text-align: right;\n",
       "    }\n",
       "</style>\n",
       "<table border=\"1\" class=\"dataframe\">\n",
       "  <thead>\n",
       "    <tr style=\"text-align: right;\">\n",
       "      <th></th>\n",
       "      <th>Salary</th>\n",
       "      <th>Age</th>\n",
       "      <th>Seniority</th>\n",
       "    </tr>\n",
       "  </thead>\n",
       "  <tbody>\n",
       "    <tr>\n",
       "      <th>Atil</th>\n",
       "      <td>1.564149</td>\n",
       "      <td>-0.569058</td>\n",
       "      <td>-0.282736</td>\n",
       "    </tr>\n",
       "    <tr>\n",
       "      <th>Zeynep</th>\n",
       "      <td>0.350391</td>\n",
       "      <td>2.050385</td>\n",
       "      <td>0.300448</td>\n",
       "    </tr>\n",
       "    <tr>\n",
       "      <th>Atlas</th>\n",
       "      <td>2.631882</td>\n",
       "      <td>1.657232</td>\n",
       "      <td>0.438251</td>\n",
       "    </tr>\n",
       "    <tr>\n",
       "      <th>Mehmet</th>\n",
       "      <td>-1.757600</td>\n",
       "      <td>0.148036</td>\n",
       "      <td>0.867934</td>\n",
       "    </tr>\n",
       "  </tbody>\n",
       "</table>\n",
       "</div>"
      ],
      "text/plain": [
       "          Salary       Age  Seniority\n",
       "Atil    1.564149 -0.569058  -0.282736\n",
       "Zeynep  0.350391  2.050385   0.300448\n",
       "Atlas   2.631882  1.657232   0.438251\n",
       "Mehmet -1.757600  0.148036   0.867934"
      ]
     },
     "execution_count": 59,
     "metadata": {},
     "output_type": "execute_result"
    }
   ],
   "source": [
    "new_df"
   ]
  },
  {
   "cell_type": "code",
   "execution_count": 60,
   "id": "4c6ddbef-ef7e-4d60-90e2-607a5b85a360",
   "metadata": {},
   "outputs": [
    {
     "data": {
      "text/html": [
       "<div>\n",
       "<style scoped>\n",
       "    .dataframe tbody tr th:only-of-type {\n",
       "        vertical-align: middle;\n",
       "    }\n",
       "\n",
       "    .dataframe tbody tr th {\n",
       "        vertical-align: top;\n",
       "    }\n",
       "\n",
       "    .dataframe thead th {\n",
       "        text-align: right;\n",
       "    }\n",
       "</style>\n",
       "<table border=\"1\" class=\"dataframe\">\n",
       "  <thead>\n",
       "    <tr style=\"text-align: right;\">\n",
       "      <th></th>\n",
       "      <th>Salary</th>\n",
       "      <th>Age</th>\n",
       "      <th>Seniority</th>\n",
       "    </tr>\n",
       "  </thead>\n",
       "  <tbody>\n",
       "    <tr>\n",
       "      <th>Zeynep</th>\n",
       "      <td>0.350391</td>\n",
       "      <td>2.050385</td>\n",
       "      <td>0.300448</td>\n",
       "    </tr>\n",
       "    <tr>\n",
       "      <th>Atlas</th>\n",
       "      <td>2.631882</td>\n",
       "      <td>1.657232</td>\n",
       "      <td>0.438251</td>\n",
       "    </tr>\n",
       "    <tr>\n",
       "      <th>Mehmet</th>\n",
       "      <td>-1.757600</td>\n",
       "      <td>0.148036</td>\n",
       "      <td>0.867934</td>\n",
       "    </tr>\n",
       "  </tbody>\n",
       "</table>\n",
       "</div>"
      ],
      "text/plain": [
       "          Salary       Age  Seniority\n",
       "Zeynep  0.350391  2.050385   0.300448\n",
       "Atlas   2.631882  1.657232   0.438251\n",
       "Mehmet -1.757600  0.148036   0.867934"
      ]
     },
     "execution_count": 60,
     "metadata": {},
     "output_type": "execute_result"
    }
   ],
   "source": [
    "new_df[new_df[\"Age\"] > 0]"
   ]
  },
  {
   "cell_type": "code",
   "execution_count": 61,
   "id": "78f4d665-47b9-4cd4-85fd-a5d71209b27c",
   "metadata": {},
   "outputs": [
    {
     "data": {
      "text/html": [
       "<div>\n",
       "<style scoped>\n",
       "    .dataframe tbody tr th:only-of-type {\n",
       "        vertical-align: middle;\n",
       "    }\n",
       "\n",
       "    .dataframe tbody tr th {\n",
       "        vertical-align: top;\n",
       "    }\n",
       "\n",
       "    .dataframe thead th {\n",
       "        text-align: right;\n",
       "    }\n",
       "</style>\n",
       "<table border=\"1\" class=\"dataframe\">\n",
       "  <thead>\n",
       "    <tr style=\"text-align: right;\">\n",
       "      <th></th>\n",
       "      <th>Salary</th>\n",
       "      <th>Age</th>\n",
       "      <th>Seniority</th>\n",
       "    </tr>\n",
       "  </thead>\n",
       "  <tbody>\n",
       "    <tr>\n",
       "      <th>Atlas</th>\n",
       "      <td>2.631882</td>\n",
       "      <td>1.657232</td>\n",
       "      <td>0.438251</td>\n",
       "    </tr>\n",
       "  </tbody>\n",
       "</table>\n",
       "</div>"
      ],
      "text/plain": [
       "         Salary       Age  Seniority\n",
       "Atlas  2.631882  1.657232   0.438251"
      ]
     },
     "execution_count": 61,
     "metadata": {},
     "output_type": "execute_result"
    }
   ],
   "source": [
    "new_df[new_df[\"Salary\"] > 2]"
   ]
  },
  {
   "cell_type": "code",
   "execution_count": 62,
   "id": "41313ef5-be91-4617-9b87-878de35ef117",
   "metadata": {},
   "outputs": [
    {
     "data": {
      "text/html": [
       "<div>\n",
       "<style scoped>\n",
       "    .dataframe tbody tr th:only-of-type {\n",
       "        vertical-align: middle;\n",
       "    }\n",
       "\n",
       "    .dataframe tbody tr th {\n",
       "        vertical-align: top;\n",
       "    }\n",
       "\n",
       "    .dataframe thead th {\n",
       "        text-align: right;\n",
       "    }\n",
       "</style>\n",
       "<table border=\"1\" class=\"dataframe\">\n",
       "  <thead>\n",
       "    <tr style=\"text-align: right;\">\n",
       "      <th></th>\n",
       "      <th>index</th>\n",
       "      <th>Salary</th>\n",
       "      <th>Age</th>\n",
       "      <th>Seniority</th>\n",
       "    </tr>\n",
       "  </thead>\n",
       "  <tbody>\n",
       "    <tr>\n",
       "      <th>0</th>\n",
       "      <td>Atil</td>\n",
       "      <td>1.564149</td>\n",
       "      <td>-0.569058</td>\n",
       "      <td>-0.282736</td>\n",
       "    </tr>\n",
       "    <tr>\n",
       "      <th>1</th>\n",
       "      <td>Zeynep</td>\n",
       "      <td>0.350391</td>\n",
       "      <td>2.050385</td>\n",
       "      <td>0.300448</td>\n",
       "    </tr>\n",
       "    <tr>\n",
       "      <th>2</th>\n",
       "      <td>Atlas</td>\n",
       "      <td>2.631882</td>\n",
       "      <td>1.657232</td>\n",
       "      <td>0.438251</td>\n",
       "    </tr>\n",
       "    <tr>\n",
       "      <th>3</th>\n",
       "      <td>Mehmet</td>\n",
       "      <td>-1.757600</td>\n",
       "      <td>0.148036</td>\n",
       "      <td>0.867934</td>\n",
       "    </tr>\n",
       "  </tbody>\n",
       "</table>\n",
       "</div>"
      ],
      "text/plain": [
       "    index    Salary       Age  Seniority\n",
       "0    Atil  1.564149 -0.569058  -0.282736\n",
       "1  Zeynep  0.350391  2.050385   0.300448\n",
       "2   Atlas  2.631882  1.657232   0.438251\n",
       "3  Mehmet -1.757600  0.148036   0.867934"
      ]
     },
     "execution_count": 62,
     "metadata": {},
     "output_type": "execute_result"
    }
   ],
   "source": [
    "new_df.reset_index()"
   ]
  },
  {
   "cell_type": "code",
   "execution_count": 63,
   "id": "e8677e22-c112-4094-adc3-44f96dba9ea1",
   "metadata": {},
   "outputs": [],
   "source": [
    "reset_frame = new_df.reset_index()"
   ]
  },
  {
   "cell_type": "code",
   "execution_count": 64,
   "id": "cefca24e-cbbb-4c9a-97f2-22d7f77b7d09",
   "metadata": {},
   "outputs": [
    {
     "data": {
      "text/html": [
       "<div>\n",
       "<style scoped>\n",
       "    .dataframe tbody tr th:only-of-type {\n",
       "        vertical-align: middle;\n",
       "    }\n",
       "\n",
       "    .dataframe tbody tr th {\n",
       "        vertical-align: top;\n",
       "    }\n",
       "\n",
       "    .dataframe thead th {\n",
       "        text-align: right;\n",
       "    }\n",
       "</style>\n",
       "<table border=\"1\" class=\"dataframe\">\n",
       "  <thead>\n",
       "    <tr style=\"text-align: right;\">\n",
       "      <th></th>\n",
       "      <th>index</th>\n",
       "      <th>Salary</th>\n",
       "      <th>Age</th>\n",
       "      <th>Seniority</th>\n",
       "    </tr>\n",
       "  </thead>\n",
       "  <tbody>\n",
       "    <tr>\n",
       "      <th>0</th>\n",
       "      <td>Atil</td>\n",
       "      <td>1.564149</td>\n",
       "      <td>-0.569058</td>\n",
       "      <td>-0.282736</td>\n",
       "    </tr>\n",
       "    <tr>\n",
       "      <th>1</th>\n",
       "      <td>Zeynep</td>\n",
       "      <td>0.350391</td>\n",
       "      <td>2.050385</td>\n",
       "      <td>0.300448</td>\n",
       "    </tr>\n",
       "    <tr>\n",
       "      <th>2</th>\n",
       "      <td>Atlas</td>\n",
       "      <td>2.631882</td>\n",
       "      <td>1.657232</td>\n",
       "      <td>0.438251</td>\n",
       "    </tr>\n",
       "    <tr>\n",
       "      <th>3</th>\n",
       "      <td>Mehmet</td>\n",
       "      <td>-1.757600</td>\n",
       "      <td>0.148036</td>\n",
       "      <td>0.867934</td>\n",
       "    </tr>\n",
       "  </tbody>\n",
       "</table>\n",
       "</div>"
      ],
      "text/plain": [
       "    index    Salary       Age  Seniority\n",
       "0    Atil  1.564149 -0.569058  -0.282736\n",
       "1  Zeynep  0.350391  2.050385   0.300448\n",
       "2   Atlas  2.631882  1.657232   0.438251\n",
       "3  Mehmet -1.757600  0.148036   0.867934"
      ]
     },
     "execution_count": 64,
     "metadata": {},
     "output_type": "execute_result"
    }
   ],
   "source": [
    "reset_frame"
   ]
  },
  {
   "cell_type": "code",
   "execution_count": 65,
   "id": "b98635f5-ef06-4a52-94da-2f05719a709d",
   "metadata": {},
   "outputs": [
    {
     "data": {
      "text/plain": [
       "index            Atil\n",
       "Salary       1.564149\n",
       "Age         -0.569058\n",
       "Seniority   -0.282736\n",
       "Name: 0, dtype: object"
      ]
     },
     "execution_count": 65,
     "metadata": {},
     "output_type": "execute_result"
    }
   ],
   "source": [
    "reset_frame.loc[0]"
   ]
  },
  {
   "cell_type": "code",
   "execution_count": 66,
   "id": "d02f3a0d-8b7e-49f6-b75e-04346a0b1616",
   "metadata": {},
   "outputs": [],
   "source": [
    "new_indeces = [\"Ati\", \"Zey\", \"Atl\", \"Meh\"]"
   ]
  },
  {
   "cell_type": "code",
   "execution_count": 67,
   "id": "c1583eb8-d5c2-4dcc-8745-ba18bd4d3970",
   "metadata": {},
   "outputs": [],
   "source": [
    "new_df[\"NewIndex\"] = new_indeces"
   ]
  },
  {
   "cell_type": "code",
   "execution_count": 68,
   "id": "d1f5fc89-ceb8-4955-9578-64a5d458e445",
   "metadata": {},
   "outputs": [
    {
     "data": {
      "text/html": [
       "<div>\n",
       "<style scoped>\n",
       "    .dataframe tbody tr th:only-of-type {\n",
       "        vertical-align: middle;\n",
       "    }\n",
       "\n",
       "    .dataframe tbody tr th {\n",
       "        vertical-align: top;\n",
       "    }\n",
       "\n",
       "    .dataframe thead th {\n",
       "        text-align: right;\n",
       "    }\n",
       "</style>\n",
       "<table border=\"1\" class=\"dataframe\">\n",
       "  <thead>\n",
       "    <tr style=\"text-align: right;\">\n",
       "      <th></th>\n",
       "      <th>Salary</th>\n",
       "      <th>Age</th>\n",
       "      <th>Seniority</th>\n",
       "      <th>NewIndex</th>\n",
       "    </tr>\n",
       "  </thead>\n",
       "  <tbody>\n",
       "    <tr>\n",
       "      <th>Atil</th>\n",
       "      <td>1.564149</td>\n",
       "      <td>-0.569058</td>\n",
       "      <td>-0.282736</td>\n",
       "      <td>Ati</td>\n",
       "    </tr>\n",
       "    <tr>\n",
       "      <th>Zeynep</th>\n",
       "      <td>0.350391</td>\n",
       "      <td>2.050385</td>\n",
       "      <td>0.300448</td>\n",
       "      <td>Zey</td>\n",
       "    </tr>\n",
       "    <tr>\n",
       "      <th>Atlas</th>\n",
       "      <td>2.631882</td>\n",
       "      <td>1.657232</td>\n",
       "      <td>0.438251</td>\n",
       "      <td>Atl</td>\n",
       "    </tr>\n",
       "    <tr>\n",
       "      <th>Mehmet</th>\n",
       "      <td>-1.757600</td>\n",
       "      <td>0.148036</td>\n",
       "      <td>0.867934</td>\n",
       "      <td>Meh</td>\n",
       "    </tr>\n",
       "  </tbody>\n",
       "</table>\n",
       "</div>"
      ],
      "text/plain": [
       "          Salary       Age  Seniority NewIndex\n",
       "Atil    1.564149 -0.569058  -0.282736      Ati\n",
       "Zeynep  0.350391  2.050385   0.300448      Zey\n",
       "Atlas   2.631882  1.657232   0.438251      Atl\n",
       "Mehmet -1.757600  0.148036   0.867934      Meh"
      ]
     },
     "execution_count": 68,
     "metadata": {},
     "output_type": "execute_result"
    }
   ],
   "source": [
    "new_df"
   ]
  },
  {
   "cell_type": "code",
   "execution_count": 69,
   "id": "77562a14-2b4e-4da2-980f-91502ffb6c69",
   "metadata": {},
   "outputs": [],
   "source": [
    "new_df.set_index(\"NewIndex\", inplace = True)"
   ]
  },
  {
   "cell_type": "code",
   "execution_count": 70,
   "id": "deaec64b-2ec4-4382-9378-26d129455e5c",
   "metadata": {},
   "outputs": [
    {
     "data": {
      "text/html": [
       "<div>\n",
       "<style scoped>\n",
       "    .dataframe tbody tr th:only-of-type {\n",
       "        vertical-align: middle;\n",
       "    }\n",
       "\n",
       "    .dataframe tbody tr th {\n",
       "        vertical-align: top;\n",
       "    }\n",
       "\n",
       "    .dataframe thead th {\n",
       "        text-align: right;\n",
       "    }\n",
       "</style>\n",
       "<table border=\"1\" class=\"dataframe\">\n",
       "  <thead>\n",
       "    <tr style=\"text-align: right;\">\n",
       "      <th></th>\n",
       "      <th>Salary</th>\n",
       "      <th>Age</th>\n",
       "      <th>Seniority</th>\n",
       "    </tr>\n",
       "    <tr>\n",
       "      <th>NewIndex</th>\n",
       "      <th></th>\n",
       "      <th></th>\n",
       "      <th></th>\n",
       "    </tr>\n",
       "  </thead>\n",
       "  <tbody>\n",
       "    <tr>\n",
       "      <th>Ati</th>\n",
       "      <td>1.564149</td>\n",
       "      <td>-0.569058</td>\n",
       "      <td>-0.282736</td>\n",
       "    </tr>\n",
       "    <tr>\n",
       "      <th>Zey</th>\n",
       "      <td>0.350391</td>\n",
       "      <td>2.050385</td>\n",
       "      <td>0.300448</td>\n",
       "    </tr>\n",
       "    <tr>\n",
       "      <th>Atl</th>\n",
       "      <td>2.631882</td>\n",
       "      <td>1.657232</td>\n",
       "      <td>0.438251</td>\n",
       "    </tr>\n",
       "    <tr>\n",
       "      <th>Meh</th>\n",
       "      <td>-1.757600</td>\n",
       "      <td>0.148036</td>\n",
       "      <td>0.867934</td>\n",
       "    </tr>\n",
       "  </tbody>\n",
       "</table>\n",
       "</div>"
      ],
      "text/plain": [
       "            Salary       Age  Seniority\n",
       "NewIndex                               \n",
       "Ati       1.564149 -0.569058  -0.282736\n",
       "Zey       0.350391  2.050385   0.300448\n",
       "Atl       2.631882  1.657232   0.438251\n",
       "Meh      -1.757600  0.148036   0.867934"
      ]
     },
     "execution_count": 70,
     "metadata": {},
     "output_type": "execute_result"
    }
   ],
   "source": [
    "new_df"
   ]
  },
  {
   "cell_type": "code",
   "execution_count": 71,
   "id": "18de1e59-20f7-417a-aeb8-236b7f390808",
   "metadata": {},
   "outputs": [],
   "source": [
    "# multi-index"
   ]
  },
  {
   "cell_type": "code",
   "execution_count": 72,
   "id": "8c0e132a-f308-4762-8482-bac7f8955aee",
   "metadata": {},
   "outputs": [],
   "source": [
    "first_index = [\"Simpson\", \"Simpson\", \"Simpson\", \"South Park\", \"South Park\", \"South Park\"]"
   ]
  },
  {
   "cell_type": "code",
   "execution_count": 73,
   "id": "38997ccd-fd0f-4562-81f3-f5b1d20b6ee4",
   "metadata": {},
   "outputs": [],
   "source": [
    "inner_index = [\"Homer\", \"Bart\", \"Marge\", \"Cartman\", \"Kenny\", \"Kyle\"]"
   ]
  },
  {
   "cell_type": "code",
   "execution_count": 74,
   "id": "26605825-23ab-4635-b33e-1331d35fd60e",
   "metadata": {},
   "outputs": [],
   "source": [
    "zipped_index = list(zip(first_index, inner_index))"
   ]
  },
  {
   "cell_type": "code",
   "execution_count": 75,
   "id": "c2f79e16-c66a-4db4-a841-c0c72132bc1a",
   "metadata": {},
   "outputs": [
    {
     "data": {
      "text/plain": [
       "[('Simpson', 'Homer'),\n",
       " ('Simpson', 'Bart'),\n",
       " ('Simpson', 'Marge'),\n",
       " ('South Park', 'Cartman'),\n",
       " ('South Park', 'Kenny'),\n",
       " ('South Park', 'Kyle')]"
      ]
     },
     "execution_count": 75,
     "metadata": {},
     "output_type": "execute_result"
    }
   ],
   "source": [
    "zipped_index"
   ]
  },
  {
   "cell_type": "code",
   "execution_count": 76,
   "id": "b83ebffd-d2f7-4202-8442-e00fc35401b7",
   "metadata": {},
   "outputs": [],
   "source": [
    "zipped_index = pd.MultiIndex.from_tuples(zipped_index)"
   ]
  },
  {
   "cell_type": "code",
   "execution_count": 77,
   "id": "8a7982a3-8722-43fd-b7b4-00b4fcc1ce5d",
   "metadata": {},
   "outputs": [
    {
     "data": {
      "text/plain": [
       "MultiIndex([(   'Simpson',   'Homer'),\n",
       "            (   'Simpson',    'Bart'),\n",
       "            (   'Simpson',   'Marge'),\n",
       "            ('South Park', 'Cartman'),\n",
       "            ('South Park',   'Kenny'),\n",
       "            ('South Park',    'Kyle')],\n",
       "           )"
      ]
     },
     "execution_count": 77,
     "metadata": {},
     "output_type": "execute_result"
    }
   ],
   "source": [
    "zipped_index"
   ]
  },
  {
   "cell_type": "code",
   "execution_count": 78,
   "id": "f8789c71-1258-41c8-9074-337bd218d0a7",
   "metadata": {},
   "outputs": [],
   "source": [
    "sample_values = np.ones((6,2))"
   ]
  },
  {
   "cell_type": "code",
   "execution_count": 79,
   "id": "fbb70c8d-9c03-46fd-91a1-056664925f74",
   "metadata": {},
   "outputs": [],
   "source": [
    "big_df = pd.DataFrame(sample_values, index = zipped_index, columns = [\"Age\", \"Salary\"])"
   ]
  },
  {
   "cell_type": "code",
   "execution_count": 80,
   "id": "ad5862db-cb72-4d53-a921-605312af6649",
   "metadata": {},
   "outputs": [
    {
     "data": {
      "text/html": [
       "<div>\n",
       "<style scoped>\n",
       "    .dataframe tbody tr th:only-of-type {\n",
       "        vertical-align: middle;\n",
       "    }\n",
       "\n",
       "    .dataframe tbody tr th {\n",
       "        vertical-align: top;\n",
       "    }\n",
       "\n",
       "    .dataframe thead th {\n",
       "        text-align: right;\n",
       "    }\n",
       "</style>\n",
       "<table border=\"1\" class=\"dataframe\">\n",
       "  <thead>\n",
       "    <tr style=\"text-align: right;\">\n",
       "      <th></th>\n",
       "      <th></th>\n",
       "      <th>Age</th>\n",
       "      <th>Salary</th>\n",
       "    </tr>\n",
       "  </thead>\n",
       "  <tbody>\n",
       "    <tr>\n",
       "      <th rowspan=\"3\" valign=\"top\">Simpson</th>\n",
       "      <th>Homer</th>\n",
       "      <td>1.0</td>\n",
       "      <td>1.0</td>\n",
       "    </tr>\n",
       "    <tr>\n",
       "      <th>Bart</th>\n",
       "      <td>1.0</td>\n",
       "      <td>1.0</td>\n",
       "    </tr>\n",
       "    <tr>\n",
       "      <th>Marge</th>\n",
       "      <td>1.0</td>\n",
       "      <td>1.0</td>\n",
       "    </tr>\n",
       "    <tr>\n",
       "      <th rowspan=\"3\" valign=\"top\">South Park</th>\n",
       "      <th>Cartman</th>\n",
       "      <td>1.0</td>\n",
       "      <td>1.0</td>\n",
       "    </tr>\n",
       "    <tr>\n",
       "      <th>Kenny</th>\n",
       "      <td>1.0</td>\n",
       "      <td>1.0</td>\n",
       "    </tr>\n",
       "    <tr>\n",
       "      <th>Kyle</th>\n",
       "      <td>1.0</td>\n",
       "      <td>1.0</td>\n",
       "    </tr>\n",
       "  </tbody>\n",
       "</table>\n",
       "</div>"
      ],
      "text/plain": [
       "                    Age  Salary\n",
       "Simpson    Homer    1.0     1.0\n",
       "           Bart     1.0     1.0\n",
       "           Marge    1.0     1.0\n",
       "South Park Cartman  1.0     1.0\n",
       "           Kenny    1.0     1.0\n",
       "           Kyle     1.0     1.0"
      ]
     },
     "execution_count": 80,
     "metadata": {},
     "output_type": "execute_result"
    }
   ],
   "source": [
    "big_df"
   ]
  },
  {
   "cell_type": "code",
   "execution_count": 81,
   "id": "a2544ac2-ee17-431b-94e3-185469449a4d",
   "metadata": {},
   "outputs": [
    {
     "data": {
      "text/plain": [
       "Simpson     Homer      1.0\n",
       "            Bart       1.0\n",
       "            Marge      1.0\n",
       "South Park  Cartman    1.0\n",
       "            Kenny      1.0\n",
       "            Kyle       1.0\n",
       "Name: Age, dtype: float64"
      ]
     },
     "execution_count": 81,
     "metadata": {},
     "output_type": "execute_result"
    }
   ],
   "source": [
    "big_df[\"Age\"]"
   ]
  },
  {
   "cell_type": "code",
   "execution_count": 82,
   "id": "9d09c005-3f21-4a5b-8039-6d824748fa52",
   "metadata": {},
   "outputs": [
    {
     "data": {
      "text/html": [
       "<div>\n",
       "<style scoped>\n",
       "    .dataframe tbody tr th:only-of-type {\n",
       "        vertical-align: middle;\n",
       "    }\n",
       "\n",
       "    .dataframe tbody tr th {\n",
       "        vertical-align: top;\n",
       "    }\n",
       "\n",
       "    .dataframe thead th {\n",
       "        text-align: right;\n",
       "    }\n",
       "</style>\n",
       "<table border=\"1\" class=\"dataframe\">\n",
       "  <thead>\n",
       "    <tr style=\"text-align: right;\">\n",
       "      <th></th>\n",
       "      <th>Age</th>\n",
       "      <th>Salary</th>\n",
       "    </tr>\n",
       "  </thead>\n",
       "  <tbody>\n",
       "    <tr>\n",
       "      <th>Homer</th>\n",
       "      <td>1.0</td>\n",
       "      <td>1.0</td>\n",
       "    </tr>\n",
       "    <tr>\n",
       "      <th>Bart</th>\n",
       "      <td>1.0</td>\n",
       "      <td>1.0</td>\n",
       "    </tr>\n",
       "    <tr>\n",
       "      <th>Marge</th>\n",
       "      <td>1.0</td>\n",
       "      <td>1.0</td>\n",
       "    </tr>\n",
       "  </tbody>\n",
       "</table>\n",
       "</div>"
      ],
      "text/plain": [
       "       Age  Salary\n",
       "Homer  1.0     1.0\n",
       "Bart   1.0     1.0\n",
       "Marge  1.0     1.0"
      ]
     },
     "execution_count": 82,
     "metadata": {},
     "output_type": "execute_result"
    }
   ],
   "source": [
    "big_df.loc[\"Simpson\"]"
   ]
  },
  {
   "cell_type": "code",
   "execution_count": null,
   "id": "744ac47c-983c-460e-91da-247c76ce3e4d",
   "metadata": {},
   "outputs": [],
   "source": []
  }
 ],
 "metadata": {
  "kernelspec": {
   "display_name": "Python 3 (ipykernel)",
   "language": "python",
   "name": "python3"
  },
  "language_info": {
   "codemirror_mode": {
    "name": "ipython",
    "version": 3
   },
   "file_extension": ".py",
   "mimetype": "text/x-python",
   "name": "python",
   "nbconvert_exporter": "python",
   "pygments_lexer": "ipython3",
   "version": "3.13.5"
  }
 },
 "nbformat": 4,
 "nbformat_minor": 5
}
