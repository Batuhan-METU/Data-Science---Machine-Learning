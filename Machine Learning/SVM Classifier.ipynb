{
 "cells": [
  {
   "cell_type": "code",
   "execution_count": 1,
   "id": "ae13925f-77c9-493e-975c-ea1d04460144",
   "metadata": {},
   "outputs": [],
   "source": [
    "import pandas as pd \n",
    "import numpy as np \n",
    "import matplotlib.pyplot as plt \n",
    "import seaborn as sns \n",
    "%matplotlib inline "
   ]
  },
  {
   "cell_type": "code",
   "execution_count": 5,
   "id": "6523b0c0-7cf6-47ff-9ab2-5d2392054a3a",
   "metadata": {},
   "outputs": [],
   "source": [
    "# email classification\n",
    "# email_type --> 0 = Personal, 1 = Work email"
   ]
  },
  {
   "cell_type": "code",
   "execution_count": null,
   "id": "5e4a836b-766c-4b12-9777-fc36c57ea9bf",
   "metadata": {},
   "outputs": [],
   "source": [
    "df = pd.read_csv(\"9-email_classification_svm.csv\")"
   ]
  },
  {
   "cell_type": "code",
   "execution_count": 7,
   "id": "e6d2169b-54eb-47c9-94c3-d5d28b20de16",
   "metadata": {},
   "outputs": [
    {
     "data": {
      "text/html": [
       "<div>\n",
       "<style scoped>\n",
       "    .dataframe tbody tr th:only-of-type {\n",
       "        vertical-align: middle;\n",
       "    }\n",
       "\n",
       "    .dataframe tbody tr th {\n",
       "        vertical-align: top;\n",
       "    }\n",
       "\n",
       "    .dataframe thead th {\n",
       "        text-align: right;\n",
       "    }\n",
       "</style>\n",
       "<table border=\"1\" class=\"dataframe\">\n",
       "  <thead>\n",
       "    <tr style=\"text-align: right;\">\n",
       "      <th></th>\n",
       "      <th>subject_formality_score</th>\n",
       "      <th>sender_relationship_score</th>\n",
       "      <th>email_type</th>\n",
       "    </tr>\n",
       "  </thead>\n",
       "  <tbody>\n",
       "    <tr>\n",
       "      <th>0</th>\n",
       "      <td>-1.496790</td>\n",
       "      <td>0.779258</td>\n",
       "      <td>0</td>\n",
       "    </tr>\n",
       "    <tr>\n",
       "      <th>1</th>\n",
       "      <td>-1.217610</td>\n",
       "      <td>0.889601</td>\n",
       "      <td>0</td>\n",
       "    </tr>\n",
       "    <tr>\n",
       "      <th>2</th>\n",
       "      <td>-0.375945</td>\n",
       "      <td>-0.823324</td>\n",
       "      <td>1</td>\n",
       "    </tr>\n",
       "    <tr>\n",
       "      <th>3</th>\n",
       "      <td>0.639609</td>\n",
       "      <td>-0.362827</td>\n",
       "      <td>1</td>\n",
       "    </tr>\n",
       "    <tr>\n",
       "      <th>4</th>\n",
       "      <td>-1.342836</td>\n",
       "      <td>-1.040502</td>\n",
       "      <td>1</td>\n",
       "    </tr>\n",
       "  </tbody>\n",
       "</table>\n",
       "</div>"
      ],
      "text/plain": [
       "   subject_formality_score  sender_relationship_score  email_type\n",
       "0                -1.496790                   0.779258           0\n",
       "1                -1.217610                   0.889601           0\n",
       "2                -0.375945                  -0.823324           1\n",
       "3                 0.639609                  -0.362827           1\n",
       "4                -1.342836                  -1.040502           1"
      ]
     },
     "execution_count": 7,
     "metadata": {},
     "output_type": "execute_result"
    }
   ],
   "source": [
    "df.head()"
   ]
  },
  {
   "cell_type": "code",
   "execution_count": 8,
   "id": "8517ce51-914a-49c6-b2ce-115014c159a7",
   "metadata": {},
   "outputs": [
    {
     "data": {
      "text/html": [
       "<div>\n",
       "<style scoped>\n",
       "    .dataframe tbody tr th:only-of-type {\n",
       "        vertical-align: middle;\n",
       "    }\n",
       "\n",
       "    .dataframe tbody tr th {\n",
       "        vertical-align: top;\n",
       "    }\n",
       "\n",
       "    .dataframe thead th {\n",
       "        text-align: right;\n",
       "    }\n",
       "</style>\n",
       "<table border=\"1\" class=\"dataframe\">\n",
       "  <thead>\n",
       "    <tr style=\"text-align: right;\">\n",
       "      <th></th>\n",
       "      <th>subject_formality_score</th>\n",
       "      <th>sender_relationship_score</th>\n",
       "      <th>email_type</th>\n",
       "    </tr>\n",
       "  </thead>\n",
       "  <tbody>\n",
       "    <tr>\n",
       "      <th>count</th>\n",
       "      <td>1000.000000</td>\n",
       "      <td>1000.000000</td>\n",
       "      <td>1000.000000</td>\n",
       "    </tr>\n",
       "    <tr>\n",
       "      <th>mean</th>\n",
       "      <td>-1.009046</td>\n",
       "      <td>-0.006300</td>\n",
       "      <td>0.498000</td>\n",
       "    </tr>\n",
       "    <tr>\n",
       "      <th>std</th>\n",
       "      <td>0.654219</td>\n",
       "      <td>1.059501</td>\n",
       "      <td>0.500246</td>\n",
       "    </tr>\n",
       "    <tr>\n",
       "      <th>min</th>\n",
       "      <td>-3.532770</td>\n",
       "      <td>-2.218219</td>\n",
       "      <td>0.000000</td>\n",
       "    </tr>\n",
       "    <tr>\n",
       "      <th>25%</th>\n",
       "      <td>-1.252867</td>\n",
       "      <td>-1.006076</td>\n",
       "      <td>0.000000</td>\n",
       "    </tr>\n",
       "    <tr>\n",
       "      <th>50%</th>\n",
       "      <td>-0.994760</td>\n",
       "      <td>0.439233</td>\n",
       "      <td>0.000000</td>\n",
       "    </tr>\n",
       "    <tr>\n",
       "      <th>75%</th>\n",
       "      <td>-0.754839</td>\n",
       "      <td>0.994943</td>\n",
       "      <td>1.000000</td>\n",
       "    </tr>\n",
       "    <tr>\n",
       "      <th>max</th>\n",
       "      <td>2.180933</td>\n",
       "      <td>1.699497</td>\n",
       "      <td>1.000000</td>\n",
       "    </tr>\n",
       "  </tbody>\n",
       "</table>\n",
       "</div>"
      ],
      "text/plain": [
       "       subject_formality_score  sender_relationship_score   email_type\n",
       "count              1000.000000                1000.000000  1000.000000\n",
       "mean                 -1.009046                  -0.006300     0.498000\n",
       "std                   0.654219                   1.059501     0.500246\n",
       "min                  -3.532770                  -2.218219     0.000000\n",
       "25%                  -1.252867                  -1.006076     0.000000\n",
       "50%                  -0.994760                   0.439233     0.000000\n",
       "75%                  -0.754839                   0.994943     1.000000\n",
       "max                   2.180933                   1.699497     1.000000"
      ]
     },
     "execution_count": 8,
     "metadata": {},
     "output_type": "execute_result"
    }
   ],
   "source": [
    "df.describe()"
   ]
  },
  {
   "cell_type": "code",
   "execution_count": 9,
   "id": "3bfe2ed1-2a08-4ab9-95dc-c07a552ffd7c",
   "metadata": {},
   "outputs": [
    {
     "name": "stdout",
     "output_type": "stream",
     "text": [
      "<class 'pandas.core.frame.DataFrame'>\n",
      "RangeIndex: 1000 entries, 0 to 999\n",
      "Data columns (total 3 columns):\n",
      " #   Column                     Non-Null Count  Dtype  \n",
      "---  ------                     --------------  -----  \n",
      " 0   subject_formality_score    1000 non-null   float64\n",
      " 1   sender_relationship_score  1000 non-null   float64\n",
      " 2   email_type                 1000 non-null   int64  \n",
      "dtypes: float64(2), int64(1)\n",
      "memory usage: 23.6 KB\n"
     ]
    }
   ],
   "source": [
    "df.info()"
   ]
  },
  {
   "cell_type": "code",
   "execution_count": 11,
   "id": "cc1a8227-e97f-4bf7-b930-83cc7c335c66",
   "metadata": {},
   "outputs": [
    {
     "data": {
      "image/png": "[encoded data removed]",
      "text/plain": [
       "<Figure size 640x480 with 1 Axes>"
      ]
     },
     "metadata": {},
     "output_type": "display_data"
    }
   ],
   "source": [
    "sns.scatterplot(x = df[\"subject_formality_score\"], y = df[\"sender_relationship_score\"], hue = df[\"email_type\"])\n",
    "plt.show()"
   ]
  },
  {
   "cell_type": "code",
   "execution_count": 12,
   "id": "77fd5a40-c004-428a-aca3-29c0a0285c7e",
   "metadata": {},
   "outputs": [
    {
     "data": {
      "text/plain": [
       "email_type\n",
       "0    502\n",
       "1    498\n",
       "Name: count, dtype: int64"
      ]
     },
     "execution_count": 12,
     "metadata": {},
     "output_type": "execute_result"
    }
   ],
   "source": [
    "df[\"email_type\"].value_counts()"
   ]
  },
  {
   "cell_type": "code",
   "execution_count": 13,
   "id": "1353794c-9e03-407d-96d9-7cca9dce1396",
   "metadata": {},
   "outputs": [],
   "source": [
    "X = df.drop(\"email_type\", axis = 1)\n",
    "y = df[\"email_type\"]"
   ]
  },
  {
   "cell_type": "code",
   "execution_count": 14,
   "id": "dc2c2301-e231-4240-86cd-44cef3696880",
   "metadata": {},
   "outputs": [],
   "source": [
    "from sklearn.model_selection import train_test_split \n",
    "X_train, X_test, y_train, y_test = train_test_split(X,y,test_size = 0.25, random_state = 15)"
   ]
  },
  {
   "cell_type": "code",
   "execution_count": 15,
   "id": "65795f14-47ad-4398-9612-e11af194e130",
   "metadata": {},
   "outputs": [
    {
     "data": {
      "text/html": [
       "<div>\n",
       "<style scoped>\n",
       "    .dataframe tbody tr th:only-of-type {\n",
       "        vertical-align: middle;\n",
       "    }\n",
       "\n",
       "    .dataframe tbody tr th {\n",
       "        vertical-align: top;\n",
       "    }\n",
       "\n",
       "    .dataframe thead th {\n",
       "        text-align: right;\n",
       "    }\n",
       "</style>\n",
       "<table border=\"1\" class=\"dataframe\">\n",
       "  <thead>\n",
       "    <tr style=\"text-align: right;\">\n",
       "      <th></th>\n",
       "      <th>subject_formality_score</th>\n",
       "      <th>sender_relationship_score</th>\n",
       "    </tr>\n",
       "  </thead>\n",
       "  <tbody>\n",
       "    <tr>\n",
       "      <th>846</th>\n",
       "      <td>-1.076655</td>\n",
       "      <td>0.943601</td>\n",
       "    </tr>\n",
       "    <tr>\n",
       "      <th>969</th>\n",
       "      <td>-1.062554</td>\n",
       "      <td>1.148473</td>\n",
       "    </tr>\n",
       "    <tr>\n",
       "      <th>191</th>\n",
       "      <td>-0.904298</td>\n",
       "      <td>1.049447</td>\n",
       "    </tr>\n",
       "    <tr>\n",
       "      <th>711</th>\n",
       "      <td>-1.283609</td>\n",
       "      <td>-1.171544</td>\n",
       "    </tr>\n",
       "    <tr>\n",
       "      <th>967</th>\n",
       "      <td>-1.097239</td>\n",
       "      <td>1.388281</td>\n",
       "    </tr>\n",
       "    <tr>\n",
       "      <th>...</th>\n",
       "      <td>...</td>\n",
       "      <td>...</td>\n",
       "    </tr>\n",
       "    <tr>\n",
       "      <th>887</th>\n",
       "      <td>-1.153241</td>\n",
       "      <td>1.241387</td>\n",
       "    </tr>\n",
       "    <tr>\n",
       "      <th>645</th>\n",
       "      <td>-0.964472</td>\n",
       "      <td>1.235402</td>\n",
       "    </tr>\n",
       "    <tr>\n",
       "      <th>908</th>\n",
       "      <td>-0.862866</td>\n",
       "      <td>1.110327</td>\n",
       "    </tr>\n",
       "    <tr>\n",
       "      <th>757</th>\n",
       "      <td>-1.124572</td>\n",
       "      <td>0.967717</td>\n",
       "    </tr>\n",
       "    <tr>\n",
       "      <th>456</th>\n",
       "      <td>-0.492004</td>\n",
       "      <td>-0.898496</td>\n",
       "    </tr>\n",
       "  </tbody>\n",
       "</table>\n",
       "<p>750 rows × 2 columns</p>\n",
       "</div>"
      ],
      "text/plain": [
       "     subject_formality_score  sender_relationship_score\n",
       "846                -1.076655                   0.943601\n",
       "969                -1.062554                   1.148473\n",
       "191                -0.904298                   1.049447\n",
       "711                -1.283609                  -1.171544\n",
       "967                -1.097239                   1.388281\n",
       "..                       ...                        ...\n",
       "887                -1.153241                   1.241387\n",
       "645                -0.964472                   1.235402\n",
       "908                -0.862866                   1.110327\n",
       "757                -1.124572                   0.967717\n",
       "456                -0.492004                  -0.898496\n",
       "\n",
       "[750 rows x 2 columns]"
      ]
     },
     "execution_count": 15,
     "metadata": {},
     "output_type": "execute_result"
    }
   ],
   "source": [
    "X_train"
   ]
  },
  {
   "cell_type": "code",
   "execution_count": 16,
   "id": "b0e9f41a-150d-4e44-b8af-25ad686a53e4",
   "metadata": {},
   "outputs": [],
   "source": [
    "from sklearn.svm import SVC "
   ]
  },
  {
   "cell_type": "code",
   "execution_count": 17,
   "id": "0f71ad19-1967-45f6-9a1c-65a473bc260a",
   "metadata": {},
   "outputs": [],
   "source": [
    "svc = SVC(kernel = \"linear\")"
   ]
  },
  {
   "cell_type": "code",
   "execution_count": 18,
   "id": "629b39dd-7e93-4fcc-910f-0a499007cbe2",
   "metadata": {},
   "outputs": [
    {
     "data": {
      "text/html": [
       "<style>#sk-container-id-1 {\n",
       "  /* Definition of color scheme common for light and dark mode */\n",
       "  --sklearn-color-text: #000;\n",
       "  --sklearn-color-text-muted: #666;\n",
       "  --sklearn-color-line: gray;\n",
       "  /* Definition of color scheme for unfitted estimators */\n",
       "  --sklearn-color-unfitted-level-0: #fff5e6;\n",
       "  --sklearn-color-unfitted-level-1: #f6e4d2;\n",
       "  --sklearn-color-unfitted-level-2: #ffe0b3;\n",
       "  --sklearn-color-unfitted-level-3: chocolate;\n",
       "  /* Definition of color scheme for fitted estimators */\n",
       "  --sklearn-color-fitted-level-0: #f0f8ff;\n",
       "  --sklearn-color-fitted-level-1: #d4ebff;\n",
       "  --sklearn-color-fitted-level-2: #b3dbfd;\n",
       "  --sklearn-color-fitted-level-3: cornflowerblue;\n",
       "\n",
       "  /* Specific color for light theme */\n",
       "  --sklearn-color-text-on-default-background: var(--sg-text-color, var(--theme-code-foreground, var(--jp-content-font-color1, black)));\n",
       "  --sklearn-color-background: var(--sg-background-color, var(--theme-background, var(--jp-layout-color0, white)));\n",
       "  --sklearn-color-border-box: var(--sg-text-color, var(--theme-code-foreground, var(--jp-content-font-color1, black)));\n",
       "  --sklearn-color-icon: #696969;\n",
       "\n",
       "  @media (prefers-color-scheme: dark) {\n",
       "    /* Redefinition of color scheme for dark theme */\n",
       "    --sklearn-color-text-on-default-background: var(--sg-text-color, var(--theme-code-foreground, var(--jp-content-font-color1, white)));\n",
       "    --sklearn-color-background: var(--sg-background-color, var(--theme-background, var(--jp-layout-color0, #111)));\n",
       "    --sklearn-color-border-box: var(--sg-text-color, var(--theme-code-foreground, var(--jp-content-font-color1, white)));\n",
       "    --sklearn-color-icon: #878787;\n",
       "  }\n",
       "}\n",
       "\n",
       "#sk-container-id-1 {\n",
       "  color: var(--sklearn-color-text);\n",
       "}\n",
       "\n",
       "#sk-container-id-1 pre {\n",
       "  padding: 0;\n",
       "}\n",
       "\n",
       "#sk-container-id-1 input.sk-hidden--visually {\n",
       "  border: 0;\n",
       "  clip: rect(1px 1px 1px 1px);\n",
       "  clip: rect(1px, 1px, 1px, 1px);\n",
       "  height: 1px;\n",
       "  margin: -1px;\n",
       "  overflow: hidden;\n",
       "  padding: 0;\n",
       "  position: absolute;\n",
       "  width: 1px;\n",
       "}\n",
       "\n",
       "#sk-container-id-1 div.sk-dashed-wrapped {\n",
       "  border: 1px dashed var(--sklearn-color-line);\n",
       "  margin: 0 0.4em 0.5em 0.4em;\n",
       "  box-sizing: border-box;\n",
       "  padding-bottom: 0.4em;\n",
       "  background-color: var(--sklearn-color-background);\n",
       "}\n",
       "\n",
       "#sk-container-id-1 div.sk-container {\n",
       "  /* jupyter's `normalize.less` sets `[hidden] { display: none; }`\n",
       "     but bootstrap.min.css set `[hidden] { display: none !important; }`\n",
       "     so we also need the `!important` here to be able to override the\n",
       "     default hidden behavior on the sphinx rendered scikit-learn.org.\n",
       "     See: https://github.com/scikit-learn/scikit-learn/issues/21755 */\n",
       "  display: inline-block !important;\n",
       "  position: relative;\n",
       "}\n",
       "\n",
       "#sk-container-id-1 div.sk-text-repr-fallback {\n",
       "  display: none;\n",
       "}\n",
       "\n",
       "div.sk-parallel-item,\n",
       "div.sk-serial,\n",
       "div.sk-item {\n",
       "  /* draw centered vertical line to link estimators */\n",
       "  background-image: linear-gradient(var(--sklearn-color-text-on-default-background), var(--sklearn-color-text-on-default-background));\n",
       "  background-size: 2px 100%;\n",
       "  background-repeat: no-repeat;\n",
       "  background-position: center center;\n",
       "}\n",
       "\n",
       "/* Parallel-specific style estimator block */\n",
       "\n",
       "#sk-container-id-1 div.sk-parallel-item::after {\n",
       "  content: \"\";\n",
       "  width: 100%;\n",
       "  border-bottom: 2px solid var(--sklearn-color-text-on-default-background);\n",
       "  flex-grow: 1;\n",
       "}\n",
       "\n",
       "#sk-container-id-1 div.sk-parallel {\n",
       "  display: flex;\n",
       "  align-items: stretch;\n",
       "  justify-content: center;\n",
       "  background-color: var(--sklearn-color-background);\n",
       "  position: relative;\n",
       "}\n",
       "\n",
       "#sk-container-id-1 div.sk-parallel-item {\n",
       "  display: flex;\n",
       "  flex-direction: column;\n",
       "}\n",
       "\n",
       "#sk-container-id-1 div.sk-parallel-item:first-child::after {\n",
       "  align-self: flex-end;\n",
       "  width: 50%;\n",
       "}\n",
       "\n",
       "#sk-container-id-1 div.sk-parallel-item:last-child::after {\n",
       "  align-self: flex-start;\n",
       "  width: 50%;\n",
       "}\n",
       "\n",
       "#sk-container-id-1 div.sk-parallel-item:only-child::after {\n",
       "  width: 0;\n",
       "}\n",
       "\n",
       "/* Serial-specific style estimator block */\n",
       "\n",
       "#sk-container-id-1 div.sk-serial {\n",
       "  display: flex;\n",
       "  flex-direction: column;\n",
       "  align-items: center;\n",
       "  background-color: var(--sklearn-color-background);\n",
       "  padding-right: 1em;\n",
       "  padding-left: 1em;\n",
       "}\n",
       "\n",
       "\n",
       "/* Toggleable style: style used for estimator/Pipeline/ColumnTransformer box that is\n",
       "clickable and can be expanded/collapsed.\n",
       "- Pipeline and ColumnTransformer use this feature and define the default style\n",
       "- Estimators will overwrite some part of the style using the `sk-estimator` class\n",
       "*/\n",
       "\n",
       "/* Pipeline and ColumnTransformer style (default) */\n",
       "\n",
       "#sk-container-id-1 div.sk-toggleable {\n",
       "  /* Default theme specific background. It is overwritten whether we have a\n",
       "  specific estimator or a Pipeline/ColumnTransformer */\n",
       "  background-color: var(--sklearn-color-background);\n",
       "}\n",
       "\n",
       "/* Toggleable label */\n",
       "#sk-container-id-1 label.sk-toggleable__label {\n",
       "  cursor: pointer;\n",
       "  display: flex;\n",
       "  width: 100%;\n",
       "  margin-bottom: 0;\n",
       "  padding: 0.5em;\n",
       "  box-sizing: border-box;\n",
       "  text-align: center;\n",
       "  align-items: start;\n",
       "  justify-content: space-between;\n",
       "  gap: 0.5em;\n",
       "}\n",
       "\n",
       "#sk-container-id-1 label.sk-toggleable__label .caption {\n",
       "  font-size: 0.6rem;\n",
       "  font-weight: lighter;\n",
       "  color: var(--sklearn-color-text-muted);\n",
       "}\n",
       "\n",
       "#sk-container-id-1 label.sk-toggleable__label-arrow:before {\n",
       "  /* Arrow on the left of the label */\n",
       "  content: \"▸\";\n",
       "  float: left;\n",
       "  margin-right: 0.25em;\n",
       "  color: var(--sklearn-color-icon);\n",
       "}\n",
       "\n",
       "#sk-container-id-1 label.sk-toggleable__label-arrow:hover:before {\n",
       "  color: var(--sklearn-color-text);\n",
       "}\n",
       "\n",
       "/* Toggleable content - dropdown */\n",
       "\n",
       "#sk-container-id-1 div.sk-toggleable__content {\n",
       "  max-height: 0;\n",
       "  max-width: 0;\n",
       "  overflow: hidden;\n",
       "  text-align: left;\n",
       "  /* unfitted */\n",
       "  background-color: var(--sklearn-color-unfitted-level-0);\n",
       "}\n",
       "\n",
       "#sk-container-id-1 div.sk-toggleable__content.fitted {\n",
       "  /* fitted */\n",
       "  background-color: var(--sklearn-color-fitted-level-0);\n",
       "}\n",
       "\n",
       "#sk-container-id-1 div.sk-toggleable__content pre {\n",
       "  margin: 0.2em;\n",
       "  border-radius: 0.25em;\n",
       "  color: var(--sklearn-color-text);\n",
       "  /* unfitted */\n",
       "  background-color: var(--sklearn-color-unfitted-level-0);\n",
       "}\n",
       "\n",
       "#sk-container-id-1 div.sk-toggleable__content.fitted pre {\n",
       "  /* unfitted */\n",
       "  background-color: var(--sklearn-color-fitted-level-0);\n",
       "}\n",
       "\n",
       "#sk-container-id-1 input.sk-toggleable__control:checked~div.sk-toggleable__content {\n",
       "  /* Expand drop-down */\n",
       "  max-height: 200px;\n",
       "  max-width: 100%;\n",
       "  overflow: auto;\n",
       "}\n",
       "\n",
       "#sk-container-id-1 input.sk-toggleable__control:checked~label.sk-toggleable__label-arrow:before {\n",
       "  content: \"▾\";\n",
       "}\n",
       "\n",
       "/* Pipeline/ColumnTransformer-specific style */\n",
       "\n",
       "#sk-container-id-1 div.sk-label input.sk-toggleable__control:checked~label.sk-toggleable__label {\n",
       "  color: var(--sklearn-color-text);\n",
       "  background-color: var(--sklearn-color-unfitted-level-2);\n",
       "}\n",
       "\n",
       "#sk-container-id-1 div.sk-label.fitted input.sk-toggleable__control:checked~label.sk-toggleable__label {\n",
       "  background-color: var(--sklearn-color-fitted-level-2);\n",
       "}\n",
       "\n",
       "/* Estimator-specific style */\n",
       "\n",
       "/* Colorize estimator box */\n",
       "#sk-container-id-1 div.sk-estimator input.sk-toggleable__control:checked~label.sk-toggleable__label {\n",
       "  /* unfitted */\n",
       "  background-color: var(--sklearn-color-unfitted-level-2);\n",
       "}\n",
       "\n",
       "#sk-container-id-1 div.sk-estimator.fitted input.sk-toggleable__control:checked~label.sk-toggleable__label {\n",
       "  /* fitted */\n",
       "  background-color: var(--sklearn-color-fitted-level-2);\n",
       "}\n",
       "\n",
       "#sk-container-id-1 div.sk-label label.sk-toggleable__label,\n",
       "#sk-container-id-1 div.sk-label label {\n",
       "  /* The background is the default theme color */\n",
       "  color: var(--sklearn-color-text-on-default-background);\n",
       "}\n",
       "\n",
       "/* On hover, darken the color of the background */\n",
       "#sk-container-id-1 div.sk-label:hover label.sk-toggleable__label {\n",
       "  color: var(--sklearn-color-text);\n",
       "  background-color: var(--sklearn-color-unfitted-level-2);\n",
       "}\n",
       "\n",
       "/* Label box, darken color on hover, fitted */\n",
       "#sk-container-id-1 div.sk-label.fitted:hover label.sk-toggleable__label.fitted {\n",
       "  color: var(--sklearn-color-text);\n",
       "  background-color: var(--sklearn-color-fitted-level-2);\n",
       "}\n",
       "\n",
       "/* Estimator label */\n",
       "\n",
       "#sk-container-id-1 div.sk-label label {\n",
       "  font-family: monospace;\n",
       "  font-weight: bold;\n",
       "  display: inline-block;\n",
       "  line-height: 1.2em;\n",
       "}\n",
       "\n",
       "#sk-container-id-1 div.sk-label-container {\n",
       "  text-align: center;\n",
       "}\n",
       "\n",
       "/* Estimator-specific */\n",
       "#sk-container-id-1 div.sk-estimator {\n",
       "  font-family: monospace;\n",
       "  border: 1px dotted var(--sklearn-color-border-box);\n",
       "  border-radius: 0.25em;\n",
       "  box-sizing: border-box;\n",
       "  margin-bottom: 0.5em;\n",
       "  /* unfitted */\n",
       "  background-color: var(--sklearn-color-unfitted-level-0);\n",
       "}\n",
       "\n",
       "#sk-container-id-1 div.sk-estimator.fitted {\n",
       "  /* fitted */\n",
       "  background-color: var(--sklearn-color-fitted-level-0);\n",
       "}\n",
       "\n",
       "/* on hover */\n",
       "#sk-container-id-1 div.sk-estimator:hover {\n",
       "  /* unfitted */\n",
       "  background-color: var(--sklearn-color-unfitted-level-2);\n",
       "}\n",
       "\n",
       "#sk-container-id-1 div.sk-estimator.fitted:hover {\n",
       "  /* fitted */\n",
       "  background-color: var(--sklearn-color-fitted-level-2);\n",
       "}\n",
       "\n",
       "/* Specification for estimator info (e.g. \"i\" and \"?\") */\n",
       "\n",
       "/* Common style for \"i\" and \"?\" */\n",
       "\n",
       ".sk-estimator-doc-link,\n",
       "a:link.sk-estimator-doc-link,\n",
       "a:visited.sk-estimator-doc-link {\n",
       "  float: right;\n",
       "  font-size: smaller;\n",
       "  line-height: 1em;\n",
       "  font-family: monospace;\n",
       "  background-color: var(--sklearn-color-background);\n",
       "  border-radius: 1em;\n",
       "  height: 1em;\n",
       "  width: 1em;\n",
       "  text-decoration: none !important;\n",
       "  margin-left: 0.5em;\n",
       "  text-align: center;\n",
       "  /* unfitted */\n",
       "  border: var(--sklearn-color-unfitted-level-1) 1pt solid;\n",
       "  color: var(--sklearn-color-unfitted-level-1);\n",
       "}\n",
       "\n",
       ".sk-estimator-doc-link.fitted,\n",
       "a:link.sk-estimator-doc-link.fitted,\n",
       "a:visited.sk-estimator-doc-link.fitted {\n",
       "  /* fitted */\n",
       "  border: var(--sklearn-color-fitted-level-1) 1pt solid;\n",
       "  color: var(--sklearn-color-fitted-level-1);\n",
       "}\n",
       "\n",
       "/* On hover */\n",
       "div.sk-estimator:hover .sk-estimator-doc-link:hover,\n",
       ".sk-estimator-doc-link:hover,\n",
       "div.sk-label-container:hover .sk-estimator-doc-link:hover,\n",
       ".sk-estimator-doc-link:hover {\n",
       "  /* unfitted */\n",
       "  background-color: var(--sklearn-color-unfitted-level-3);\n",
       "  color: var(--sklearn-color-background);\n",
       "  text-decoration: none;\n",
       "}\n",
       "\n",
       "div.sk-estimator.fitted:hover .sk-estimator-doc-link.fitted:hover,\n",
       ".sk-estimator-doc-link.fitted:hover,\n",
       "div.sk-label-container:hover .sk-estimator-doc-link.fitted:hover,\n",
       ".sk-estimator-doc-link.fitted:hover {\n",
       "  /* fitted */\n",
       "  background-color: var(--sklearn-color-fitted-level-3);\n",
       "  color: var(--sklearn-color-background);\n",
       "  text-decoration: none;\n",
       "}\n",
       "\n",
       "/* Span, style for the box shown on hovering the info icon */\n",
       ".sk-estimator-doc-link span {\n",
       "  display: none;\n",
       "  z-index: 9999;\n",
       "  position: relative;\n",
       "  font-weight: normal;\n",
       "  right: .2ex;\n",
       "  padding: .5ex;\n",
       "  margin: .5ex;\n",
       "  width: min-content;\n",
       "  min-width: 20ex;\n",
       "  max-width: 50ex;\n",
       "  color: var(--sklearn-color-text);\n",
       "  box-shadow: 2pt 2pt 4pt #999;\n",
       "  /* unfitted */\n",
       "  background: var(--sklearn-color-unfitted-level-0);\n",
       "  border: .5pt solid var(--sklearn-color-unfitted-level-3);\n",
       "}\n",
       "\n",
       ".sk-estimator-doc-link.fitted span {\n",
       "  /* fitted */\n",
       "  background: var(--sklearn-color-fitted-level-0);\n",
       "  border: var(--sklearn-color-fitted-level-3);\n",
       "}\n",
       "\n",
       ".sk-estimator-doc-link:hover span {\n",
       "  display: block;\n",
       "}\n",
       "\n",
       "/* \"?\"-specific style due to the `<a>` HTML tag */\n",
       "\n",
       "#sk-container-id-1 a.estimator_doc_link {\n",
       "  float: right;\n",
       "  font-size: 1rem;\n",
       "  line-height: 1em;\n",
       "  font-family: monospace;\n",
       "  background-color: var(--sklearn-color-background);\n",
       "  border-radius: 1rem;\n",
       "  height: 1rem;\n",
       "  width: 1rem;\n",
       "  text-decoration: none;\n",
       "  /* unfitted */\n",
       "  color: var(--sklearn-color-unfitted-level-1);\n",
       "  border: var(--sklearn-color-unfitted-level-1) 1pt solid;\n",
       "}\n",
       "\n",
       "#sk-container-id-1 a.estimator_doc_link.fitted {\n",
       "  /* fitted */\n",
       "  border: var(--sklearn-color-fitted-level-1) 1pt solid;\n",
       "  color: var(--sklearn-color-fitted-level-1);\n",
       "}\n",
       "\n",
       "/* On hover */\n",
       "#sk-container-id-1 a.estimator_doc_link:hover {\n",
       "  /* unfitted */\n",
       "  background-color: var(--sklearn-color-unfitted-level-3);\n",
       "  color: var(--sklearn-color-background);\n",
       "  text-decoration: none;\n",
       "}\n",
       "\n",
       "#sk-container-id-1 a.estimator_doc_link.fitted:hover {\n",
       "  /* fitted */\n",
       "  background-color: var(--sklearn-color-fitted-level-3);\n",
       "}\n",
       "</style><div id=\"sk-container-id-1\" class=\"sk-top-container\"><div class=\"sk-text-repr-fallback\"><pre>SVC(kernel=&#x27;linear&#x27;)</pre><b>In a Jupyter environment, please rerun this cell to show the HTML representation or trust the notebook. <br />On GitHub, the HTML representation is unable to render, please try loading this page with nbviewer.org.</b></div><div class=\"sk-container\" hidden><div class=\"sk-item\"><div class=\"sk-estimator fitted sk-toggleable\"><input class=\"sk-toggleable__control sk-hidden--visually\" id=\"sk-estimator-id-1\" type=\"checkbox\" checked><label for=\"sk-estimator-id-1\" class=\"sk-toggleable__label fitted sk-toggleable__label-arrow\"><div><div>SVC</div></div><div><a class=\"sk-estimator-doc-link fitted\" rel=\"noreferrer\" target=\"_blank\" href=\"https://scikit-learn.org/1.6/modules/generated/sklearn.svm.SVC.html\">?<span>Documentation for SVC</span></a><span class=\"sk-estimator-doc-link fitted\">i<span>Fitted</span></span></div></label><div class=\"sk-toggleable__content fitted\"><pre>SVC(kernel=&#x27;linear&#x27;)</pre></div> </div></div></div></div>"
      ],
      "text/plain": [
       "SVC(kernel='linear')"
      ]
     },
     "execution_count": 18,
     "metadata": {},
     "output_type": "execute_result"
    }
   ],
   "source": [
    "svc.fit(X_train, y_train)"
   ]
  },
  {
   "cell_type": "code",
   "execution_count": 19,
   "id": "a14b9261-2720-461b-8dda-7f9e8cac187e",
   "metadata": {},
   "outputs": [],
   "source": [
    "y_pred = svc.predict(X_test)"
   ]
  },
  {
   "cell_type": "code",
   "execution_count": 20,
   "id": "f4c0154b-c2e4-474e-bd35-e4a078fbc35d",
   "metadata": {},
   "outputs": [],
   "source": [
    "from sklearn.metrics import classification_report, confusion_matrix"
   ]
  },
  {
   "cell_type": "code",
   "execution_count": 21,
   "id": "9b2638d3-36b8-49c9-b8c7-9713ebd66044",
   "metadata": {},
   "outputs": [
    {
     "name": "stdout",
     "output_type": "stream",
     "text": [
      "              precision    recall  f1-score   support\n",
      "\n",
      "           0       1.00      0.99      1.00       118\n",
      "           1       0.99      1.00      1.00       132\n",
      "\n",
      "    accuracy                           1.00       250\n",
      "   macro avg       1.00      1.00      1.00       250\n",
      "weighted avg       1.00      1.00      1.00       250\n",
      "\n",
      "[[117   1]\n",
      " [  0 132]]\n"
     ]
    }
   ],
   "source": [
    "print(classification_report(y_test, y_pred))\n",
    "print(confusion_matrix(y_test, y_pred))"
   ]
  },
  {
   "cell_type": "code",
   "execution_count": 24,
   "id": "f318086f-190c-4405-b857-c9eb6ee0b02b",
   "metadata": {},
   "outputs": [
    {
     "name": "stdout",
     "output_type": "stream",
     "text": [
      "              precision    recall  f1-score   support\n",
      "\n",
      "           0       1.00      0.99      1.00       118\n",
      "           1       0.99      1.00      1.00       132\n",
      "\n",
      "    accuracy                           1.00       250\n",
      "   macro avg       1.00      1.00      1.00       250\n",
      "weighted avg       1.00      1.00      1.00       250\n",
      "\n",
      "[[117   1]\n",
      " [  0 132]]\n"
     ]
    }
   ],
   "source": [
    "rbf = SVC(kernel = \"rbf\")\n",
    "rbf.fit(X_train, y_train)\n",
    "y_pred = rbf.predict(X_test)\n",
    "print(classification_report(y_test, y_pred))\n",
    "print(confusion_matrix(y_test, y_pred))"
   ]
  },
  {
   "cell_type": "code",
   "execution_count": 26,
   "id": "8ae72036-f3ef-4c30-a5a5-5fe5cb24e699",
   "metadata": {},
   "outputs": [],
   "source": [
    "# loan risk "
   ]
  },
  {
   "cell_type": "code",
   "execution_count": null,
   "id": "9c518be8-48aa-4e14-9050-6c9ef93879c7",
   "metadata": {},
   "outputs": [],
   "source": [
    "df = pd.read_csv(\"9-loan_risk_svm.csv\")"
   ]
  },
  {
   "cell_type": "code",
   "execution_count": 28,
   "id": "723e74ff-a777-4fcb-9951-179d991260e9",
   "metadata": {},
   "outputs": [
    {
     "data": {
      "text/html": [
       "<div>\n",
       "<style scoped>\n",
       "    .dataframe tbody tr th:only-of-type {\n",
       "        vertical-align: middle;\n",
       "    }\n",
       "\n",
       "    .dataframe tbody tr th {\n",
       "        vertical-align: top;\n",
       "    }\n",
       "\n",
       "    .dataframe thead th {\n",
       "        text-align: right;\n",
       "    }\n",
       "</style>\n",
       "<table border=\"1\" class=\"dataframe\">\n",
       "  <thead>\n",
       "    <tr style=\"text-align: right;\">\n",
       "      <th></th>\n",
       "      <th>credit_score_fluctuation</th>\n",
       "      <th>recent_transaction_volume</th>\n",
       "      <th>loan_risk</th>\n",
       "    </tr>\n",
       "  </thead>\n",
       "  <tbody>\n",
       "    <tr>\n",
       "      <th>0</th>\n",
       "      <td>-1.439860</td>\n",
       "      <td>1.283010</td>\n",
       "      <td>1</td>\n",
       "    </tr>\n",
       "    <tr>\n",
       "      <th>1</th>\n",
       "      <td>-0.276571</td>\n",
       "      <td>-1.232382</td>\n",
       "      <td>0</td>\n",
       "    </tr>\n",
       "    <tr>\n",
       "      <th>2</th>\n",
       "      <td>1.312047</td>\n",
       "      <td>0.955097</td>\n",
       "      <td>1</td>\n",
       "    </tr>\n",
       "    <tr>\n",
       "      <th>3</th>\n",
       "      <td>1.020706</td>\n",
       "      <td>0.089485</td>\n",
       "      <td>0</td>\n",
       "    </tr>\n",
       "    <tr>\n",
       "      <th>4</th>\n",
       "      <td>1.513729</td>\n",
       "      <td>0.580520</td>\n",
       "      <td>1</td>\n",
       "    </tr>\n",
       "  </tbody>\n",
       "</table>\n",
       "</div>"
      ],
      "text/plain": [
       "   credit_score_fluctuation  recent_transaction_volume  loan_risk\n",
       "0                 -1.439860                   1.283010          1\n",
       "1                 -0.276571                  -1.232382          0\n",
       "2                  1.312047                   0.955097          1\n",
       "3                  1.020706                   0.089485          0\n",
       "4                  1.513729                   0.580520          1"
      ]
     },
     "execution_count": 28,
     "metadata": {},
     "output_type": "execute_result"
    }
   ],
   "source": [
    "df.head()"
   ]
  },
  {
   "cell_type": "code",
   "execution_count": 29,
   "id": "43e84799-e66e-4655-98f1-b6e192554225",
   "metadata": {},
   "outputs": [
    {
     "name": "stdout",
     "output_type": "stream",
     "text": [
      "<class 'pandas.core.frame.DataFrame'>\n",
      "RangeIndex: 1000 entries, 0 to 999\n",
      "Data columns (total 3 columns):\n",
      " #   Column                     Non-Null Count  Dtype  \n",
      "---  ------                     --------------  -----  \n",
      " 0   credit_score_fluctuation   1000 non-null   float64\n",
      " 1   recent_transaction_volume  1000 non-null   float64\n",
      " 2   loan_risk                  1000 non-null   int64  \n",
      "dtypes: float64(2), int64(1)\n",
      "memory usage: 23.6 KB\n"
     ]
    }
   ],
   "source": [
    "df.info()"
   ]
  },
  {
   "cell_type": "code",
   "execution_count": 30,
   "id": "a83a739e-e255-4976-905b-f9e77485c9d4",
   "metadata": {},
   "outputs": [
    {
     "data": {
      "text/plain": [
       "credit_score_fluctuation     0\n",
       "recent_transaction_volume    0\n",
       "loan_risk                    0\n",
       "dtype: int64"
      ]
     },
     "execution_count": 30,
     "metadata": {},
     "output_type": "execute_result"
    }
   ],
   "source": [
    "df.isnull().sum()"
   ]
  },
  {
   "cell_type": "code",
   "execution_count": 33,
   "id": "1a33f5fa-2d69-4783-8d8a-033815376e2f",
   "metadata": {},
   "outputs": [
    {
     "data": {
      "image/png": "[encoded data removed]",
      "text/plain": [
       "<Figure size 640x480 with 1 Axes>"
      ]
     },
     "metadata": {},
     "output_type": "display_data"
    }
   ],
   "source": [
    "sns.scatterplot(x = df[\"credit_score_fluctuation\"], y = df[\"recent_transaction_volume\"], hue = df[\"loan_risk\"])\n",
    "plt.show()"
   ]
  },
  {
   "cell_type": "code",
   "execution_count": 34,
   "id": "d2fccc0e-6503-41be-b914-c63e5bd1dfd8",
   "metadata": {},
   "outputs": [],
   "source": [
    "X = df.drop(\"loan_risk\", axis = 1)\n",
    "y = df[\"loan_risk\"]\n",
    "\n",
    "X_train, X_test, y_train, y_test = train_test_split(X,y,test_size = 0.25, random_state=15)"
   ]
  },
  {
   "cell_type": "code",
   "execution_count": 37,
   "id": "5d01dccf-e2a4-4a9a-aed4-47972a06e319",
   "metadata": {},
   "outputs": [
    {
     "name": "stdout",
     "output_type": "stream",
     "text": [
      "              precision    recall  f1-score   support\n",
      "\n",
      "           0       0.92      0.90      0.91       121\n",
      "           1       0.91      0.93      0.92       129\n",
      "\n",
      "    accuracy                           0.92       250\n",
      "   macro avg       0.92      0.92      0.92       250\n",
      "weighted avg       0.92      0.92      0.92       250\n",
      "\n",
      "[[109  12]\n",
      " [  9 120]]\n"
     ]
    }
   ],
   "source": [
    "linear = SVC(kernel = \"linear\")\n",
    "linear.fit(X_train, y_train)\n",
    "y_pred3 = linear.predict(X_test)\n",
    "print(classification_report(y_test, y_pred3))\n",
    "print(confusion_matrix(y_test, y_pred3))"
   ]
  },
  {
   "cell_type": "code",
   "execution_count": 38,
   "id": "2c7ab818-b83d-4c63-9f46-4d1d33c443d9",
   "metadata": {},
   "outputs": [
    {
     "name": "stdout",
     "output_type": "stream",
     "text": [
      "              precision    recall  f1-score   support\n",
      "\n",
      "           0       0.91      0.93      0.92       121\n",
      "           1       0.94      0.91      0.93       129\n",
      "\n",
      "    accuracy                           0.92       250\n",
      "   macro avg       0.92      0.92      0.92       250\n",
      "weighted avg       0.92      0.92      0.92       250\n",
      "\n",
      "[[113   8]\n",
      " [ 11 118]]\n"
     ]
    }
   ],
   "source": [
    "rbf = SVC(kernel = \"rbf\")\n",
    "rbf.fit(X_train, y_train)\n",
    "y_pred4 = rbf.predict(X_test)\n",
    "print(classification_report(y_test, y_pred4))\n",
    "print(confusion_matrix(y_test, y_pred4))"
   ]
  },
  {
   "cell_type": "code",
   "execution_count": 39,
   "id": "5b769ddc-f828-477b-8f0c-3bf1c7206e27",
   "metadata": {},
   "outputs": [
    {
     "name": "stdout",
     "output_type": "stream",
     "text": [
      "              precision    recall  f1-score   support\n",
      "\n",
      "           0       0.93      0.88      0.91       121\n",
      "           1       0.90      0.94      0.92       129\n",
      "\n",
      "    accuracy                           0.91       250\n",
      "   macro avg       0.91      0.91      0.91       250\n",
      "weighted avg       0.91      0.91      0.91       250\n",
      "\n",
      "[[107  14]\n",
      " [  8 121]]\n"
     ]
    }
   ],
   "source": [
    "poly = SVC(kernel = \"poly\")\n",
    "poly.fit(X_train, y_train)\n",
    "y_pred5 = poly.predict(X_test)\n",
    "print(classification_report(y_test, y_pred5))\n",
    "print(confusion_matrix(y_test, y_pred5))"
   ]
  },
  {
   "cell_type": "code",
   "execution_count": 40,
   "id": "7f2a0624-7c6a-436d-a54d-cef51b0a6bf4",
   "metadata": {},
   "outputs": [
    {
     "name": "stdout",
     "output_type": "stream",
     "text": [
      "              precision    recall  f1-score   support\n",
      "\n",
      "           0       0.83      0.81      0.82       121\n",
      "           1       0.83      0.84      0.84       129\n",
      "\n",
      "    accuracy                           0.83       250\n",
      "   macro avg       0.83      0.83      0.83       250\n",
      "weighted avg       0.83      0.83      0.83       250\n",
      "\n",
      "[[ 98  23]\n",
      " [ 20 109]]\n"
     ]
    }
   ],
   "source": [
    "sigmoid = SVC(kernel = \"sigmoid\")\n",
    "sigmoid.fit(X_train, y_train)\n",
    "y_pred6 = sigmoid.predict(X_test)\n",
    "print(classification_report(y_test, y_pred6))\n",
    "print(confusion_matrix(y_test, y_pred6))"
   ]
  },
  {
   "cell_type": "code",
   "execution_count": 41,
   "id": "baa6a368-d647-4a02-9c1b-203fb00b7ecd",
   "metadata": {},
   "outputs": [],
   "source": [
    "#hyperparameter tuning"
   ]
  },
  {
   "cell_type": "code",
   "execution_count": 42,
   "id": "84af7bcb-dde3-4e1d-bab5-caacb3d2ce11",
   "metadata": {},
   "outputs": [],
   "source": [
    "param_grid = {\n",
    "    \"C\":[0.1,1,10,100,1000], \n",
    "    \"kernel\":[\"rbf\"], \n",
    "    \"gamma\": [\"scale\", \"auto\"]\n",
    "}"
   ]
  },
  {
   "cell_type": "code",
   "execution_count": 43,
   "id": "b873efe7-854d-41b5-9775-889c83f7e7d7",
   "metadata": {},
   "outputs": [],
   "source": [
    "from sklearn.model_selection import GridSearchCV "
   ]
  },
  {
   "cell_type": "code",
   "execution_count": 44,
   "id": "3f309d1e-bc84-4370-bd0d-9cb150c4e122",
   "metadata": {},
   "outputs": [],
   "source": [
    "grid = GridSearchCV(estimator = SVC(), param_grid=param_grid, cv = 5)"
   ]
  },
  {
   "cell_type": "code",
   "execution_count": 45,
   "id": "b56d5df1-29c3-4876-9be6-ad49a509f81d",
   "metadata": {},
   "outputs": [
    {
     "data": {
      "text/html": [
       "<style>#sk-container-id-2 {\n",
       "  /* Definition of color scheme common for light and dark mode */\n",
       "  --sklearn-color-text: #000;\n",
       "  --sklearn-color-text-muted: #666;\n",
       "  --sklearn-color-line: gray;\n",
       "  /* Definition of color scheme for unfitted estimators */\n",
       "  --sklearn-color-unfitted-level-0: #fff5e6;\n",
       "  --sklearn-color-unfitted-level-1: #f6e4d2;\n",
       "  --sklearn-color-unfitted-level-2: #ffe0b3;\n",
       "  --sklearn-color-unfitted-level-3: chocolate;\n",
       "  /* Definition of color scheme for fitted estimators */\n",
       "  --sklearn-color-fitted-level-0: #f0f8ff;\n",
       "  --sklearn-color-fitted-level-1: #d4ebff;\n",
       "  --sklearn-color-fitted-level-2: #b3dbfd;\n",
       "  --sklearn-color-fitted-level-3: cornflowerblue;\n",
       "\n",
       "  /* Specific color for light theme */\n",
       "  --sklearn-color-text-on-default-background: var(--sg-text-color, var(--theme-code-foreground, var(--jp-content-font-color1, black)));\n",
       "  --sklearn-color-background: var(--sg-background-color, var(--theme-background, var(--jp-layout-color0, white)));\n",
       "  --sklearn-color-border-box: var(--sg-text-color, var(--theme-code-foreground, var(--jp-content-font-color1, black)));\n",
       "  --sklearn-color-icon: #696969;\n",
       "\n",
       "  @media (prefers-color-scheme: dark) {\n",
       "    /* Redefinition of color scheme for dark theme */\n",
       "    --sklearn-color-text-on-default-background: var(--sg-text-color, var(--theme-code-foreground, var(--jp-content-font-color1, white)));\n",
       "    --sklearn-color-background: var(--sg-background-color, var(--theme-background, var(--jp-layout-color0, #111)));\n",
       "    --sklearn-color-border-box: var(--sg-text-color, var(--theme-code-foreground, var(--jp-content-font-color1, white)));\n",
       "    --sklearn-color-icon: #878787;\n",
       "  }\n",
       "}\n",
       "\n",
       "#sk-container-id-2 {\n",
       "  color: var(--sklearn-color-text);\n",
       "}\n",
       "\n",
       "#sk-container-id-2 pre {\n",
       "  padding: 0;\n",
       "}\n",
       "\n",
       "#sk-container-id-2 input.sk-hidden--visually {\n",
       "  border: 0;\n",
       "  clip: rect(1px 1px 1px 1px);\n",
       "  clip: rect(1px, 1px, 1px, 1px);\n",
       "  height: 1px;\n",
       "  margin: -1px;\n",
       "  overflow: hidden;\n",
       "  padding: 0;\n",
       "  position: absolute;\n",
       "  width: 1px;\n",
       "}\n",
       "\n",
       "#sk-container-id-2 div.sk-dashed-wrapped {\n",
       "  border: 1px dashed var(--sklearn-color-line);\n",
       "  margin: 0 0.4em 0.5em 0.4em;\n",
       "  box-sizing: border-box;\n",
       "  padding-bottom: 0.4em;\n",
       "  background-color: var(--sklearn-color-background);\n",
       "}\n",
       "\n",
       "#sk-container-id-2 div.sk-container {\n",
       "  /* jupyter's `normalize.less` sets `[hidden] { display: none; }`\n",
       "     but bootstrap.min.css set `[hidden] { display: none !important; }`\n",
       "     so we also need the `!important` here to be able to override the\n",
       "     default hidden behavior on the sphinx rendered scikit-learn.org.\n",
       "     See: https://github.com/scikit-learn/scikit-learn/issues/21755 */\n",
       "  display: inline-block !important;\n",
       "  position: relative;\n",
       "}\n",
       "\n",
       "#sk-container-id-2 div.sk-text-repr-fallback {\n",
       "  display: none;\n",
       "}\n",
       "\n",
       "div.sk-parallel-item,\n",
       "div.sk-serial,\n",
       "div.sk-item {\n",
       "  /* draw centered vertical line to link estimators */\n",
       "  background-image: linear-gradient(var(--sklearn-color-text-on-default-background), var(--sklearn-color-text-on-default-background));\n",
       "  background-size: 2px 100%;\n",
       "  background-repeat: no-repeat;\n",
       "  background-position: center center;\n",
       "}\n",
       "\n",
       "/* Parallel-specific style estimator block */\n",
       "\n",
       "#sk-container-id-2 div.sk-parallel-item::after {\n",
       "  content: \"\";\n",
       "  width: 100%;\n",
       "  border-bottom: 2px solid var(--sklearn-color-text-on-default-background);\n",
       "  flex-grow: 1;\n",
       "}\n",
       "\n",
       "#sk-container-id-2 div.sk-parallel {\n",
       "  display: flex;\n",
       "  align-items: stretch;\n",
       "  justify-content: center;\n",
       "  background-color: var(--sklearn-color-background);\n",
       "  position: relative;\n",
       "}\n",
       "\n",
       "#sk-container-id-2 div.sk-parallel-item {\n",
       "  display: flex;\n",
       "  flex-direction: column;\n",
       "}\n",
       "\n",
       "#sk-container-id-2 div.sk-parallel-item:first-child::after {\n",
       "  align-self: flex-end;\n",
       "  width: 50%;\n",
       "}\n",
       "\n",
       "#sk-container-id-2 div.sk-parallel-item:last-child::after {\n",
       "  align-self: flex-start;\n",
       "  width: 50%;\n",
       "}\n",
       "\n",
       "#sk-container-id-2 div.sk-parallel-item:only-child::after {\n",
       "  width: 0;\n",
       "}\n",
       "\n",
       "/* Serial-specific style estimator block */\n",
       "\n",
       "#sk-container-id-2 div.sk-serial {\n",
       "  display: flex;\n",
       "  flex-direction: column;\n",
       "  align-items: center;\n",
       "  background-color: var(--sklearn-color-background);\n",
       "  padding-right: 1em;\n",
       "  padding-left: 1em;\n",
       "}\n",
       "\n",
       "\n",
       "/* Toggleable style: style used for estimator/Pipeline/ColumnTransformer box that is\n",
       "clickable and can be expanded/collapsed.\n",
       "- Pipeline and ColumnTransformer use this feature and define the default style\n",
       "- Estimators will overwrite some part of the style using the `sk-estimator` class\n",
       "*/\n",
       "\n",
       "/* Pipeline and ColumnTransformer style (default) */\n",
       "\n",
       "#sk-container-id-2 div.sk-toggleable {\n",
       "  /* Default theme specific background. It is overwritten whether we have a\n",
       "  specific estimator or a Pipeline/ColumnTransformer */\n",
       "  background-color: var(--sklearn-color-background);\n",
       "}\n",
       "\n",
       "/* Toggleable label */\n",
       "#sk-container-id-2 label.sk-toggleable__label {\n",
       "  cursor: pointer;\n",
       "  display: flex;\n",
       "  width: 100%;\n",
       "  margin-bottom: 0;\n",
       "  padding: 0.5em;\n",
       "  box-sizing: border-box;\n",
       "  text-align: center;\n",
       "  align-items: start;\n",
       "  justify-content: space-between;\n",
       "  gap: 0.5em;\n",
       "}\n",
       "\n",
       "#sk-container-id-2 label.sk-toggleable__label .caption {\n",
       "  font-size: 0.6rem;\n",
       "  font-weight: lighter;\n",
       "  color: var(--sklearn-color-text-muted);\n",
       "}\n",
       "\n",
       "#sk-container-id-2 label.sk-toggleable__label-arrow:before {\n",
       "  /* Arrow on the left of the label */\n",
       "  content: \"▸\";\n",
       "  float: left;\n",
       "  margin-right: 0.25em;\n",
       "  color: var(--sklearn-color-icon);\n",
       "}\n",
       "\n",
       "#sk-container-id-2 label.sk-toggleable__label-arrow:hover:before {\n",
       "  color: var(--sklearn-color-text);\n",
       "}\n",
       "\n",
       "/* Toggleable content - dropdown */\n",
       "\n",
       "#sk-container-id-2 div.sk-toggleable__content {\n",
       "  max-height: 0;\n",
       "  max-width: 0;\n",
       "  overflow: hidden;\n",
       "  text-align: left;\n",
       "  /* unfitted */\n",
       "  background-color: var(--sklearn-color-unfitted-level-0);\n",
       "}\n",
       "\n",
       "#sk-container-id-2 div.sk-toggleable__content.fitted {\n",
       "  /* fitted */\n",
       "  background-color: var(--sklearn-color-fitted-level-0);\n",
       "}\n",
       "\n",
       "#sk-container-id-2 div.sk-toggleable__content pre {\n",
       "  margin: 0.2em;\n",
       "  border-radius: 0.25em;\n",
       "  color: var(--sklearn-color-text);\n",
       "  /* unfitted */\n",
       "  background-color: var(--sklearn-color-unfitted-level-0);\n",
       "}\n",
       "\n",
       "#sk-container-id-2 div.sk-toggleable__content.fitted pre {\n",
       "  /* unfitted */\n",
       "  background-color: var(--sklearn-color-fitted-level-0);\n",
       "}\n",
       "\n",
       "#sk-container-id-2 input.sk-toggleable__control:checked~div.sk-toggleable__content {\n",
       "  /* Expand drop-down */\n",
       "  max-height: 200px;\n",
       "  max-width: 100%;\n",
       "  overflow: auto;\n",
       "}\n",
       "\n",
       "#sk-container-id-2 input.sk-toggleable__control:checked~label.sk-toggleable__label-arrow:before {\n",
       "  content: \"▾\";\n",
       "}\n",
       "\n",
       "/* Pipeline/ColumnTransformer-specific style */\n",
       "\n",
       "#sk-container-id-2 div.sk-label input.sk-toggleable__control:checked~label.sk-toggleable__label {\n",
       "  color: var(--sklearn-color-text);\n",
       "  background-color: var(--sklearn-color-unfitted-level-2);\n",
       "}\n",
       "\n",
       "#sk-container-id-2 div.sk-label.fitted input.sk-toggleable__control:checked~label.sk-toggleable__label {\n",
       "  background-color: var(--sklearn-color-fitted-level-2);\n",
       "}\n",
       "\n",
       "/* Estimator-specific style */\n",
       "\n",
       "/* Colorize estimator box */\n",
       "#sk-container-id-2 div.sk-estimator input.sk-toggleable__control:checked~label.sk-toggleable__label {\n",
       "  /* unfitted */\n",
       "  background-color: var(--sklearn-color-unfitted-level-2);\n",
       "}\n",
       "\n",
       "#sk-container-id-2 div.sk-estimator.fitted input.sk-toggleable__control:checked~label.sk-toggleable__label {\n",
       "  /* fitted */\n",
       "  background-color: var(--sklearn-color-fitted-level-2);\n",
       "}\n",
       "\n",
       "#sk-container-id-2 div.sk-label label.sk-toggleable__label,\n",
       "#sk-container-id-2 div.sk-label label {\n",
       "  /* The background is the default theme color */\n",
       "  color: var(--sklearn-color-text-on-default-background);\n",
       "}\n",
       "\n",
       "/* On hover, darken the color of the background */\n",
       "#sk-container-id-2 div.sk-label:hover label.sk-toggleable__label {\n",
       "  color: var(--sklearn-color-text);\n",
       "  background-color: var(--sklearn-color-unfitted-level-2);\n",
       "}\n",
       "\n",
       "/* Label box, darken color on hover, fitted */\n",
       "#sk-container-id-2 div.sk-label.fitted:hover label.sk-toggleable__label.fitted {\n",
       "  color: var(--sklearn-color-text);\n",
       "  background-color: var(--sklearn-color-fitted-level-2);\n",
       "}\n",
       "\n",
       "/* Estimator label */\n",
       "\n",
       "#sk-container-id-2 div.sk-label label {\n",
       "  font-family: monospace;\n",
       "  font-weight: bold;\n",
       "  display: inline-block;\n",
       "  line-height: 1.2em;\n",
       "}\n",
       "\n",
       "#sk-container-id-2 div.sk-label-container {\n",
       "  text-align: center;\n",
       "}\n",
       "\n",
       "/* Estimator-specific */\n",
       "#sk-container-id-2 div.sk-estimator {\n",
       "  font-family: monospace;\n",
       "  border: 1px dotted var(--sklearn-color-border-box);\n",
       "  border-radius: 0.25em;\n",
       "  box-sizing: border-box;\n",
       "  margin-bottom: 0.5em;\n",
       "  /* unfitted */\n",
       "  background-color: var(--sklearn-color-unfitted-level-0);\n",
       "}\n",
       "\n",
       "#sk-container-id-2 div.sk-estimator.fitted {\n",
       "  /* fitted */\n",
       "  background-color: var(--sklearn-color-fitted-level-0);\n",
       "}\n",
       "\n",
       "/* on hover */\n",
       "#sk-container-id-2 div.sk-estimator:hover {\n",
       "  /* unfitted */\n",
       "  background-color: var(--sklearn-color-unfitted-level-2);\n",
       "}\n",
       "\n",
       "#sk-container-id-2 div.sk-estimator.fitted:hover {\n",
       "  /* fitted */\n",
       "  background-color: var(--sklearn-color-fitted-level-2);\n",
       "}\n",
       "\n",
       "/* Specification for estimator info (e.g. \"i\" and \"?\") */\n",
       "\n",
       "/* Common style for \"i\" and \"?\" */\n",
       "\n",
       ".sk-estimator-doc-link,\n",
       "a:link.sk-estimator-doc-link,\n",
       "a:visited.sk-estimator-doc-link {\n",
       "  float: right;\n",
       "  font-size: smaller;\n",
       "  line-height: 1em;\n",
       "  font-family: monospace;\n",
       "  background-color: var(--sklearn-color-background);\n",
       "  border-radius: 1em;\n",
       "  height: 1em;\n",
       "  width: 1em;\n",
       "  text-decoration: none !important;\n",
       "  margin-left: 0.5em;\n",
       "  text-align: center;\n",
       "  /* unfitted */\n",
       "  border: var(--sklearn-color-unfitted-level-1) 1pt solid;\n",
       "  color: var(--sklearn-color-unfitted-level-1);\n",
       "}\n",
       "\n",
       ".sk-estimator-doc-link.fitted,\n",
       "a:link.sk-estimator-doc-link.fitted,\n",
       "a:visited.sk-estimator-doc-link.fitted {\n",
       "  /* fitted */\n",
       "  border: var(--sklearn-color-fitted-level-1) 1pt solid;\n",
       "  color: var(--sklearn-color-fitted-level-1);\n",
       "}\n",
       "\n",
       "/* On hover */\n",
       "div.sk-estimator:hover .sk-estimator-doc-link:hover,\n",
       ".sk-estimator-doc-link:hover,\n",
       "div.sk-label-container:hover .sk-estimator-doc-link:hover,\n",
       ".sk-estimator-doc-link:hover {\n",
       "  /* unfitted */\n",
       "  background-color: var(--sklearn-color-unfitted-level-3);\n",
       "  color: var(--sklearn-color-background);\n",
       "  text-decoration: none;\n",
       "}\n",
       "\n",
       "div.sk-estimator.fitted:hover .sk-estimator-doc-link.fitted:hover,\n",
       ".sk-estimator-doc-link.fitted:hover,\n",
       "div.sk-label-container:hover .sk-estimator-doc-link.fitted:hover,\n",
       ".sk-estimator-doc-link.fitted:hover {\n",
       "  /* fitted */\n",
       "  background-color: var(--sklearn-color-fitted-level-3);\n",
       "  color: var(--sklearn-color-background);\n",
       "  text-decoration: none;\n",
       "}\n",
       "\n",
       "/* Span, style for the box shown on hovering the info icon */\n",
       ".sk-estimator-doc-link span {\n",
       "  display: none;\n",
       "  z-index: 9999;\n",
       "  position: relative;\n",
       "  font-weight: normal;\n",
       "  right: .2ex;\n",
       "  padding: .5ex;\n",
       "  margin: .5ex;\n",
       "  width: min-content;\n",
       "  min-width: 20ex;\n",
       "  max-width: 50ex;\n",
       "  color: var(--sklearn-color-text);\n",
       "  box-shadow: 2pt 2pt 4pt #999;\n",
       "  /* unfitted */\n",
       "  background: var(--sklearn-color-unfitted-level-0);\n",
       "  border: .5pt solid var(--sklearn-color-unfitted-level-3);\n",
       "}\n",
       "\n",
       ".sk-estimator-doc-link.fitted span {\n",
       "  /* fitted */\n",
       "  background: var(--sklearn-color-fitted-level-0);\n",
       "  border: var(--sklearn-color-fitted-level-3);\n",
       "}\n",
       "\n",
       ".sk-estimator-doc-link:hover span {\n",
       "  display: block;\n",
       "}\n",
       "\n",
       "/* \"?\"-specific style due to the `<a>` HTML tag */\n",
       "\n",
       "#sk-container-id-2 a.estimator_doc_link {\n",
       "  float: right;\n",
       "  font-size: 1rem;\n",
       "  line-height: 1em;\n",
       "  font-family: monospace;\n",
       "  background-color: var(--sklearn-color-background);\n",
       "  border-radius: 1rem;\n",
       "  height: 1rem;\n",
       "  width: 1rem;\n",
       "  text-decoration: none;\n",
       "  /* unfitted */\n",
       "  color: var(--sklearn-color-unfitted-level-1);\n",
       "  border: var(--sklearn-color-unfitted-level-1) 1pt solid;\n",
       "}\n",
       "\n",
       "#sk-container-id-2 a.estimator_doc_link.fitted {\n",
       "  /* fitted */\n",
       "  border: var(--sklearn-color-fitted-level-1) 1pt solid;\n",
       "  color: var(--sklearn-color-fitted-level-1);\n",
       "}\n",
       "\n",
       "/* On hover */\n",
       "#sk-container-id-2 a.estimator_doc_link:hover {\n",
       "  /* unfitted */\n",
       "  background-color: var(--sklearn-color-unfitted-level-3);\n",
       "  color: var(--sklearn-color-background);\n",
       "  text-decoration: none;\n",
       "}\n",
       "\n",
       "#sk-container-id-2 a.estimator_doc_link.fitted:hover {\n",
       "  /* fitted */\n",
       "  background-color: var(--sklearn-color-fitted-level-3);\n",
       "}\n",
       "</style><div id=\"sk-container-id-2\" class=\"sk-top-container\"><div class=\"sk-text-repr-fallback\"><pre>GridSearchCV(cv=5, estimator=SVC(),\n",
       "             param_grid={&#x27;C&#x27;: [0.1, 1, 10, 100, 1000],\n",
       "                         &#x27;gamma&#x27;: [&#x27;scale&#x27;, &#x27;auto&#x27;], &#x27;kernel&#x27;: [&#x27;rbf&#x27;]})</pre><b>In a Jupyter environment, please rerun this cell to show the HTML representation or trust the notebook. <br />On GitHub, the HTML representation is unable to render, please try loading this page with nbviewer.org.</b></div><div class=\"sk-container\" hidden><div class=\"sk-item sk-dashed-wrapped\"><div class=\"sk-label-container\"><div class=\"sk-label fitted sk-toggleable\"><input class=\"sk-toggleable__control sk-hidden--visually\" id=\"sk-estimator-id-2\" type=\"checkbox\" ><label for=\"sk-estimator-id-2\" class=\"sk-toggleable__label fitted sk-toggleable__label-arrow\"><div><div>GridSearchCV</div></div><div><a class=\"sk-estimator-doc-link fitted\" rel=\"noreferrer\" target=\"_blank\" href=\"https://scikit-learn.org/1.6/modules/generated/sklearn.model_selection.GridSearchCV.html\">?<span>Documentation for GridSearchCV</span></a><span class=\"sk-estimator-doc-link fitted\">i<span>Fitted</span></span></div></label><div class=\"sk-toggleable__content fitted\"><pre>GridSearchCV(cv=5, estimator=SVC(),\n",
       "             param_grid={&#x27;C&#x27;: [0.1, 1, 10, 100, 1000],\n",
       "                         &#x27;gamma&#x27;: [&#x27;scale&#x27;, &#x27;auto&#x27;], &#x27;kernel&#x27;: [&#x27;rbf&#x27;]})</pre></div> </div></div><div class=\"sk-parallel\"><div class=\"sk-parallel-item\"><div class=\"sk-item\"><div class=\"sk-label-container\"><div class=\"sk-label fitted sk-toggleable\"><input class=\"sk-toggleable__control sk-hidden--visually\" id=\"sk-estimator-id-3\" type=\"checkbox\" ><label for=\"sk-estimator-id-3\" class=\"sk-toggleable__label fitted sk-toggleable__label-arrow\"><div><div>best_estimator_: SVC</div></div></label><div class=\"sk-toggleable__content fitted\"><pre>SVC(C=10)</pre></div> </div></div><div class=\"sk-serial\"><div class=\"sk-item\"><div class=\"sk-estimator fitted sk-toggleable\"><input class=\"sk-toggleable__control sk-hidden--visually\" id=\"sk-estimator-id-4\" type=\"checkbox\" ><label for=\"sk-estimator-id-4\" class=\"sk-toggleable__label fitted sk-toggleable__label-arrow\"><div><div>SVC</div></div><div><a class=\"sk-estimator-doc-link fitted\" rel=\"noreferrer\" target=\"_blank\" href=\"https://scikit-learn.org/1.6/modules/generated/sklearn.svm.SVC.html\">?<span>Documentation for SVC</span></a></div></label><div class=\"sk-toggleable__content fitted\"><pre>SVC(C=10)</pre></div> </div></div></div></div></div></div></div></div></div>"
      ],
      "text/plain": [
       "GridSearchCV(cv=5, estimator=SVC(),\n",
       "             param_grid={'C': [0.1, 1, 10, 100, 1000],\n",
       "                         'gamma': ['scale', 'auto'], 'kernel': ['rbf']})"
      ]
     },
     "execution_count": 45,
     "metadata": {},
     "output_type": "execute_result"
    }
   ],
   "source": [
    "grid.fit(X_train, y_train)"
   ]
  },
  {
   "cell_type": "code",
   "execution_count": 46,
   "id": "d6818dd2-5348-49d2-8233-13dae88fa038",
   "metadata": {},
   "outputs": [
    {
     "data": {
      "text/plain": [
       "{'C': 10, 'gamma': 'scale', 'kernel': 'rbf'}"
      ]
     },
     "execution_count": 46,
     "metadata": {},
     "output_type": "execute_result"
    }
   ],
   "source": [
    "grid.best_params_"
   ]
  },
  {
   "cell_type": "code",
   "execution_count": 47,
   "id": "d5a72bc7-4960-494c-923b-3e095615c993",
   "metadata": {},
   "outputs": [
    {
     "name": "stdout",
     "output_type": "stream",
     "text": [
      "              precision    recall  f1-score   support\n",
      "\n",
      "           0       0.92      0.93      0.92       121\n",
      "           1       0.93      0.92      0.93       129\n",
      "\n",
      "    accuracy                           0.92       250\n",
      "   macro avg       0.92      0.92      0.92       250\n",
      "weighted avg       0.92      0.92      0.92       250\n",
      "\n",
      "[[112   9]\n",
      " [ 10 119]]\n"
     ]
    }
   ],
   "source": [
    "y_pred7 = grid.predict(X_test)\n",
    "print(classification_report(y_test, y_pred7))\n",
    "print(confusion_matrix(y_test, y_pred7))"
   ]
  },
  {
   "cell_type": "code",
   "execution_count": null,
   "id": "4a16c4af-e34f-4881-bb46-f0465b4018b8",
   "metadata": {},
   "outputs": [],
   "source": [
    "df = pd.read_csv(\"9-seismic_activity_svm.csv\")"
   ]
  },
  {
   "cell_type": "code",
   "execution_count": 49,
   "id": "46772bc2-3339-4fe0-ac1e-ecd3c6fb9c1a",
   "metadata": {},
   "outputs": [
    {
     "data": {
      "text/html": [
       "<div>\n",
       "<style scoped>\n",
       "    .dataframe tbody tr th:only-of-type {\n",
       "        vertical-align: middle;\n",
       "    }\n",
       "\n",
       "    .dataframe tbody tr th {\n",
       "        vertical-align: top;\n",
       "    }\n",
       "\n",
       "    .dataframe thead th {\n",
       "        text-align: right;\n",
       "    }\n",
       "</style>\n",
       "<table border=\"1\" class=\"dataframe\">\n",
       "  <thead>\n",
       "    <tr style=\"text-align: right;\">\n",
       "      <th></th>\n",
       "      <th>underground_wave_energy</th>\n",
       "      <th>vibration_axis_variation</th>\n",
       "      <th>seismic_event_detected</th>\n",
       "    </tr>\n",
       "  </thead>\n",
       "  <tbody>\n",
       "    <tr>\n",
       "      <th>0</th>\n",
       "      <td>9.539392</td>\n",
       "      <td>-3.000000</td>\n",
       "      <td>0</td>\n",
       "    </tr>\n",
       "    <tr>\n",
       "      <th>1</th>\n",
       "      <td>9.558241</td>\n",
       "      <td>-2.939394</td>\n",
       "      <td>0</td>\n",
       "    </tr>\n",
       "    <tr>\n",
       "      <th>2</th>\n",
       "      <td>9.576669</td>\n",
       "      <td>-2.878788</td>\n",
       "      <td>0</td>\n",
       "    </tr>\n",
       "    <tr>\n",
       "      <th>3</th>\n",
       "      <td>9.594678</td>\n",
       "      <td>-2.818182</td>\n",
       "      <td>0</td>\n",
       "    </tr>\n",
       "    <tr>\n",
       "      <th>4</th>\n",
       "      <td>9.612272</td>\n",
       "      <td>-2.757576</td>\n",
       "      <td>0</td>\n",
       "    </tr>\n",
       "  </tbody>\n",
       "</table>\n",
       "</div>"
      ],
      "text/plain": [
       "   underground_wave_energy  vibration_axis_variation  seismic_event_detected\n",
       "0                 9.539392                 -3.000000                       0\n",
       "1                 9.558241                 -2.939394                       0\n",
       "2                 9.576669                 -2.878788                       0\n",
       "3                 9.594678                 -2.818182                       0\n",
       "4                 9.612272                 -2.757576                       0"
      ]
     },
     "execution_count": 49,
     "metadata": {},
     "output_type": "execute_result"
    }
   ],
   "source": [
    "df.head()"
   ]
  },
  {
   "cell_type": "code",
   "execution_count": 50,
   "id": "88e5add4-e0e6-476d-b193-a86584b4d646",
   "metadata": {},
   "outputs": [
    {
     "name": "stdout",
     "output_type": "stream",
     "text": [
      "<class 'pandas.core.frame.DataFrame'>\n",
      "RangeIndex: 400 entries, 0 to 399\n",
      "Data columns (total 3 columns):\n",
      " #   Column                    Non-Null Count  Dtype  \n",
      "---  ------                    --------------  -----  \n",
      " 0   underground_wave_energy   400 non-null    float64\n",
      " 1   vibration_axis_variation  400 non-null    float64\n",
      " 2   seismic_event_detected    400 non-null    int64  \n",
      "dtypes: float64(2), int64(1)\n",
      "memory usage: 9.5 KB\n"
     ]
    }
   ],
   "source": [
    "df.info()"
   ]
  },
  {
   "cell_type": "code",
   "execution_count": 51,
   "id": "e21b1c3b-a0f0-4252-b500-4f7a8e7dfe88",
   "metadata": {},
   "outputs": [
    {
     "data": {
      "text/plain": [
       "seismic_event_detected\n",
       "0    200\n",
       "1    200\n",
       "Name: count, dtype: int64"
      ]
     },
     "execution_count": 51,
     "metadata": {},
     "output_type": "execute_result"
    }
   ],
   "source": [
    "df[\"seismic_event_detected\"].value_counts()"
   ]
  },
  {
   "cell_type": "code",
   "execution_count": 52,
   "id": "dfe4a8c1-8002-4106-942c-e57ca30c24d5",
   "metadata": {},
   "outputs": [
    {
     "data": {
      "image/png": "[encoded data removed]",
      "text/plain": [
       "<Figure size 640x480 with 1 Axes>"
      ]
     },
     "metadata": {},
     "output_type": "display_data"
    }
   ],
   "source": [
    "sns.scatterplot(x = df[\"underground_wave_energy\"], y = df[\"vibration_axis_variation\"], hue = df[\"seismic_event_detected\"])\n",
    "plt.show()"
   ]
  },
  {
   "cell_type": "code",
   "execution_count": 53,
   "id": "aa81f29d-3913-4aab-af7b-62792fc1897f",
   "metadata": {},
   "outputs": [],
   "source": [
    "# manual rbf kernel "
   ]
  },
  {
   "cell_type": "code",
   "execution_count": 54,
   "id": "30ff87c0-0a0e-4645-872e-c07e25cc1d25",
   "metadata": {},
   "outputs": [
    {
     "data": {
      "text/plain": [
       "Index(['underground_wave_energy', 'vibration_axis_variation',\n",
       "       'seismic_event_detected'],\n",
       "      dtype='object')"
      ]
     },
     "execution_count": 54,
     "metadata": {},
     "output_type": "execute_result"
    }
   ],
   "source": [
    "df.columns"
   ]
  },
  {
   "cell_type": "code",
   "execution_count": 55,
   "id": "1825b543-4a54-4002-977f-0a5f7971514d",
   "metadata": {},
   "outputs": [],
   "source": [
    "df[\"underground_wave_energy ** 2\"] = df[\"underground_wave_energy\"] ** 2 \n",
    "df[\"vibration_axis_variation ** 2\"] = df[\"vibration_axis_variation\"] ** 2\n",
    "df[\"underground_wave_energy * vibration_axis_variation\"] = df[\"underground_wave_energy\"] * df[\"vibration_axis_variation\"]"
   ]
  },
  {
   "cell_type": "code",
   "execution_count": 56,
   "id": "09126ee4-05ce-4736-95ea-4428be807102",
   "metadata": {},
   "outputs": [
    {
     "data": {
      "text/html": [
       "<div>\n",
       "<style scoped>\n",
       "    .dataframe tbody tr th:only-of-type {\n",
       "        vertical-align: middle;\n",
       "    }\n",
       "\n",
       "    .dataframe tbody tr th {\n",
       "        vertical-align: top;\n",
       "    }\n",
       "\n",
       "    .dataframe thead th {\n",
       "        text-align: right;\n",
       "    }\n",
       "</style>\n",
       "<table border=\"1\" class=\"dataframe\">\n",
       "  <thead>\n",
       "    <tr style=\"text-align: right;\">\n",
       "      <th></th>\n",
       "      <th>underground_wave_energy</th>\n",
       "      <th>vibration_axis_variation</th>\n",
       "      <th>seismic_event_detected</th>\n",
       "      <th>underground_wave_energy ** 2</th>\n",
       "      <th>vibration_axis_variation ** 2</th>\n",
       "      <th>underground_wave_energy * vibration_axis_variation</th>\n",
       "    </tr>\n",
       "  </thead>\n",
       "  <tbody>\n",
       "    <tr>\n",
       "      <th>0</th>\n",
       "      <td>9.539392</td>\n",
       "      <td>-3.000000</td>\n",
       "      <td>0</td>\n",
       "      <td>91.000000</td>\n",
       "      <td>9.000000</td>\n",
       "      <td>-28.618176</td>\n",
       "    </tr>\n",
       "    <tr>\n",
       "      <th>1</th>\n",
       "      <td>9.558241</td>\n",
       "      <td>-2.939394</td>\n",
       "      <td>0</td>\n",
       "      <td>91.359963</td>\n",
       "      <td>8.640037</td>\n",
       "      <td>-28.095434</td>\n",
       "    </tr>\n",
       "    <tr>\n",
       "      <th>2</th>\n",
       "      <td>9.576669</td>\n",
       "      <td>-2.878788</td>\n",
       "      <td>0</td>\n",
       "      <td>91.712580</td>\n",
       "      <td>8.287420</td>\n",
       "      <td>-27.569197</td>\n",
       "    </tr>\n",
       "    <tr>\n",
       "      <th>3</th>\n",
       "      <td>9.594678</td>\n",
       "      <td>-2.818182</td>\n",
       "      <td>0</td>\n",
       "      <td>92.057851</td>\n",
       "      <td>7.942149</td>\n",
       "      <td>-27.039548</td>\n",
       "    </tr>\n",
       "    <tr>\n",
       "      <th>4</th>\n",
       "      <td>9.612272</td>\n",
       "      <td>-2.757576</td>\n",
       "      <td>0</td>\n",
       "      <td>92.395776</td>\n",
       "      <td>7.604224</td>\n",
       "      <td>-26.506569</td>\n",
       "    </tr>\n",
       "  </tbody>\n",
       "</table>\n",
       "</div>"
      ],
      "text/plain": [
       "   underground_wave_energy  vibration_axis_variation  seismic_event_detected  \\\n",
       "0                 9.539392                 -3.000000                       0   \n",
       "1                 9.558241                 -2.939394                       0   \n",
       "2                 9.576669                 -2.878788                       0   \n",
       "3                 9.594678                 -2.818182                       0   \n",
       "4                 9.612272                 -2.757576                       0   \n",
       "\n",
       "   underground_wave_energy ** 2  vibration_axis_variation ** 2  \\\n",
       "0                     91.000000                       9.000000   \n",
       "1                     91.359963                       8.640037   \n",
       "2                     91.712580                       8.287420   \n",
       "3                     92.057851                       7.942149   \n",
       "4                     92.395776                       7.604224   \n",
       "\n",
       "   underground_wave_energy * vibration_axis_variation  \n",
       "0                                         -28.618176   \n",
       "1                                         -28.095434   \n",
       "2                                         -27.569197   \n",
       "3                                         -27.039548   \n",
       "4                                         -26.506569   "
      ]
     },
     "execution_count": 56,
     "metadata": {},
     "output_type": "execute_result"
    }
   ],
   "source": [
    "df.head()"
   ]
  },
  {
   "cell_type": "code",
   "execution_count": 59,
   "id": "24b01b5c-09e6-4e4b-9916-861189dae352",
   "metadata": {},
   "outputs": [],
   "source": [
    "X = df.drop(\"seismic_event_detected\", axis = 1)\n",
    "y = df[\"seismic_event_detected\"]\n",
    "X_train, X_test, y_train, y_test = train_test_split(X,y,test_size=0.25, random_state=15)"
   ]
  },
  {
   "cell_type": "code",
   "execution_count": 60,
   "id": "a4f2e8b7-a842-4bab-8c56-08df462756d8",
   "metadata": {},
   "outputs": [],
   "source": [
    "import plotly.express as px "
   ]
  },
  {
   "cell_type": "code",
   "execution_count": 64,
   "id": "21bcd5d0-8d0f-412b-8946-87203c2f8f87",
   "metadata": {},
   "outputs": [
    {
     "data": {
      "application/vnd.plotly.v1+json": {
       "config": {
        "plotlyServerURL": "https://plot.ly"
       },
       "data": [
        {
         "hovertemplate": "underground_wave_energy ** 2=%{x}<br>vibration_axis_variation ** 2=%{y}<br>underground_wave_energy * vibration_axis_variation=%{z}<br>seismic_event_detected=%{marker.color}<extra></extra>",
         "legendgroup": "",
         "marker": {
          "color": [
           0,
           0,
           0,
           0,
           0,
           0,
           0,
           0,
           0,
           0,
           0,
           0,
           0,
           0,
           0,
           0,
           0,
           0,
           0,
           0,
           0,
           0,
           0,
           0,
           0,
           0,
           0,
           0,
           0,
           0,
           0,
           0,
           0,
           0,
           0,
           0,
           0,
           0,
           0,
           0,
           0,
           0,
           0,
           0,
           0,
           0,
           0,
           0,
           0,
           0,
           0,
           0,
           0,
           0,
           0,
           0,
           0,
           0,
           0,
           0,
           0,
           0,
           0,
           0,
           0,
           0,
           0,
           0,
           0,
           0,
           0,
           0,
           0,
           0,
           0,
           0,
           0,
           0,
           0,
           0,
           0,
           0,
           0,
           0,
           0,
           0,
           0,
           0,
           0,
           0,
           0,
           0,
           0,
           0,
           0,
           0,
           0,
           0,
           0,
           0,
           0,
           0,
           0,
           0,
           0,
           0,
           0,
           0,
           0,
           0,
           0,
           0,
           0,
           0,
           0,
           0,
           0,
           0,
           0,
           0,
           0,
           0,
           0,
           0,
           0,
           0,
           0,
           0,
           0,
           0,
           0,
           0,
           0,
           0,
           0,
           0,
           0,
           0,
           0,
           0,
           0,
           0,
           0,
           0,
           0,
           0,
           0,
           0,
           0,
           0,
           0,
           0,
           0,
           0,
           0,
           0,
           0,
           0,
           0,
           0,
           0,
           0,
           0,
           0,
           0,
           0,
           0,
           0,
           0,
           0,
           0,
           0,
           0,
           0,
           0,
           0,
           0,
           0,
           0,
           0,
           0,
           0,
           0,
           0,
           0,
           0,
           0,
           0,
           0,
           0,
           0,
           0,
           0,
           0,
           0,
           0,
           0,
           0,
           0,
           0,
           1,
           1,
           1,
           1,
           1,
           1,
           1,
           1,
           1,
           1,
           1,
           1,
           1,
           1,
           1,
           1,
           1,
           1,
           1,
           1,
           1,
           1,
           1,
           1,
           1,
           1,
           1,
           1,
           1,
           1,
           1,
           1,
           1,
           1,
           1,
           1,
           1,
           1,
           1,
           1,
           1,
           1,
           1,
           1,
           1,
           1,
           1,
           1,
           1,
           1,
           1,
           1,
           1,
           1,
           1,
           1,
           1,
           1,
           1,
           1,
           1,
           1,
           1,
           1,
           1,
           1,
           1,
           1,
           1,
           1,
           1,
           1,
           1,
           1,
           1,
           1,
           1,
           1,
           1,
           1,
           1,
           1,
           1,
           1,
           1,
           1,
           1,
           1,
           1,
           1,
           1,
           1,
           1,
           1,
           1,
           1,
           1,
           1,
           1,
           1,
           1,
           1,
           1,
           1,
           1,
           1,
           1,
           1,
           1,
           1,
           1,
           1,
           1,
           1,
           1,
           1,
           1,
           1,
           1,
           1,
           1,
           1,
           1,
           1,
           1,
           1,
           1,
           1,
           1,
           1,
           1,
           1,
           1,
           1,
           1,
           1,
           1,
           1,
           1,
           1,
           1,
           1,
           1,
           1,
           1,
           1,
           1,
           1,
           1,
           1,
           1,
           1,
           1,
           1,
           1,
           1,
           1,
           1,
           1,
           1,
           1,
           1,
           1,
           1,
           1,
           1,
           1,
           1,
           1,
           1,
           1,
           1,
           1,
           1,
           1,
           1,
           1,
           1,
           1,
           1,
           1,
           1,
           1,
           1,
           1,
           1,
           1,
           1,
           1,
           1,
           1,
           1,
           1,
           1,
           1,
           1,
           1,
           1,
           1,
           1
          ],
          "coloraxis": "coloraxis",
          "symbol": "circle"
         },
         "mode": "markers",
         "name": "",
         "scene": "scene",
         "showlegend": false,
         "type": "scatter3d",
         "x": [
          91,
          91.35996326905418,
          91.71258034894394,
          92.05785123966942,
          92.39577594123047,
          92.72635445362722,
          93.04958677685948,
          93.36547291092745,
          93.67401285583104,
          93.97520661157029,
          94.26905417814507,
          94.55555555555554,
          94.83471074380165,
          95.10651974288339,
          95.37098255280071,
          95.6280991735537,
          95.87786960514235,
          96.12029384756661,
          96.35537190082643,
          96.58310376492196,
          96.8034894398531,
          97.01652892561988,
          97.22222222222224,
          97.42056932966024,
          97.6115702479339,
          97.79522497704316,
          97.97153351698806,
          98.14049586776855,
          98.30211202938476,
          98.45638200183659,
          98.60330578512395,
          98.74288337924706,
          98.87511478420569,
          99,
          99.1175390266299,
          99.2277318640955,
          99.3305785123967,
          99.42607897153351,
          99.51423324150596,
          99.5950413223141,
          99.66850321395776,
          99.73461891643711,
          99.79338842975201,
          99.84481175390268,
          99.88888888888884,
          99.92561983471074,
          99.95500459136822,
          99.97704315886138,
          99.9917355371901,
          99.99908172635443,
          99.99908172635443,
          99.9917355371901,
          99.97704315886138,
          99.95500459136822,
          99.92561983471074,
          99.88888888888884,
          99.84481175390268,
          99.79338842975201,
          99.73461891643711,
          99.66850321395776,
          99.5950413223141,
          99.51423324150596,
          99.42607897153351,
          99.3305785123967,
          99.2277318640955,
          99.1175390266299,
          99,
          98.87511478420569,
          98.74288337924706,
          98.60330578512395,
          98.45638200183659,
          98.30211202938476,
          98.14049586776855,
          97.97153351698806,
          97.79522497704316,
          97.6115702479339,
          97.42056932966024,
          97.22222222222224,
          97.01652892561988,
          96.8034894398531,
          96.58310376492196,
          96.35537190082643,
          96.12029384756661,
          95.87786960514235,
          95.6280991735537,
          95.37098255280071,
          95.10651974288339,
          94.83471074380165,
          94.55555555555554,
          94.26905417814507,
          93.97520661157029,
          93.67401285583104,
          93.36547291092745,
          93.04958677685948,
          92.72635445362722,
          92.39577594123047,
          92.05785123966942,
          91.71258034894394,
          91.35996326905418,
          91,
          91,
          91.35996326905418,
          91.71258034894394,
          92.05785123966942,
          92.39577594123047,
          92.72635445362722,
          93.04958677685948,
          93.36547291092745,
          93.67401285583104,
          93.97520661157029,
          94.26905417814507,
          94.55555555555554,
          94.83471074380165,
          95.10651974288339,
          95.37098255280071,
          95.6280991735537,
          95.87786960514235,
          96.12029384756661,
          96.35537190082643,
          96.58310376492196,
          96.8034894398531,
          97.01652892561988,
          97.22222222222224,
          97.42056932966024,
          97.6115702479339,
          97.79522497704316,
          97.97153351698806,
          98.14049586776855,
          98.30211202938476,
          98.45638200183659,
          98.60330578512395,
          98.74288337924706,
          98.87511478420569,
          99,
          99.1175390266299,
          99.2277318640955,
          99.3305785123967,
          99.42607897153351,
          99.51423324150596,
          99.5950413223141,
          99.66850321395776,
          99.73461891643711,
          99.79338842975201,
          99.84481175390268,
          99.88888888888884,
          99.92561983471074,
          99.95500459136822,
          99.97704315886138,
          99.9917355371901,
          99.99908172635443,
          99.99908172635443,
          99.9917355371901,
          99.97704315886138,
          99.95500459136822,
          99.92561983471074,
          99.88888888888884,
          99.84481175390268,
          99.79338842975201,
          99.73461891643711,
          99.66850321395776,
          99.5950413223141,
          99.51423324150596,
          99.42607897153351,
          99.3305785123967,
          99.2277318640955,
          99.1175390266299,
          99,
          98.87511478420569,
          98.74288337924706,
          98.60330578512395,
          98.45638200183659,
          98.30211202938476,
          98.14049586776855,
          97.97153351698806,
          97.79522497704316,
          97.6115702479339,
          97.42056932966024,
          97.22222222222224,
          97.01652892561988,
          96.8034894398531,
          96.58310376492196,
          96.35537190082643,
          96.12029384756661,
          95.87786960514235,
          95.6280991735537,
          95.37098255280071,
          95.10651974288339,
          94.83471074380165,
          94.55555555555554,
          94.26905417814507,
          93.97520661157029,
          93.67401285583104,
          93.36547291092745,
          93.04958677685948,
          92.72635445362722,
          92.39577594123047,
          92.05785123966942,
          91.71258034894394,
          91.35996326905418,
          91,
          16,
          16.359963269054177,
          16.712580348943987,
          17.05785123966942,
          17.39577594123049,
          17.72635445362718,
          18.049586776859517,
          18.365472910927455,
          18.674012855831037,
          18.975206611570243,
          19.269054178145083,
          19.55555555555556,
          19.83471074380165,
          20.106519742883382,
          20.370982552800736,
          20.628099173553732,
          20.87786960514233,
          21.12029384756658,
          21.35537190082645,
          21.583103764921947,
          21.80348943985308,
          22.01652892561983,
          22.222222222222225,
          22.420569329660243,
          22.611570247933884,
          22.795224977043155,
          22.97153351698807,
          23.1404958677686,
          23.302112029384755,
          23.45638200183656,
          23.60330578512397,
          23.74288337924702,
          23.875114784205692,
          23.999999999999996,
          24.117539026629938,
          24.227731864095496,
          24.3305785123967,
          24.42607897153352,
          24.514233241505977,
          24.595041322314046,
          24.668503213957756,
          24.734618916437096,
          24.79338842975207,
          24.84481175390266,
          24.888888888888886,
          24.925619834710748,
          24.955004591368226,
          24.977043158861346,
          24.991735537190085,
          24.99908172635445,
          24.99908172635445,
          24.991735537190085,
          24.977043158861346,
          24.955004591368226,
          24.925619834710748,
          24.888888888888886,
          24.84481175390266,
          24.79338842975207,
          24.734618916437096,
          24.668503213957756,
          24.595041322314046,
          24.514233241505977,
          24.42607897153352,
          24.3305785123967,
          24.227731864095496,
          24.117539026629938,
          23.999999999999996,
          23.875114784205692,
          23.74288337924702,
          23.60330578512397,
          23.45638200183656,
          23.302112029384755,
          23.1404958677686,
          22.97153351698807,
          22.795224977043155,
          22.611570247933884,
          22.420569329660243,
          22.222222222222225,
          22.01652892561983,
          21.80348943985307,
          21.583103764921947,
          21.35537190082645,
          21.12029384756658,
          20.87786960514233,
          20.628099173553732,
          20.370982552800736,
          20.106519742883382,
          19.83471074380165,
          19.555555555555554,
          19.269054178145083,
          18.975206611570243,
          18.674012855831037,
          18.365472910927455,
          18.0495867768595,
          17.72635445362718,
          17.39577594123049,
          17.05785123966942,
          16.712580348943987,
          16.359963269054177,
          16,
          16,
          16.359963269054177,
          16.712580348943987,
          17.05785123966942,
          17.39577594123049,
          17.72635445362718,
          18.049586776859517,
          18.365472910927455,
          18.674012855831037,
          18.975206611570243,
          19.269054178145083,
          19.55555555555556,
          19.83471074380165,
          20.106519742883382,
          20.370982552800736,
          20.628099173553732,
          20.87786960514233,
          21.12029384756658,
          21.35537190082645,
          21.583103764921947,
          21.80348943985308,
          22.01652892561983,
          22.222222222222225,
          22.420569329660243,
          22.611570247933884,
          22.795224977043155,
          22.97153351698807,
          23.1404958677686,
          23.302112029384755,
          23.45638200183656,
          23.60330578512397,
          23.74288337924702,
          23.875114784205692,
          23.999999999999996,
          24.117539026629938,
          24.227731864095496,
          24.3305785123967,
          24.42607897153352,
          24.514233241505977,
          24.595041322314046,
          24.668503213957756,
          24.734618916437096,
          24.79338842975207,
          24.84481175390266,
          24.888888888888886,
          24.925619834710748,
          24.955004591368226,
          24.977043158861346,
          24.991735537190085,
          24.99908172635445,
          24.99908172635445,
          24.991735537190085,
          24.977043158861346,
          24.955004591368226,
          24.925619834710748,
          24.888888888888886,
          24.84481175390266,
          24.79338842975207,
          24.734618916437096,
          24.668503213957756,
          24.595041322314046,
          24.514233241505977,
          24.42607897153352,
          24.3305785123967,
          24.227731864095496,
          24.117539026629938,
          23.999999999999996,
          23.875114784205692,
          23.74288337924702,
          23.60330578512397,
          23.45638200183656,
          23.302112029384755,
          23.1404958677686,
          22.97153351698807,
          22.795224977043155,
          22.611570247933884,
          22.420569329660243,
          22.222222222222225,
          22.01652892561983,
          21.80348943985307,
          21.583103764921947,
          21.35537190082645,
          21.12029384756658,
          20.87786960514233,
          20.628099173553732,
          20.370982552800736,
          20.106519742883382,
          19.83471074380165,
          19.555555555555554,
          19.269054178145083,
          18.975206611570243,
          18.674012855831037,
          18.365472910927455,
          18.0495867768595,
          17.72635445362718,
          17.39577594123049,
          17.05785123966942,
          16.712580348943987,
          16.359963269054177,
          16
         ],
         "y": [
          9,
          8.64003673094582,
          8.287419651056016,
          7.942148760330579,
          7.604224058769515,
          7.273645546372818,
          6.950413223140493,
          6.634527089072545,
          6.325987144168963,
          6.024793388429752,
          5.730945821854913,
          5.444444444444443,
          5.165289256198346,
          4.89348025711662,
          4.6290174471992644,
          4.37190082644628,
          4.122130394857668,
          3.879706152433424,
          3.6446280991735525,
          3.416896235078053,
          3.1965105601469235,
          2.9834710743801653,
          2.7777777777777763,
          2.579430670339761,
          2.3884297520661155,
          2.204775022956841,
          2.028466483011938,
          1.8595041322314048,
          1.6978879706152432,
          1.5436179981634528,
          1.3966942148760326,
          1.2571166207529842,
          1.1248852157943066,
          1,
          0.8824609733700643,
          0.7722681359044997,
          0.669421487603306,
          0.5739210284664826,
          0.485766758494031,
          0.4049586776859503,
          0.33149678604224053,
          0.26538108356290174,
          0.20661157024793392,
          0.15518824609733703,
          0.11111111111111088,
          0.07438016528925606,
          0.04499540863177218,
          0.022956841138659253,
          0.008264462809917335,
          0.0009182736455463665,
          0.0009182736455463665,
          0.008264462809917335,
          0.022956841138659253,
          0.04499540863177234,
          0.07438016528925628,
          0.11111111111111122,
          0.15518824609733703,
          0.20661157024793392,
          0.26538108356290174,
          0.33149678604224053,
          0.40495867768595084,
          0.4857667584940316,
          0.5739210284664833,
          0.669421487603306,
          0.7722681359044997,
          0.8824609733700643,
          1,
          1.1248852157943066,
          1.2571166207529842,
          1.3966942148760326,
          1.5436179981634521,
          1.6978879706152425,
          1.8595041322314034,
          2.028466483011939,
          2.2047750229568424,
          2.3884297520661177,
          2.5794306703397623,
          2.7777777777777786,
          2.9834710743801662,
          3.1965105601469244,
          3.4168962350780547,
          3.6446280991735525,
          3.879706152433424,
          4.122130394857668,
          4.37190082644628,
          4.6290174471992644,
          4.89348025711662,
          5.165289256198346,
          5.444444444444447,
          5.730945821854915,
          6.024793388429755,
          6.325987144168967,
          6.634527089072545,
          6.950413223140497,
          7.273645546372818,
          7.604224058769515,
          7.942148760330579,
          8.287419651056016,
          8.64003673094582,
          9,
          9,
          8.64003673094582,
          8.287419651056016,
          7.942148760330579,
          7.604224058769515,
          7.273645546372818,
          6.950413223140493,
          6.634527089072545,
          6.325987144168963,
          6.024793388429752,
          5.730945821854913,
          5.444444444444443,
          5.165289256198346,
          4.89348025711662,
          4.6290174471992644,
          4.37190082644628,
          4.122130394857668,
          3.879706152433424,
          3.6446280991735525,
          3.416896235078053,
          3.1965105601469235,
          2.9834710743801653,
          2.7777777777777763,
          2.579430670339761,
          2.3884297520661155,
          2.204775022956841,
          2.028466483011938,
          1.8595041322314048,
          1.6978879706152432,
          1.5436179981634528,
          1.3966942148760326,
          1.2571166207529842,
          1.1248852157943066,
          1,
          0.8824609733700643,
          0.7722681359044997,
          0.669421487603306,
          0.5739210284664826,
          0.485766758494031,
          0.4049586776859503,
          0.33149678604224053,
          0.26538108356290174,
          0.20661157024793392,
          0.15518824609733703,
          0.11111111111111088,
          0.07438016528925606,
          0.04499540863177218,
          0.022956841138659253,
          0.008264462809917335,
          0.0009182736455463665,
          0.0009182736455463665,
          0.008264462809917335,
          0.022956841138659253,
          0.04499540863177234,
          0.07438016528925628,
          0.11111111111111122,
          0.15518824609733703,
          0.20661157024793392,
          0.26538108356290174,
          0.33149678604224053,
          0.40495867768595084,
          0.4857667584940316,
          0.5739210284664833,
          0.669421487603306,
          0.7722681359044997,
          0.8824609733700643,
          1,
          1.1248852157943066,
          1.2571166207529842,
          1.3966942148760326,
          1.5436179981634521,
          1.6978879706152425,
          1.8595041322314034,
          2.028466483011939,
          2.2047750229568424,
          2.3884297520661177,
          2.5794306703397623,
          2.7777777777777786,
          2.9834710743801662,
          3.1965105601469244,
          3.4168962350780547,
          3.6446280991735525,
          3.879706152433424,
          4.122130394857668,
          4.37190082644628,
          4.6290174471992644,
          4.89348025711662,
          5.165289256198346,
          5.444444444444447,
          5.730945821854915,
          6.024793388429755,
          6.325987144168967,
          6.634527089072545,
          6.950413223140497,
          7.273645546372818,
          7.604224058769515,
          7.942148760330579,
          8.287419651056016,
          8.64003673094582,
          9,
          9,
          8.64003673094582,
          8.287419651056016,
          7.942148760330579,
          7.604224058769515,
          7.273645546372818,
          6.950413223140493,
          6.634527089072545,
          6.325987144168963,
          6.024793388429752,
          5.730945821854913,
          5.444444444444443,
          5.165289256198346,
          4.89348025711662,
          4.6290174471992644,
          4.37190082644628,
          4.122130394857668,
          3.879706152433424,
          3.6446280991735525,
          3.416896235078053,
          3.1965105601469235,
          2.9834710743801653,
          2.7777777777777763,
          2.579430670339761,
          2.3884297520661155,
          2.204775022956841,
          2.028466483011938,
          1.8595041322314048,
          1.6978879706152432,
          1.5436179981634528,
          1.3966942148760326,
          1.2571166207529842,
          1.1248852157943066,
          1,
          0.8824609733700643,
          0.7722681359044997,
          0.669421487603306,
          0.5739210284664826,
          0.485766758494031,
          0.4049586776859503,
          0.33149678604224053,
          0.26538108356290174,
          0.20661157024793392,
          0.15518824609733703,
          0.11111111111111088,
          0.07438016528925606,
          0.04499540863177218,
          0.022956841138659253,
          0.008264462809917335,
          0.0009182736455463665,
          0.0009182736455463665,
          0.008264462809917335,
          0.022956841138659253,
          0.04499540863177234,
          0.07438016528925628,
          0.11111111111111122,
          0.15518824609733703,
          0.20661157024793392,
          0.26538108356290174,
          0.33149678604224053,
          0.40495867768595084,
          0.4857667584940316,
          0.5739210284664833,
          0.669421487603306,
          0.7722681359044997,
          0.8824609733700643,
          1,
          1.1248852157943066,
          1.2571166207529842,
          1.3966942148760326,
          1.5436179981634521,
          1.6978879706152425,
          1.8595041322314034,
          2.028466483011939,
          2.2047750229568424,
          2.3884297520661177,
          2.5794306703397623,
          2.7777777777777786,
          2.9834710743801662,
          3.1965105601469244,
          3.4168962350780547,
          3.6446280991735525,
          3.879706152433424,
          4.122130394857668,
          4.37190082644628,
          4.6290174471992644,
          4.89348025711662,
          5.165289256198346,
          5.444444444444447,
          5.730945821854915,
          6.024793388429755,
          6.325987144168967,
          6.634527089072545,
          6.950413223140497,
          7.273645546372818,
          7.604224058769515,
          7.942148760330579,
          8.287419651056016,
          8.64003673094582,
          9,
          9,
          8.64003673094582,
          8.287419651056016,
          7.942148760330579,
          7.604224058769515,
          7.273645546372818,
          6.950413223140493,
          6.634527089072545,
          6.325987144168963,
          6.024793388429752,
          5.730945821854913,
          5.444444444444443,
          5.165289256198346,
          4.89348025711662,
          4.6290174471992644,
          4.37190082644628,
          4.122130394857668,
          3.879706152433424,
          3.6446280991735525,
          3.416896235078053,
          3.1965105601469235,
          2.9834710743801653,
          2.7777777777777763,
          2.579430670339761,
          2.3884297520661155,
          2.204775022956841,
          2.028466483011938,
          1.8595041322314048,
          1.6978879706152432,
          1.5436179981634528,
          1.3966942148760326,
          1.2571166207529842,
          1.1248852157943066,
          1,
          0.8824609733700643,
          0.7722681359044997,
          0.669421487603306,
          0.5739210284664826,
          0.485766758494031,
          0.4049586776859503,
          0.33149678604224053,
          0.26538108356290174,
          0.20661157024793392,
          0.15518824609733703,
          0.11111111111111088,
          0.07438016528925606,
          0.04499540863177218,
          0.022956841138659253,
          0.008264462809917335,
          0.0009182736455463665,
          0.0009182736455463665,
          0.008264462809917335,
          0.022956841138659253,
          0.04499540863177234,
          0.07438016528925628,
          0.11111111111111122,
          0.15518824609733703,
          0.20661157024793392,
          0.26538108356290174,
          0.33149678604224053,
          0.40495867768595084,
          0.4857667584940316,
          0.5739210284664833,
          0.669421487603306,
          0.7722681359044997,
          0.8824609733700643,
          1,
          1.1248852157943066,
          1.2571166207529842,
          1.3966942148760326,
          1.5436179981634521,
          1.6978879706152425,
          1.8595041322314034,
          2.028466483011939,
          2.2047750229568424,
          2.3884297520661177,
          2.5794306703397623,
          2.7777777777777786,
          2.9834710743801662,
          3.1965105601469244,
          3.4168962350780547,
          3.6446280991735525,
          3.879706152433424,
          4.122130394857668,
          4.37190082644628,
          4.6290174471992644,
          4.89348025711662,
          5.165289256198346,
          5.444444444444447,
          5.730945821854915,
          6.024793388429755,
          6.325987144168967,
          6.634527089072545,
          6.950413223140497,
          7.273645546372818,
          7.604224058769515,
          7.942148760330579,
          8.287419651056016,
          8.64003673094582,
          9
         ],
         "z": [
          -28.618176042508367,
          -28.095434475773622,
          -27.569197315716174,
          -27.039547871623842,
          -26.50656866403085,
          -25.97034145141363,
          -25.43094725608236,
          -24.888466389306053,
          -24.342978475706403,
          -23.794562476954866,
          -23.243296714804785,
          -22.68925889348972,
          -22.132526121517095,
          -21.57317493288533,
          -21.01128130775111,
          -20.44692069257242,
          -19.88016801975168,
          -19.311097726802398,
          -18.739783775061806,
          -18.166299667970765,
          -17.590718468941557,
          -17.013112818833406,
          -16.433554953054486,
          -15.85211671830884,
          -15.268869589005499,
          -14.683884683346903,
          -14.097232779112748,
          -13.508984329154977,
          -12.919209476619086,
          -12.327978069906322,
          -11.73535967739102,
          -11.141423601906762,
          -10.546238895014566,
          -9.9498743710662,
          -9.352398621074979,
          -8.75388002640638,
          -8.154386772300269,
          -7.553986861236406,
          -6.952748126154527,
          -6.350738243540029,
          -5.748024746386164,
          -5.144675037043366,
          -4.540756399966097,
          -3.936336014367541,
          -3.3314809667922067,
          -2.726258263616481,
          -2.12073484348687,
          -1.5149775897058215,
          -0.9090533425746793,
          -0.3030289117034025,
          0.3030289117034025,
          0.9090533425746793,
          1.5149775897058215,
          2.1207348434868734,
          2.7262582636164847,
          3.331480966792212,
          3.936336014367541,
          4.540756399966097,
          5.144675037043366,
          5.748024746386164,
          6.350738243540033,
          6.952748126154532,
          7.55398686123641,
          8.154386772300269,
          8.75388002640638,
          9.352398621074979,
          9.9498743710662,
          10.546238895014566,
          11.141423601906762,
          11.73535967739102,
          12.327978069906319,
          12.919209476619082,
          13.508984329154972,
          14.097232779112753,
          14.683884683346907,
          15.268869589005506,
          15.852116718308846,
          16.433554953054493,
          17.01311281883341,
          17.59071846894156,
          18.16629966797077,
          18.739783775061806,
          19.311097726802398,
          19.88016801975168,
          20.44692069257242,
          21.01128130775111,
          21.57317493288533,
          22.132526121517095,
          22.689258893489725,
          23.243296714804792,
          23.794562476954873,
          24.34297847570641,
          24.888466389306053,
          25.43094725608237,
          25.97034145141363,
          26.50656866403085,
          27.039547871623842,
          27.569197315716174,
          28.095434475773622,
          28.618176042508367,
          -28.618176042508367,
          -28.095434475773622,
          -27.569197315716174,
          -27.039547871623842,
          -26.50656866403085,
          -25.97034145141363,
          -25.43094725608236,
          -24.888466389306053,
          -24.342978475706403,
          -23.794562476954866,
          -23.243296714804785,
          -22.68925889348972,
          -22.132526121517095,
          -21.57317493288533,
          -21.01128130775111,
          -20.44692069257242,
          -19.88016801975168,
          -19.311097726802398,
          -18.739783775061806,
          -18.166299667970765,
          -17.590718468941557,
          -17.013112818833406,
          -16.433554953054486,
          -15.85211671830884,
          -15.268869589005499,
          -14.683884683346903,
          -14.097232779112748,
          -13.508984329154977,
          -12.919209476619086,
          -12.327978069906322,
          -11.73535967739102,
          -11.141423601906762,
          -10.546238895014566,
          -9.9498743710662,
          -9.352398621074979,
          -8.75388002640638,
          -8.154386772300269,
          -7.553986861236406,
          -6.952748126154527,
          -6.350738243540029,
          -5.748024746386164,
          -5.144675037043366,
          -4.540756399966097,
          -3.936336014367541,
          -3.3314809667922067,
          -2.726258263616481,
          -2.12073484348687,
          -1.5149775897058215,
          -0.9090533425746793,
          -0.3030289117034025,
          0.3030289117034025,
          0.9090533425746793,
          1.5149775897058215,
          2.1207348434868734,
          2.7262582636164847,
          3.331480966792212,
          3.936336014367541,
          4.540756399966097,
          5.144675037043366,
          5.748024746386164,
          6.350738243540033,
          6.952748126154532,
          7.55398686123641,
          8.154386772300269,
          8.75388002640638,
          9.352398621074979,
          9.9498743710662,
          10.546238895014566,
          11.141423601906762,
          11.73535967739102,
          12.327978069906319,
          12.919209476619082,
          13.508984329154972,
          14.097232779112753,
          14.683884683346907,
          15.268869589005506,
          15.852116718308846,
          16.433554953054493,
          17.01311281883341,
          17.59071846894156,
          18.16629966797077,
          18.739783775061806,
          19.311097726802398,
          19.88016801975168,
          20.44692069257242,
          21.01128130775111,
          21.57317493288533,
          22.132526121517095,
          22.689258893489725,
          23.243296714804792,
          23.794562476954873,
          24.34297847570641,
          24.888466389306053,
          25.43094725608237,
          25.97034145141363,
          26.50656866403085,
          27.039547871623842,
          27.569197315716174,
          28.095434475773622,
          28.618176042508367,
          -12,
          -11.889099358721523,
          -11.768779325133554,
          -11.639415452549322,
          -11.501364177056075,
          -11.354964514477855,
          -11.20053956763272,
          -11.038397869762452,
          -10.868834585917346,
          -10.6921325907172,
          -10.508563438136372,
          -10.318388236661244,
          -10.121858441252801,
          -9.919216571943842,
          -9.710696867553143,
          -9.496525881862029,
          -9.276923028635748,
          -9.052101081053275,
          -8.82226663041043,
          -8.58762050836323,
          -8.348358176464538,
          -8.104670086304623,
          -7.85674201318386,
          -7.604755365914449,
          -7.348887475060309,
          -7.0893118616736475,
          -6.826198488367859,
          -6.559713994375018,
          -6.290021916068428,
          -6.017282894283116,
          -5.7416548696375544,
          -5.463293266945424,
          -5.18235116970522,
          -4.898979485566356,
          -4.61332710359133,
          -4.32554104406363,
          -4.035766601529086,
          -3.7441474817034175,
          -3.4508259328301363,
          -3.155942872029784,
          -2.859638007143505,
          -2.5620499545402162,
          -2.263316353327133,
          -1.9635739763774265,
          -1.6629588385661942,
          -1.3616063025863772,
          -1.05965118269946,
          -0.7572278467617365,
          -0.45447031685512407,
          -0.15151236884218747,
          0.15151236884218747,
          0.45447031685512407,
          0.7572278467617365,
          1.059651182699462,
          1.3616063025863792,
          1.6629588385661969,
          1.9635739763774265,
          2.263316353327133,
          2.5620499545402162,
          2.859638007143505,
          3.155942872029786,
          3.4508259328301385,
          3.7441474817034197,
          4.035766601529086,
          4.32554104406363,
          4.61332710359133,
          4.898979485566356,
          5.18235116970522,
          5.463293266945424,
          5.7416548696375544,
          6.017282894283115,
          6.290021916068427,
          6.5597139943750165,
          6.826198488367861,
          7.08931186167365,
          7.348887475060312,
          7.604755365914452,
          7.8567420131838634,
          8.104670086304624,
          8.348358176464536,
          8.587620508363234,
          8.82226663041043,
          9.052101081053275,
          9.276923028635748,
          9.496525881862029,
          9.710696867553143,
          9.919216571943842,
          10.121858441252801,
          10.318388236661246,
          10.508563438136374,
          10.692132590717202,
          10.86883458591735,
          11.038397869762452,
          11.200539567632719,
          11.354964514477855,
          11.501364177056075,
          11.639415452549322,
          11.768779325133554,
          11.889099358721523,
          12,
          -12,
          -11.889099358721523,
          -11.768779325133554,
          -11.639415452549322,
          -11.501364177056075,
          -11.354964514477855,
          -11.20053956763272,
          -11.038397869762452,
          -10.868834585917346,
          -10.6921325907172,
          -10.508563438136372,
          -10.318388236661244,
          -10.121858441252801,
          -9.919216571943842,
          -9.710696867553143,
          -9.496525881862029,
          -9.276923028635748,
          -9.052101081053275,
          -8.82226663041043,
          -8.58762050836323,
          -8.348358176464538,
          -8.104670086304623,
          -7.85674201318386,
          -7.604755365914449,
          -7.348887475060309,
          -7.0893118616736475,
          -6.826198488367859,
          -6.559713994375018,
          -6.290021916068428,
          -6.017282894283116,
          -5.7416548696375544,
          -5.463293266945424,
          -5.18235116970522,
          -4.898979485566356,
          -4.61332710359133,
          -4.32554104406363,
          -4.035766601529086,
          -3.7441474817034175,
          -3.4508259328301363,
          -3.155942872029784,
          -2.859638007143505,
          -2.5620499545402162,
          -2.263316353327133,
          -1.9635739763774265,
          -1.6629588385661942,
          -1.3616063025863772,
          -1.05965118269946,
          -0.7572278467617365,
          -0.45447031685512407,
          -0.15151236884218747,
          0.15151236884218747,
          0.45447031685512407,
          0.7572278467617365,
          1.059651182699462,
          1.3616063025863792,
          1.6629588385661969,
          1.9635739763774265,
          2.263316353327133,
          2.5620499545402162,
          2.859638007143505,
          3.155942872029786,
          3.4508259328301385,
          3.7441474817034197,
          4.035766601529086,
          4.32554104406363,
          4.61332710359133,
          4.898979485566356,
          5.18235116970522,
          5.463293266945424,
          5.7416548696375544,
          6.017282894283115,
          6.290021916068427,
          6.5597139943750165,
          6.826198488367861,
          7.08931186167365,
          7.348887475060312,
          7.604755365914452,
          7.8567420131838634,
          8.104670086304624,
          8.348358176464536,
          8.587620508363234,
          8.82226663041043,
          9.052101081053275,
          9.276923028635748,
          9.496525881862029,
          9.710696867553143,
          9.919216571943842,
          10.121858441252801,
          10.318388236661246,
          10.508563438136374,
          10.692132590717202,
          10.86883458591735,
          11.038397869762452,
          11.200539567632719,
          11.354964514477855,
          11.501364177056075,
          11.639415452549322,
          11.768779325133554,
          11.889099358721523,
          12
         ]
        }
       ],
       "layout": {
        "coloraxis": {
         "colorbar": {
          "title": {
           "text": "seismic_event_detected"
          }
         },
         "colorscale": [
          [
           0,
           "#0d0887"
          ],
          [
           0.1111111111111111,
           "#46039f"
          ],
          [
           0.2222222222222222,
           "#7201a8"
          ],
          [
           0.3333333333333333,
           "#9c179e"
          ],
          [
           0.4444444444444444,
           "#bd3786"
          ],
          [
           0.5555555555555556,
           "#d8576b"
          ],
          [
           0.6666666666666666,
           "#ed7953"
          ],
          [
           0.7777777777777778,
           "#fb9f3a"
          ],
          [
           0.8888888888888888,
           "#fdca26"
          ],
          [
           1,
           "#f0f921"
          ]
         ]
        },
        "legend": {
         "tracegroupgap": 0
        },
        "margin": {
         "t": 60
        },
        "scene": {
         "domain": {
          "x": [
           0,
           1
          ],
          "y": [
           0,
           1
          ]
         },
         "xaxis": {
          "title": {
           "text": "underground_wave_energy ** 2"
          }
         },
         "yaxis": {
          "title": {
           "text": "vibration_axis_variation ** 2"
          }
         },
         "zaxis": {
          "title": {
           "text": "underground_wave_energy * vibration_axis_variation"
          }
         }
        },
        "template": {
         "data": {
          "bar": [
           {
            "error_x": {
             "color": "#2a3f5f"
            },
            "error_y": {
             "color": "#2a3f5f"
            },
            "marker": {
             "line": {
              "color": "#E5ECF6",
              "width": 0.5
             },
             "pattern": {
              "fillmode": "overlay",
              "size": 10,
              "solidity": 0.2
             }
            },
            "type": "bar"
           }
          ],
          "barpolar": [
           {
            "marker": {
             "line": {
              "color": "#E5ECF6",
              "width": 0.5
             },
             "pattern": {
              "fillmode": "overlay",
              "size": 10,
              "solidity": 0.2
             }
            },
            "type": "barpolar"
           }
          ],
          "carpet": [
           {
            "aaxis": {
             "endlinecolor": "#2a3f5f",
             "gridcolor": "white",
             "linecolor": "white",
             "minorgridcolor": "white",
             "startlinecolor": "#2a3f5f"
            },
            "baxis": {
             "endlinecolor": "#2a3f5f",
             "gridcolor": "white",
             "linecolor": "white",
             "minorgridcolor": "white",
             "startlinecolor": "#2a3f5f"
            },
            "type": "carpet"
           }
          ],
          "choropleth": [
           {
            "colorbar": {
             "outlinewidth": 0,
             "ticks": ""
            },
            "type": "choropleth"
           }
          ],
          "contour": [
           {
            "colorbar": {
             "outlinewidth": 0,
             "ticks": ""
            },
            "colorscale": [
             [
              0,
              "#0d0887"
             ],
             [
              0.1111111111111111,
              "#46039f"
             ],
             [
              0.2222222222222222,
              "#7201a8"
             ],
             [
              0.3333333333333333,
              "#9c179e"
             ],
             [
              0.4444444444444444,
              "#bd3786"
             ],
             [
              0.5555555555555556,
              "#d8576b"
             ],
             [
              0.6666666666666666,
              "#ed7953"
             ],
             [
              0.7777777777777778,
              "#fb9f3a"
             ],
             [
              0.8888888888888888,
              "#fdca26"
             ],
             [
              1,
              "#f0f921"
             ]
            ],
            "type": "contour"
           }
          ],
          "contourcarpet": [
           {
            "colorbar": {
             "outlinewidth": 0,
             "ticks": ""
            },
            "type": "contourcarpet"
           }
          ],
          "heatmap": [
           {
            "colorbar": {
             "outlinewidth": 0,
             "ticks": ""
            },
            "colorscale": [
             [
              0,
              "#0d0887"
             ],
             [
              0.1111111111111111,
              "#46039f"
             ],
             [
              0.2222222222222222,
              "#7201a8"
             ],
             [
              0.3333333333333333,
              "#9c179e"
             ],
             [
              0.4444444444444444,
              "#bd3786"
             ],
             [
              0.5555555555555556,
              "#d8576b"
             ],
             [
              0.6666666666666666,
              "#ed7953"
             ],
             [
              0.7777777777777778,
              "#fb9f3a"
             ],
             [
              0.8888888888888888,
              "#fdca26"
             ],
             [
              1,
              "#f0f921"
             ]
            ],
            "type": "heatmap"
           }
          ],
          "heatmapgl": [
           {
            "colorbar": {
             "outlinewidth": 0,
             "ticks": ""
            },
            "colorscale": [
             [
              0,
              "#0d0887"
             ],
             [
              0.1111111111111111,
              "#46039f"
             ],
             [
              0.2222222222222222,
              "#7201a8"
             ],
             [
              0.3333333333333333,
              "#9c179e"
             ],
             [
              0.4444444444444444,
              "#bd3786"
             ],
             [
              0.5555555555555556,
              "#d8576b"
             ],
             [
              0.6666666666666666,
              "#ed7953"
             ],
             [
              0.7777777777777778,
              "#fb9f3a"
             ],
             [
              0.8888888888888888,
              "#fdca26"
             ],
             [
              1,
              "#f0f921"
             ]
            ],
            "type": "heatmapgl"
           }
          ],
          "histogram": [
           {
            "marker": {
             "pattern": {
              "fillmode": "overlay",
              "size": 10,
              "solidity": 0.2
             }
            },
            "type": "histogram"
           }
          ],
          "histogram2d": [
           {
            "colorbar": {
             "outlinewidth": 0,
             "ticks": ""
            },
            "colorscale": [
             [
              0,
              "#0d0887"
             ],
             [
              0.1111111111111111,
              "#46039f"
             ],
             [
              0.2222222222222222,
              "#7201a8"
             ],
             [
              0.3333333333333333,
              "#9c179e"
             ],
             [
              0.4444444444444444,
              "#bd3786"
             ],
             [
              0.5555555555555556,
              "#d8576b"
             ],
             [
              0.6666666666666666,
              "#ed7953"
             ],
             [
              0.7777777777777778,
              "#fb9f3a"
             ],
             [
              0.8888888888888888,
              "#fdca26"
             ],
             [
              1,
              "#f0f921"
             ]
            ],
            "type": "histogram2d"
           }
          ],
          "histogram2dcontour": [
           {
            "colorbar": {
             "outlinewidth": 0,
             "ticks": ""
            },
            "colorscale": [
             [
              0,
              "#0d0887"
             ],
             [
              0.1111111111111111,
              "#46039f"
             ],
             [
              0.2222222222222222,
              "#7201a8"
             ],
             [
              0.3333333333333333,
              "#9c179e"
             ],
             [
              0.4444444444444444,
              "#bd3786"
             ],
             [
              0.5555555555555556,
              "#d8576b"
             ],
             [
              0.6666666666666666,
              "#ed7953"
             ],
             [
              0.7777777777777778,
              "#fb9f3a"
             ],
             [
              0.8888888888888888,
              "#fdca26"
             ],
             [
              1,
              "#f0f921"
             ]
            ],
            "type": "histogram2dcontour"
           }
          ],
          "mesh3d": [
           {
            "colorbar": {
             "outlinewidth": 0,
             "ticks": ""
            },
            "type": "mesh3d"
           }
          ],
          "parcoords": [
           {
            "line": {
             "colorbar": {
              "outlinewidth": 0,
              "ticks": ""
             }
            },
            "type": "parcoords"
           }
          ],
          "pie": [
           {
            "automargin": true,
            "type": "pie"
           }
          ],
          "scatter": [
           {
            "fillpattern": {
             "fillmode": "overlay",
             "size": 10,
             "solidity": 0.2
            },
            "type": "scatter"
           }
          ],
          "scatter3d": [
           {
            "line": {
             "colorbar": {
              "outlinewidth": 0,
              "ticks": ""
             }
            },
            "marker": {
             "colorbar": {
              "outlinewidth": 0,
              "ticks": ""
             }
            },
            "type": "scatter3d"
           }
          ],
          "scattercarpet": [
           {
            "marker": {
             "colorbar": {
              "outlinewidth": 0,
              "ticks": ""
             }
            },
            "type": "scattercarpet"
           }
          ],
          "scattergeo": [
           {
            "marker": {
             "colorbar": {
              "outlinewidth": 0,
              "ticks": ""
             }
            },
            "type": "scattergeo"
           }
          ],
          "scattergl": [
           {
            "marker": {
             "colorbar": {
              "outlinewidth": 0,
              "ticks": ""
             }
            },
            "type": "scattergl"
           }
          ],
          "scattermapbox": [
           {
            "marker": {
             "colorbar": {
              "outlinewidth": 0,
              "ticks": ""
             }
            },
            "type": "scattermapbox"
           }
          ],
          "scatterpolar": [
           {
            "marker": {
             "colorbar": {
              "outlinewidth": 0,
              "ticks": ""
             }
            },
            "type": "scatterpolar"
           }
          ],
          "scatterpolargl": [
           {
            "marker": {
             "colorbar": {
              "outlinewidth": 0,
              "ticks": ""
             }
            },
            "type": "scatterpolargl"
           }
          ],
          "scatterternary": [
           {
            "marker": {
             "colorbar": {
              "outlinewidth": 0,
              "ticks": ""
             }
            },
            "type": "scatterternary"
           }
          ],
          "surface": [
           {
            "colorbar": {
             "outlinewidth": 0,
             "ticks": ""
            },
            "colorscale": [
             [
              0,
              "#0d0887"
             ],
             [
              0.1111111111111111,
              "#46039f"
             ],
             [
              0.2222222222222222,
              "#7201a8"
             ],
             [
              0.3333333333333333,
              "#9c179e"
             ],
             [
              0.4444444444444444,
              "#bd3786"
             ],
             [
              0.5555555555555556,
              "#d8576b"
             ],
             [
              0.6666666666666666,
              "#ed7953"
             ],
             [
              0.7777777777777778,
              "#fb9f3a"
             ],
             [
              0.8888888888888888,
              "#fdca26"
             ],
             [
              1,
              "#f0f921"
             ]
            ],
            "type": "surface"
           }
          ],
          "table": [
           {
            "cells": {
             "fill": {
              "color": "#EBF0F8"
             },
             "line": {
              "color": "white"
             }
            },
            "header": {
             "fill": {
              "color": "#C8D4E3"
             },
             "line": {
              "color": "white"
             }
            },
            "type": "table"
           }
          ]
         },
         "layout": {
          "annotationdefaults": {
           "arrowcolor": "#2a3f5f",
           "arrowhead": 0,
           "arrowwidth": 1
          },
          "autotypenumbers": "strict",
          "coloraxis": {
           "colorbar": {
            "outlinewidth": 0,
            "ticks": ""
           }
          },
          "colorscale": {
           "diverging": [
            [
             0,
             "#8e0152"
            ],
            [
             0.1,
             "#c51b7d"
            ],
            [
             0.2,
             "#de77ae"
            ],
            [
             0.3,
             "#f1b6da"
            ],
            [
             0.4,
             "#fde0ef"
            ],
            [
             0.5,
             "#f7f7f7"
            ],
            [
             0.6,
             "#e6f5d0"
            ],
            [
             0.7,
             "#b8e186"
            ],
            [
             0.8,
             "#7fbc41"
            ],
            [
             0.9,
             "#4d9221"
            ],
            [
             1,
             "#276419"
            ]
           ],
           "sequential": [
            [
             0,
             "#0d0887"
            ],
            [
             0.1111111111111111,
             "#46039f"
            ],
            [
             0.2222222222222222,
             "#7201a8"
            ],
            [
             0.3333333333333333,
             "#9c179e"
            ],
            [
             0.4444444444444444,
             "#bd3786"
            ],
            [
             0.5555555555555556,
             "#d8576b"
            ],
            [
             0.6666666666666666,
             "#ed7953"
            ],
            [
             0.7777777777777778,
             "#fb9f3a"
            ],
            [
             0.8888888888888888,
             "#fdca26"
            ],
            [
             1,
             "#f0f921"
            ]
           ],
           "sequentialminus": [
            [
             0,
             "#0d0887"
            ],
            [
             0.1111111111111111,
             "#46039f"
            ],
            [
             0.2222222222222222,
             "#7201a8"
            ],
            [
             0.3333333333333333,
             "#9c179e"
            ],
            [
             0.4444444444444444,
             "#bd3786"
            ],
            [
             0.5555555555555556,
             "#d8576b"
            ],
            [
             0.6666666666666666,
             "#ed7953"
            ],
            [
             0.7777777777777778,
             "#fb9f3a"
            ],
            [
             0.8888888888888888,
             "#fdca26"
            ],
            [
             1,
             "#f0f921"
            ]
           ]
          },
          "colorway": [
           "#636efa",
           "#EF553B",
           "#00cc96",
           "#ab63fa",
           "#FFA15A",
           "#19d3f3",
           "#FF6692",
           "#B6E880",
           "#FF97FF",
           "#FECB52"
          ],
          "font": {
           "color": "#2a3f5f"
          },
          "geo": {
           "bgcolor": "white",
           "lakecolor": "white",
           "landcolor": "#E5ECF6",
           "showlakes": true,
           "showland": true,
           "subunitcolor": "white"
          },
          "hoverlabel": {
           "align": "left"
          },
          "hovermode": "closest",
          "mapbox": {
           "style": "light"
          },
          "paper_bgcolor": "white",
          "plot_bgcolor": "#E5ECF6",
          "polar": {
           "angularaxis": {
            "gridcolor": "white",
            "linecolor": "white",
            "ticks": ""
           },
           "bgcolor": "#E5ECF6",
           "radialaxis": {
            "gridcolor": "white",
            "linecolor": "white",
            "ticks": ""
           }
          },
          "scene": {
           "xaxis": {
            "backgroundcolor": "#E5ECF6",
            "gridcolor": "white",
            "gridwidth": 2,
            "linecolor": "white",
            "showbackground": true,
            "ticks": "",
            "zerolinecolor": "white"
           },
           "yaxis": {
            "backgroundcolor": "#E5ECF6",
            "gridcolor": "white",
            "gridwidth": 2,
            "linecolor": "white",
            "showbackground": true,
            "ticks": "",
            "zerolinecolor": "white"
           },
           "zaxis": {
            "backgroundcolor": "#E5ECF6",
            "gridcolor": "white",
            "gridwidth": 2,
            "linecolor": "white",
            "showbackground": true,
            "ticks": "",
            "zerolinecolor": "white"
           }
          },
          "shapedefaults": {
           "line": {
            "color": "#2a3f5f"
           }
          },
          "ternary": {
           "aaxis": {
            "gridcolor": "white",
            "linecolor": "white",
            "ticks": ""
           },
           "baxis": {
            "gridcolor": "white",
            "linecolor": "white",
            "ticks": ""
           },
           "bgcolor": "#E5ECF6",
           "caxis": {
            "gridcolor": "white",
            "linecolor": "white",
            "ticks": ""
           }
          },
          "title": {
           "x": 0.05
          },
          "xaxis": {
           "automargin": true,
           "gridcolor": "white",
           "linecolor": "white",
           "ticks": "",
           "title": {
            "standoff": 15
           },
           "zerolinecolor": "white",
           "zerolinewidth": 2
          },
          "yaxis": {
           "automargin": true,
           "gridcolor": "white",
           "linecolor": "white",
           "ticks": "",
           "title": {
            "standoff": 15
           },
           "zerolinecolor": "white",
           "zerolinewidth": 2
          }
         }
        }
       }
      },
      "image/png": "[encoded data removed]",
      "text/html": [
       "<div>                            <div id=\"c8f2dafb-a0a6-4e9c-92b6-c62c615d614d\" class=\"plotly-graph-div\" style=\"height:525px; width:100%;\"></div>            <script type=\"text/javascript\">                require([\"plotly\"], function(Plotly) {                    window.PLOTLYENV=window.PLOTLYENV || {};                                    if (document.getElementById(\"c8f2dafb-a0a6-4e9c-92b6-c62c615d614d\")) {                    Plotly.newPlot(                        \"c8f2dafb-a0a6-4e9c-92b6-c62c615d614d\",                        [{\"hovertemplate\":\"underground_wave_energy ** 2=%{x}\\u003cbr\\u003evibration_axis_variation ** 2=%{y}\\u003cbr\\u003eunderground_wave_energy * vibration_axis_variation=%{z}\\u003cbr\\u003eseismic_event_detected=%{marker.color}\\u003cextra\\u003e\\u003c\\u002fextra\\u003e\",\"legendgroup\":\"\",\"marker\":{\"color\":[0,0,0,0,0,0,0,0,0,0,0,0,0,0,0,0,0,0,0,0,0,0,0,0,0,0,0,0,0,0,0,0,0,0,0,0,0,0,0,0,0,0,0,0,0,0,0,0,0,0,0,0,0,0,0,0,0,0,0,0,0,0,0,0,0,0,0,0,0,0,0,0,0,0,0,0,0,0,0,0,0,0,0,0,0,0,0,0,0,0,0,0,0,0,0,0,0,0,0,0,0,0,0,0,0,0,0,0,0,0,0,0,0,0,0,0,0,0,0,0,0,0,0,0,0,0,0,0,0,0,0,0,0,0,0,0,0,0,0,0,0,0,0,0,0,0,0,0,0,0,0,0,0,0,0,0,0,0,0,0,0,0,0,0,0,0,0,0,0,0,0,0,0,0,0,0,0,0,0,0,0,0,0,0,0,0,0,0,0,0,0,0,0,0,0,0,0,0,0,0,1,1,1,1,1,1,1,1,1,1,1,1,1,1,1,1,1,1,1,1,1,1,1,1,1,1,1,1,1,1,1,1,1,1,1,1,1,1,1,1,1,1,1,1,1,1,1,1,1,1,1,1,1,1,1,1,1,1,1,1,1,1,1,1,1,1,1,1,1,1,1,1,1,1,1,1,1,1,1,1,1,1,1,1,1,1,1,1,1,1,1,1,1,1,1,1,1,1,1,1,1,1,1,1,1,1,1,1,1,1,1,1,1,1,1,1,1,1,1,1,1,1,1,1,1,1,1,1,1,1,1,1,1,1,1,1,1,1,1,1,1,1,1,1,1,1,1,1,1,1,1,1,1,1,1,1,1,1,1,1,1,1,1,1,1,1,1,1,1,1,1,1,1,1,1,1,1,1,1,1,1,1,1,1,1,1,1,1,1,1,1,1,1,1,1,1,1,1,1,1],\"coloraxis\":\"coloraxis\",\"symbol\":\"circle\"},\"mode\":\"markers\",\"name\":\"\",\"scene\":\"scene\",\"showlegend\":false,\"x\":[91.0,91.35996326905418,91.71258034894394,92.05785123966942,92.39577594123047,92.72635445362722,93.04958677685948,93.36547291092745,93.67401285583104,93.97520661157029,94.26905417814507,94.55555555555554,94.83471074380165,95.10651974288339,95.37098255280071,95.6280991735537,95.87786960514235,96.12029384756661,96.35537190082643,96.58310376492196,96.8034894398531,97.01652892561988,97.22222222222224,97.42056932966024,97.6115702479339,97.79522497704316,97.97153351698806,98.14049586776855,98.30211202938476,98.45638200183659,98.60330578512395,98.74288337924706,98.87511478420569,99.0,99.1175390266299,99.2277318640955,99.3305785123967,99.42607897153351,99.51423324150596,99.5950413223141,99.66850321395776,99.73461891643711,99.79338842975201,99.84481175390268,99.88888888888884,99.92561983471074,99.95500459136822,99.97704315886138,99.9917355371901,99.99908172635443,99.99908172635443,99.9917355371901,99.97704315886138,99.95500459136822,99.92561983471074,99.88888888888884,99.84481175390268,99.79338842975201,99.73461891643711,99.66850321395776,99.5950413223141,99.51423324150596,99.42607897153351,99.3305785123967,99.2277318640955,99.1175390266299,99.0,98.87511478420569,98.74288337924706,98.60330578512395,98.45638200183659,98.30211202938476,98.14049586776855,97.97153351698806,97.79522497704316,97.6115702479339,97.42056932966024,97.22222222222224,97.01652892561988,96.8034894398531,96.58310376492196,96.35537190082643,96.12029384756661,95.87786960514235,95.6280991735537,95.37098255280071,95.10651974288339,94.83471074380165,94.55555555555554,94.26905417814507,93.97520661157029,93.67401285583104,93.36547291092745,93.04958677685948,92.72635445362722,92.39577594123047,92.05785123966942,91.71258034894394,91.35996326905418,91.0,91.0,91.35996326905418,91.71258034894394,92.05785123966942,92.39577594123047,92.72635445362722,93.04958677685948,93.36547291092745,93.67401285583104,93.97520661157029,94.26905417814507,94.55555555555554,94.83471074380165,95.10651974288339,95.37098255280071,95.6280991735537,95.87786960514235,96.12029384756661,96.35537190082643,96.58310376492196,96.8034894398531,97.01652892561988,97.22222222222224,97.42056932966024,97.6115702479339,97.79522497704316,97.97153351698806,98.14049586776855,98.30211202938476,98.45638200183659,98.60330578512395,98.74288337924706,98.87511478420569,99.0,99.1175390266299,99.2277318640955,99.3305785123967,99.42607897153351,99.51423324150596,99.5950413223141,99.66850321395776,99.73461891643711,99.79338842975201,99.84481175390268,99.88888888888884,99.92561983471074,99.95500459136822,99.97704315886138,99.9917355371901,99.99908172635443,99.99908172635443,99.9917355371901,99.97704315886138,99.95500459136822,99.92561983471074,99.88888888888884,99.84481175390268,99.79338842975201,99.73461891643711,99.66850321395776,99.5950413223141,99.51423324150596,99.42607897153351,99.3305785123967,99.2277318640955,99.1175390266299,99.0,98.87511478420569,98.74288337924706,98.60330578512395,98.45638200183659,98.30211202938476,98.14049586776855,97.97153351698806,97.79522497704316,97.6115702479339,97.42056932966024,97.22222222222224,97.01652892561988,96.8034894398531,96.58310376492196,96.35537190082643,96.12029384756661,95.87786960514235,95.6280991735537,95.37098255280071,95.10651974288339,94.83471074380165,94.55555555555554,94.26905417814507,93.97520661157029,93.67401285583104,93.36547291092745,93.04958677685948,92.72635445362722,92.39577594123047,92.05785123966942,91.71258034894394,91.35996326905418,91.0,16.0,16.359963269054177,16.712580348943987,17.05785123966942,17.39577594123049,17.72635445362718,18.049586776859517,18.365472910927455,18.674012855831037,18.975206611570243,19.269054178145083,19.55555555555556,19.83471074380165,20.106519742883382,20.370982552800736,20.628099173553732,20.87786960514233,21.12029384756658,21.35537190082645,21.583103764921947,21.80348943985308,22.01652892561983,22.222222222222225,22.420569329660243,22.611570247933884,22.795224977043155,22.97153351698807,23.1404958677686,23.302112029384755,23.45638200183656,23.60330578512397,23.74288337924702,23.875114784205692,23.999999999999996,24.117539026629938,24.227731864095496,24.3305785123967,24.42607897153352,24.514233241505977,24.595041322314046,24.668503213957756,24.734618916437096,24.79338842975207,24.84481175390266,24.888888888888886,24.925619834710748,24.955004591368226,24.977043158861346,24.991735537190085,24.99908172635445,24.99908172635445,24.991735537190085,24.977043158861346,24.955004591368226,24.925619834710748,24.888888888888886,24.84481175390266,24.79338842975207,24.734618916437096,24.668503213957756,24.595041322314046,24.514233241505977,24.42607897153352,24.3305785123967,24.227731864095496,24.117539026629938,23.999999999999996,23.875114784205692,23.74288337924702,23.60330578512397,23.45638200183656,23.302112029384755,23.1404958677686,22.97153351698807,22.795224977043155,22.611570247933884,22.420569329660243,22.222222222222225,22.01652892561983,21.80348943985307,21.583103764921947,21.35537190082645,21.12029384756658,20.87786960514233,20.628099173553732,20.370982552800736,20.106519742883382,19.83471074380165,19.555555555555554,19.269054178145083,18.975206611570243,18.674012855831037,18.365472910927455,18.0495867768595,17.72635445362718,17.39577594123049,17.05785123966942,16.712580348943987,16.359963269054177,16.0,16.0,16.359963269054177,16.712580348943987,17.05785123966942,17.39577594123049,17.72635445362718,18.049586776859517,18.365472910927455,18.674012855831037,18.975206611570243,19.269054178145083,19.55555555555556,19.83471074380165,20.106519742883382,20.370982552800736,20.628099173553732,20.87786960514233,21.12029384756658,21.35537190082645,21.583103764921947,21.80348943985308,22.01652892561983,22.222222222222225,22.420569329660243,22.611570247933884,22.795224977043155,22.97153351698807,23.1404958677686,23.302112029384755,23.45638200183656,23.60330578512397,23.74288337924702,23.875114784205692,23.999999999999996,24.117539026629938,24.227731864095496,24.3305785123967,24.42607897153352,24.514233241505977,24.595041322314046,24.668503213957756,24.734618916437096,24.79338842975207,24.84481175390266,24.888888888888886,24.925619834710748,24.955004591368226,24.977043158861346,24.991735537190085,24.99908172635445,24.99908172635445,24.991735537190085,24.977043158861346,24.955004591368226,24.925619834710748,24.888888888888886,24.84481175390266,24.79338842975207,24.734618916437096,24.668503213957756,24.595041322314046,24.514233241505977,24.42607897153352,24.3305785123967,24.227731864095496,24.117539026629938,23.999999999999996,23.875114784205692,23.74288337924702,23.60330578512397,23.45638200183656,23.302112029384755,23.1404958677686,22.97153351698807,22.795224977043155,22.611570247933884,22.420569329660243,22.222222222222225,22.01652892561983,21.80348943985307,21.583103764921947,21.35537190082645,21.12029384756658,20.87786960514233,20.628099173553732,20.370982552800736,20.106519742883382,19.83471074380165,19.555555555555554,19.269054178145083,18.975206611570243,18.674012855831037,18.365472910927455,18.0495867768595,17.72635445362718,17.39577594123049,17.05785123966942,16.712580348943987,16.359963269054177,16.0],\"y\":[9.0,8.64003673094582,8.287419651056016,7.942148760330579,7.604224058769515,7.273645546372818,6.950413223140493,6.634527089072545,6.325987144168963,6.024793388429752,5.730945821854913,5.444444444444443,5.165289256198346,4.89348025711662,4.6290174471992644,4.37190082644628,4.122130394857668,3.879706152433424,3.6446280991735525,3.416896235078053,3.1965105601469235,2.9834710743801653,2.7777777777777763,2.579430670339761,2.3884297520661155,2.204775022956841,2.028466483011938,1.8595041322314048,1.6978879706152432,1.5436179981634528,1.3966942148760326,1.2571166207529842,1.1248852157943066,1.0,0.8824609733700643,0.7722681359044997,0.669421487603306,0.5739210284664826,0.485766758494031,0.4049586776859503,0.33149678604224053,0.26538108356290174,0.20661157024793392,0.15518824609733703,0.11111111111111088,0.07438016528925606,0.04499540863177218,0.022956841138659253,0.008264462809917335,0.0009182736455463665,0.0009182736455463665,0.008264462809917335,0.022956841138659253,0.04499540863177234,0.07438016528925628,0.11111111111111122,0.15518824609733703,0.20661157024793392,0.26538108356290174,0.33149678604224053,0.40495867768595084,0.4857667584940316,0.5739210284664833,0.669421487603306,0.7722681359044997,0.8824609733700643,1.0,1.1248852157943066,1.2571166207529842,1.3966942148760326,1.5436179981634521,1.6978879706152425,1.8595041322314034,2.028466483011939,2.2047750229568424,2.3884297520661177,2.5794306703397623,2.7777777777777786,2.9834710743801662,3.1965105601469244,3.4168962350780547,3.6446280991735525,3.879706152433424,4.122130394857668,4.37190082644628,4.6290174471992644,4.89348025711662,5.165289256198346,5.444444444444447,5.730945821854915,6.024793388429755,6.325987144168967,6.634527089072545,6.950413223140497,7.273645546372818,7.604224058769515,7.942148760330579,8.287419651056016,8.64003673094582,9.0,9.0,8.64003673094582,8.287419651056016,7.942148760330579,7.604224058769515,7.273645546372818,6.950413223140493,6.634527089072545,6.325987144168963,6.024793388429752,5.730945821854913,5.444444444444443,5.165289256198346,4.89348025711662,4.6290174471992644,4.37190082644628,4.122130394857668,3.879706152433424,3.6446280991735525,3.416896235078053,3.1965105601469235,2.9834710743801653,2.7777777777777763,2.579430670339761,2.3884297520661155,2.204775022956841,2.028466483011938,1.8595041322314048,1.6978879706152432,1.5436179981634528,1.3966942148760326,1.2571166207529842,1.1248852157943066,1.0,0.8824609733700643,0.7722681359044997,0.669421487603306,0.5739210284664826,0.485766758494031,0.4049586776859503,0.33149678604224053,0.26538108356290174,0.20661157024793392,0.15518824609733703,0.11111111111111088,0.07438016528925606,0.04499540863177218,0.022956841138659253,0.008264462809917335,0.0009182736455463665,0.0009182736455463665,0.008264462809917335,0.022956841138659253,0.04499540863177234,0.07438016528925628,0.11111111111111122,0.15518824609733703,0.20661157024793392,0.26538108356290174,0.33149678604224053,0.40495867768595084,0.4857667584940316,0.5739210284664833,0.669421487603306,0.7722681359044997,0.8824609733700643,1.0,1.1248852157943066,1.2571166207529842,1.3966942148760326,1.5436179981634521,1.6978879706152425,1.8595041322314034,2.028466483011939,2.2047750229568424,2.3884297520661177,2.5794306703397623,2.7777777777777786,2.9834710743801662,3.1965105601469244,3.4168962350780547,3.6446280991735525,3.879706152433424,4.122130394857668,4.37190082644628,4.6290174471992644,4.89348025711662,5.165289256198346,5.444444444444447,5.730945821854915,6.024793388429755,6.325987144168967,6.634527089072545,6.950413223140497,7.273645546372818,7.604224058769515,7.942148760330579,8.287419651056016,8.64003673094582,9.0,9.0,8.64003673094582,8.287419651056016,7.942148760330579,7.604224058769515,7.273645546372818,6.950413223140493,6.634527089072545,6.325987144168963,6.024793388429752,5.730945821854913,5.444444444444443,5.165289256198346,4.89348025711662,4.6290174471992644,4.37190082644628,4.122130394857668,3.879706152433424,3.6446280991735525,3.416896235078053,3.1965105601469235,2.9834710743801653,2.7777777777777763,2.579430670339761,2.3884297520661155,2.204775022956841,2.028466483011938,1.8595041322314048,1.6978879706152432,1.5436179981634528,1.3966942148760326,1.2571166207529842,1.1248852157943066,1.0,0.8824609733700643,0.7722681359044997,0.669421487603306,0.5739210284664826,0.485766758494031,0.4049586776859503,0.33149678604224053,0.26538108356290174,0.20661157024793392,0.15518824609733703,0.11111111111111088,0.07438016528925606,0.04499540863177218,0.022956841138659253,0.008264462809917335,0.0009182736455463665,0.0009182736455463665,0.008264462809917335,0.022956841138659253,0.04499540863177234,0.07438016528925628,0.11111111111111122,0.15518824609733703,0.20661157024793392,0.26538108356290174,0.33149678604224053,0.40495867768595084,0.4857667584940316,0.5739210284664833,0.669421487603306,0.7722681359044997,0.8824609733700643,1.0,1.1248852157943066,1.2571166207529842,1.3966942148760326,1.5436179981634521,1.6978879706152425,1.8595041322314034,2.028466483011939,2.2047750229568424,2.3884297520661177,2.5794306703397623,2.7777777777777786,2.9834710743801662,3.1965105601469244,3.4168962350780547,3.6446280991735525,3.879706152433424,4.122130394857668,4.37190082644628,4.6290174471992644,4.89348025711662,5.165289256198346,5.444444444444447,5.730945821854915,6.024793388429755,6.325987144168967,6.634527089072545,6.950413223140497,7.273645546372818,7.604224058769515,7.942148760330579,8.287419651056016,8.64003673094582,9.0,9.0,8.64003673094582,8.287419651056016,7.942148760330579,7.604224058769515,7.273645546372818,6.950413223140493,6.634527089072545,6.325987144168963,6.024793388429752,5.730945821854913,5.444444444444443,5.165289256198346,4.89348025711662,4.6290174471992644,4.37190082644628,4.122130394857668,3.879706152433424,3.6446280991735525,3.416896235078053,3.1965105601469235,2.9834710743801653,2.7777777777777763,2.579430670339761,2.3884297520661155,2.204775022956841,2.028466483011938,1.8595041322314048,1.6978879706152432,1.5436179981634528,1.3966942148760326,1.2571166207529842,1.1248852157943066,1.0,0.8824609733700643,0.7722681359044997,0.669421487603306,0.5739210284664826,0.485766758494031,0.4049586776859503,0.33149678604224053,0.26538108356290174,0.20661157024793392,0.15518824609733703,0.11111111111111088,0.07438016528925606,0.04499540863177218,0.022956841138659253,0.008264462809917335,0.0009182736455463665,0.0009182736455463665,0.008264462809917335,0.022956841138659253,0.04499540863177234,0.07438016528925628,0.11111111111111122,0.15518824609733703,0.20661157024793392,0.26538108356290174,0.33149678604224053,0.40495867768595084,0.4857667584940316,0.5739210284664833,0.669421487603306,0.7722681359044997,0.8824609733700643,1.0,1.1248852157943066,1.2571166207529842,1.3966942148760326,1.5436179981634521,1.6978879706152425,1.8595041322314034,2.028466483011939,2.2047750229568424,2.3884297520661177,2.5794306703397623,2.7777777777777786,2.9834710743801662,3.1965105601469244,3.4168962350780547,3.6446280991735525,3.879706152433424,4.122130394857668,4.37190082644628,4.6290174471992644,4.89348025711662,5.165289256198346,5.444444444444447,5.730945821854915,6.024793388429755,6.325987144168967,6.634527089072545,6.950413223140497,7.273645546372818,7.604224058769515,7.942148760330579,8.287419651056016,8.64003673094582,9.0],\"z\":[-28.618176042508367,-28.095434475773622,-27.569197315716174,-27.039547871623842,-26.50656866403085,-25.97034145141363,-25.43094725608236,-24.888466389306053,-24.342978475706403,-23.794562476954866,-23.243296714804785,-22.68925889348972,-22.132526121517095,-21.57317493288533,-21.01128130775111,-20.44692069257242,-19.88016801975168,-19.311097726802398,-18.739783775061806,-18.166299667970765,-17.590718468941557,-17.013112818833406,-16.433554953054486,-15.85211671830884,-15.268869589005499,-14.683884683346903,-14.097232779112748,-13.508984329154977,-12.919209476619086,-12.327978069906322,-11.73535967739102,-11.141423601906762,-10.546238895014566,-9.9498743710662,-9.352398621074979,-8.75388002640638,-8.154386772300269,-7.553986861236406,-6.952748126154527,-6.350738243540029,-5.748024746386164,-5.144675037043366,-4.540756399966097,-3.936336014367541,-3.3314809667922067,-2.726258263616481,-2.12073484348687,-1.5149775897058215,-0.9090533425746793,-0.3030289117034025,0.3030289117034025,0.9090533425746793,1.5149775897058215,2.1207348434868734,2.7262582636164847,3.331480966792212,3.936336014367541,4.540756399966097,5.144675037043366,5.748024746386164,6.350738243540033,6.952748126154532,7.55398686123641,8.154386772300269,8.75388002640638,9.352398621074979,9.9498743710662,10.546238895014566,11.141423601906762,11.73535967739102,12.327978069906319,12.919209476619082,13.508984329154972,14.097232779112753,14.683884683346907,15.268869589005506,15.852116718308846,16.433554953054493,17.01311281883341,17.59071846894156,18.16629966797077,18.739783775061806,19.311097726802398,19.88016801975168,20.44692069257242,21.01128130775111,21.57317493288533,22.132526121517095,22.689258893489725,23.243296714804792,23.794562476954873,24.34297847570641,24.888466389306053,25.43094725608237,25.97034145141363,26.50656866403085,27.039547871623842,27.569197315716174,28.095434475773622,28.618176042508367,-28.618176042508367,-28.095434475773622,-27.569197315716174,-27.039547871623842,-26.50656866403085,-25.97034145141363,-25.43094725608236,-24.888466389306053,-24.342978475706403,-23.794562476954866,-23.243296714804785,-22.68925889348972,-22.132526121517095,-21.57317493288533,-21.01128130775111,-20.44692069257242,-19.88016801975168,-19.311097726802398,-18.739783775061806,-18.166299667970765,-17.590718468941557,-17.013112818833406,-16.433554953054486,-15.85211671830884,-15.268869589005499,-14.683884683346903,-14.097232779112748,-13.508984329154977,-12.919209476619086,-12.327978069906322,-11.73535967739102,-11.141423601906762,-10.546238895014566,-9.9498743710662,-9.352398621074979,-8.75388002640638,-8.154386772300269,-7.553986861236406,-6.952748126154527,-6.350738243540029,-5.748024746386164,-5.144675037043366,-4.540756399966097,-3.936336014367541,-3.3314809667922067,-2.726258263616481,-2.12073484348687,-1.5149775897058215,-0.9090533425746793,-0.3030289117034025,0.3030289117034025,0.9090533425746793,1.5149775897058215,2.1207348434868734,2.7262582636164847,3.331480966792212,3.936336014367541,4.540756399966097,5.144675037043366,5.748024746386164,6.350738243540033,6.952748126154532,7.55398686123641,8.154386772300269,8.75388002640638,9.352398621074979,9.9498743710662,10.546238895014566,11.141423601906762,11.73535967739102,12.327978069906319,12.919209476619082,13.508984329154972,14.097232779112753,14.683884683346907,15.268869589005506,15.852116718308846,16.433554953054493,17.01311281883341,17.59071846894156,18.16629966797077,18.739783775061806,19.311097726802398,19.88016801975168,20.44692069257242,21.01128130775111,21.57317493288533,22.132526121517095,22.689258893489725,23.243296714804792,23.794562476954873,24.34297847570641,24.888466389306053,25.43094725608237,25.97034145141363,26.50656866403085,27.039547871623842,27.569197315716174,28.095434475773622,28.618176042508367,-12.0,-11.889099358721523,-11.768779325133554,-11.639415452549322,-11.501364177056075,-11.354964514477855,-11.20053956763272,-11.038397869762452,-10.868834585917346,-10.6921325907172,-10.508563438136372,-10.318388236661244,-10.121858441252801,-9.919216571943842,-9.710696867553143,-9.496525881862029,-9.276923028635748,-9.052101081053275,-8.82226663041043,-8.58762050836323,-8.348358176464538,-8.104670086304623,-7.85674201318386,-7.604755365914449,-7.348887475060309,-7.0893118616736475,-6.826198488367859,-6.559713994375018,-6.290021916068428,-6.017282894283116,-5.7416548696375544,-5.463293266945424,-5.18235116970522,-4.898979485566356,-4.61332710359133,-4.32554104406363,-4.035766601529086,-3.7441474817034175,-3.4508259328301363,-3.155942872029784,-2.859638007143505,-2.5620499545402162,-2.263316353327133,-1.9635739763774265,-1.6629588385661942,-1.3616063025863772,-1.05965118269946,-0.7572278467617365,-0.45447031685512407,-0.15151236884218747,0.15151236884218747,0.45447031685512407,0.7572278467617365,1.059651182699462,1.3616063025863792,1.6629588385661969,1.9635739763774265,2.263316353327133,2.5620499545402162,2.859638007143505,3.155942872029786,3.4508259328301385,3.7441474817034197,4.035766601529086,4.32554104406363,4.61332710359133,4.898979485566356,5.18235116970522,5.463293266945424,5.7416548696375544,6.017282894283115,6.290021916068427,6.5597139943750165,6.826198488367861,7.08931186167365,7.348887475060312,7.604755365914452,7.8567420131838634,8.104670086304624,8.348358176464536,8.587620508363234,8.82226663041043,9.052101081053275,9.276923028635748,9.496525881862029,9.710696867553143,9.919216571943842,10.121858441252801,10.318388236661246,10.508563438136374,10.692132590717202,10.86883458591735,11.038397869762452,11.200539567632719,11.354964514477855,11.501364177056075,11.639415452549322,11.768779325133554,11.889099358721523,12.0,-12.0,-11.889099358721523,-11.768779325133554,-11.639415452549322,-11.501364177056075,-11.354964514477855,-11.20053956763272,-11.038397869762452,-10.868834585917346,-10.6921325907172,-10.508563438136372,-10.318388236661244,-10.121858441252801,-9.919216571943842,-9.710696867553143,-9.496525881862029,-9.276923028635748,-9.052101081053275,-8.82226663041043,-8.58762050836323,-8.348358176464538,-8.104670086304623,-7.85674201318386,-7.604755365914449,-7.348887475060309,-7.0893118616736475,-6.826198488367859,-6.559713994375018,-6.290021916068428,-6.017282894283116,-5.7416548696375544,-5.463293266945424,-5.18235116970522,-4.898979485566356,-4.61332710359133,-4.32554104406363,-4.035766601529086,-3.7441474817034175,-3.4508259328301363,-3.155942872029784,-2.859638007143505,-2.5620499545402162,-2.263316353327133,-1.9635739763774265,-1.6629588385661942,-1.3616063025863772,-1.05965118269946,-0.7572278467617365,-0.45447031685512407,-0.15151236884218747,0.15151236884218747,0.45447031685512407,0.7572278467617365,1.059651182699462,1.3616063025863792,1.6629588385661969,1.9635739763774265,2.263316353327133,2.5620499545402162,2.859638007143505,3.155942872029786,3.4508259328301385,3.7441474817034197,4.035766601529086,4.32554104406363,4.61332710359133,4.898979485566356,5.18235116970522,5.463293266945424,5.7416548696375544,6.017282894283115,6.290021916068427,6.5597139943750165,6.826198488367861,7.08931186167365,7.348887475060312,7.604755365914452,7.8567420131838634,8.104670086304624,8.348358176464536,8.587620508363234,8.82226663041043,9.052101081053275,9.276923028635748,9.496525881862029,9.710696867553143,9.919216571943842,10.121858441252801,10.318388236661246,10.508563438136374,10.692132590717202,10.86883458591735,11.038397869762452,11.200539567632719,11.354964514477855,11.501364177056075,11.639415452549322,11.768779325133554,11.889099358721523,12.0],\"type\":\"scatter3d\"}],                        {\"template\":{\"data\":{\"histogram2dcontour\":[{\"type\":\"histogram2dcontour\",\"colorbar\":{\"outlinewidth\":0,\"ticks\":\"\"},\"colorscale\":[[0.0,\"#0d0887\"],[0.1111111111111111,\"#46039f\"],[0.2222222222222222,\"#7201a8\"],[0.3333333333333333,\"#9c179e\"],[0.4444444444444444,\"#bd3786\"],[0.5555555555555556,\"#d8576b\"],[0.6666666666666666,\"#ed7953\"],[0.7777777777777778,\"#fb9f3a\"],[0.8888888888888888,\"#fdca26\"],[1.0,\"#f0f921\"]]}],\"choropleth\":[{\"type\":\"choropleth\",\"colorbar\":{\"outlinewidth\":0,\"ticks\":\"\"}}],\"histogram2d\":[{\"type\":\"histogram2d\",\"colorbar\":{\"outlinewidth\":0,\"ticks\":\"\"},\"colorscale\":[[0.0,\"#0d0887\"],[0.1111111111111111,\"#46039f\"],[0.2222222222222222,\"#7201a8\"],[0.3333333333333333,\"#9c179e\"],[0.4444444444444444,\"#bd3786\"],[0.5555555555555556,\"#d8576b\"],[0.6666666666666666,\"#ed7953\"],[0.7777777777777778,\"#fb9f3a\"],[0.8888888888888888,\"#fdca26\"],[1.0,\"#f0f921\"]]}],\"heatmap\":[{\"type\":\"heatmap\",\"colorbar\":{\"outlinewidth\":0,\"ticks\":\"\"},\"colorscale\":[[0.0,\"#0d0887\"],[0.1111111111111111,\"#46039f\"],[0.2222222222222222,\"#7201a8\"],[0.3333333333333333,\"#9c179e\"],[0.4444444444444444,\"#bd3786\"],[0.5555555555555556,\"#d8576b\"],[0.6666666666666666,\"#ed7953\"],[0.7777777777777778,\"#fb9f3a\"],[0.8888888888888888,\"#fdca26\"],[1.0,\"#f0f921\"]]}],\"heatmapgl\":[{\"type\":\"heatmapgl\",\"colorbar\":{\"outlinewidth\":0,\"ticks\":\"\"},\"colorscale\":[[0.0,\"#0d0887\"],[0.1111111111111111,\"#46039f\"],[0.2222222222222222,\"#7201a8\"],[0.3333333333333333,\"#9c179e\"],[0.4444444444444444,\"#bd3786\"],[0.5555555555555556,\"#d8576b\"],[0.6666666666666666,\"#ed7953\"],[0.7777777777777778,\"#fb9f3a\"],[0.8888888888888888,\"#fdca26\"],[1.0,\"#f0f921\"]]}],\"contourcarpet\":[{\"type\":\"contourcarpet\",\"colorbar\":{\"outlinewidth\":0,\"ticks\":\"\"}}],\"contour\":[{\"type\":\"contour\",\"colorbar\":{\"outlinewidth\":0,\"ticks\":\"\"},\"colorscale\":[[0.0,\"#0d0887\"],[0.1111111111111111,\"#46039f\"],[0.2222222222222222,\"#7201a8\"],[0.3333333333333333,\"#9c179e\"],[0.4444444444444444,\"#bd3786\"],[0.5555555555555556,\"#d8576b\"],[0.6666666666666666,\"#ed7953\"],[0.7777777777777778,\"#fb9f3a\"],[0.8888888888888888,\"#fdca26\"],[1.0,\"#f0f921\"]]}],\"surface\":[{\"type\":\"surface\",\"colorbar\":{\"outlinewidth\":0,\"ticks\":\"\"},\"colorscale\":[[0.0,\"#0d0887\"],[0.1111111111111111,\"#46039f\"],[0.2222222222222222,\"#7201a8\"],[0.3333333333333333,\"#9c179e\"],[0.4444444444444444,\"#bd3786\"],[0.5555555555555556,\"#d8576b\"],[0.6666666666666666,\"#ed7953\"],[0.7777777777777778,\"#fb9f3a\"],[0.8888888888888888,\"#fdca26\"],[1.0,\"#f0f921\"]]}],\"mesh3d\":[{\"type\":\"mesh3d\",\"colorbar\":{\"outlinewidth\":0,\"ticks\":\"\"}}],\"scatter\":[{\"fillpattern\":{\"fillmode\":\"overlay\",\"size\":10,\"solidity\":0.2},\"type\":\"scatter\"}],\"parcoords\":[{\"type\":\"parcoords\",\"line\":{\"colorbar\":{\"outlinewidth\":0,\"ticks\":\"\"}}}],\"scatterpolargl\":[{\"type\":\"scatterpolargl\",\"marker\":{\"colorbar\":{\"outlinewidth\":0,\"ticks\":\"\"}}}],\"bar\":[{\"error_x\":{\"color\":\"#2a3f5f\"},\"error_y\":{\"color\":\"#2a3f5f\"},\"marker\":{\"line\":{\"color\":\"#E5ECF6\",\"width\":0.5},\"pattern\":{\"fillmode\":\"overlay\",\"size\":10,\"solidity\":0.2}},\"type\":\"bar\"}],\"scattergeo\":[{\"type\":\"scattergeo\",\"marker\":{\"colorbar\":{\"outlinewidth\":0,\"ticks\":\"\"}}}],\"scatterpolar\":[{\"type\":\"scatterpolar\",\"marker\":{\"colorbar\":{\"outlinewidth\":0,\"ticks\":\"\"}}}],\"histogram\":[{\"marker\":{\"pattern\":{\"fillmode\":\"overlay\",\"size\":10,\"solidity\":0.2}},\"type\":\"histogram\"}],\"scattergl\":[{\"type\":\"scattergl\",\"marker\":{\"colorbar\":{\"outlinewidth\":0,\"ticks\":\"\"}}}],\"scatter3d\":[{\"type\":\"scatter3d\",\"line\":{\"colorbar\":{\"outlinewidth\":0,\"ticks\":\"\"}},\"marker\":{\"colorbar\":{\"outlinewidth\":0,\"ticks\":\"\"}}}],\"scattermapbox\":[{\"type\":\"scattermapbox\",\"marker\":{\"colorbar\":{\"outlinewidth\":0,\"ticks\":\"\"}}}],\"scatterternary\":[{\"type\":\"scatterternary\",\"marker\":{\"colorbar\":{\"outlinewidth\":0,\"ticks\":\"\"}}}],\"scattercarpet\":[{\"type\":\"scattercarpet\",\"marker\":{\"colorbar\":{\"outlinewidth\":0,\"ticks\":\"\"}}}],\"carpet\":[{\"aaxis\":{\"endlinecolor\":\"#2a3f5f\",\"gridcolor\":\"white\",\"linecolor\":\"white\",\"minorgridcolor\":\"white\",\"startlinecolor\":\"#2a3f5f\"},\"baxis\":{\"endlinecolor\":\"#2a3f5f\",\"gridcolor\":\"white\",\"linecolor\":\"white\",\"minorgridcolor\":\"white\",\"startlinecolor\":\"#2a3f5f\"},\"type\":\"carpet\"}],\"table\":[{\"cells\":{\"fill\":{\"color\":\"#EBF0F8\"},\"line\":{\"color\":\"white\"}},\"header\":{\"fill\":{\"color\":\"#C8D4E3\"},\"line\":{\"color\":\"white\"}},\"type\":\"table\"}],\"barpolar\":[{\"marker\":{\"line\":{\"color\":\"#E5ECF6\",\"width\":0.5},\"pattern\":{\"fillmode\":\"overlay\",\"size\":10,\"solidity\":0.2}},\"type\":\"barpolar\"}],\"pie\":[{\"automargin\":true,\"type\":\"pie\"}]},\"layout\":{\"autotypenumbers\":\"strict\",\"colorway\":[\"#636efa\",\"#EF553B\",\"#00cc96\",\"#ab63fa\",\"#FFA15A\",\"#19d3f3\",\"#FF6692\",\"#B6E880\",\"#FF97FF\",\"#FECB52\"],\"font\":{\"color\":\"#2a3f5f\"},\"hovermode\":\"closest\",\"hoverlabel\":{\"align\":\"left\"},\"paper_bgcolor\":\"white\",\"plot_bgcolor\":\"#E5ECF6\",\"polar\":{\"bgcolor\":\"#E5ECF6\",\"angularaxis\":{\"gridcolor\":\"white\",\"linecolor\":\"white\",\"ticks\":\"\"},\"radialaxis\":{\"gridcolor\":\"white\",\"linecolor\":\"white\",\"ticks\":\"\"}},\"ternary\":{\"bgcolor\":\"#E5ECF6\",\"aaxis\":{\"gridcolor\":\"white\",\"linecolor\":\"white\",\"ticks\":\"\"},\"baxis\":{\"gridcolor\":\"white\",\"linecolor\":\"white\",\"ticks\":\"\"},\"caxis\":{\"gridcolor\":\"white\",\"linecolor\":\"white\",\"ticks\":\"\"}},\"coloraxis\":{\"colorbar\":{\"outlinewidth\":0,\"ticks\":\"\"}},\"colorscale\":{\"sequential\":[[0.0,\"#0d0887\"],[0.1111111111111111,\"#46039f\"],[0.2222222222222222,\"#7201a8\"],[0.3333333333333333,\"#9c179e\"],[0.4444444444444444,\"#bd3786\"],[0.5555555555555556,\"#d8576b\"],[0.6666666666666666,\"#ed7953\"],[0.7777777777777778,\"#fb9f3a\"],[0.8888888888888888,\"#fdca26\"],[1.0,\"#f0f921\"]],\"sequentialminus\":[[0.0,\"#0d0887\"],[0.1111111111111111,\"#46039f\"],[0.2222222222222222,\"#7201a8\"],[0.3333333333333333,\"#9c179e\"],[0.4444444444444444,\"#bd3786\"],[0.5555555555555556,\"#d8576b\"],[0.6666666666666666,\"#ed7953\"],[0.7777777777777778,\"#fb9f3a\"],[0.8888888888888888,\"#fdca26\"],[1.0,\"#f0f921\"]],\"diverging\":[[0,\"#8e0152\"],[0.1,\"#c51b7d\"],[0.2,\"#de77ae\"],[0.3,\"#f1b6da\"],[0.4,\"#fde0ef\"],[0.5,\"#f7f7f7\"],[0.6,\"#e6f5d0\"],[0.7,\"#b8e186\"],[0.8,\"#7fbc41\"],[0.9,\"#4d9221\"],[1,\"#276419\"]]},\"xaxis\":{\"gridcolor\":\"white\",\"linecolor\":\"white\",\"ticks\":\"\",\"title\":{\"standoff\":15},\"zerolinecolor\":\"white\",\"automargin\":true,\"zerolinewidth\":2},\"yaxis\":{\"gridcolor\":\"white\",\"linecolor\":\"white\",\"ticks\":\"\",\"title\":{\"standoff\":15},\"zerolinecolor\":\"white\",\"automargin\":true,\"zerolinewidth\":2},\"scene\":{\"xaxis\":{\"backgroundcolor\":\"#E5ECF6\",\"gridcolor\":\"white\",\"linecolor\":\"white\",\"showbackground\":true,\"ticks\":\"\",\"zerolinecolor\":\"white\",\"gridwidth\":2},\"yaxis\":{\"backgroundcolor\":\"#E5ECF6\",\"gridcolor\":\"white\",\"linecolor\":\"white\",\"showbackground\":true,\"ticks\":\"\",\"zerolinecolor\":\"white\",\"gridwidth\":2},\"zaxis\":{\"backgroundcolor\":\"#E5ECF6\",\"gridcolor\":\"white\",\"linecolor\":\"white\",\"showbackground\":true,\"ticks\":\"\",\"zerolinecolor\":\"white\",\"gridwidth\":2}},\"shapedefaults\":{\"line\":{\"color\":\"#2a3f5f\"}},\"annotationdefaults\":{\"arrowcolor\":\"#2a3f5f\",\"arrowhead\":0,\"arrowwidth\":1},\"geo\":{\"bgcolor\":\"white\",\"landcolor\":\"#E5ECF6\",\"subunitcolor\":\"white\",\"showland\":true,\"showlakes\":true,\"lakecolor\":\"white\"},\"title\":{\"x\":0.05},\"mapbox\":{\"style\":\"light\"}}},\"scene\":{\"domain\":{\"x\":[0.0,1.0],\"y\":[0.0,1.0]},\"xaxis\":{\"title\":{\"text\":\"underground_wave_energy ** 2\"}},\"yaxis\":{\"title\":{\"text\":\"vibration_axis_variation ** 2\"}},\"zaxis\":{\"title\":{\"text\":\"underground_wave_energy * vibration_axis_variation\"}}},\"coloraxis\":{\"colorbar\":{\"title\":{\"text\":\"seismic_event_detected\"}},\"colorscale\":[[0.0,\"#0d0887\"],[0.1111111111111111,\"#46039f\"],[0.2222222222222222,\"#7201a8\"],[0.3333333333333333,\"#9c179e\"],[0.4444444444444444,\"#bd3786\"],[0.5555555555555556,\"#d8576b\"],[0.6666666666666666,\"#ed7953\"],[0.7777777777777778,\"#fb9f3a\"],[0.8888888888888888,\"#fdca26\"],[1.0,\"#f0f921\"]]},\"legend\":{\"tracegroupgap\":0},\"margin\":{\"t\":60}},                        {\"responsive\": true}                    ).then(function(){\n",
       "                            \n",
       "var gd = document.getElementById('c8f2dafb-a0a6-4e9c-92b6-c62c615d614d');\n",
       "var x = new MutationObserver(function (mutations, observer) {{\n",
       "        var display = window.getComputedStyle(gd).display;\n",
       "        if (!display || display === 'none') {{\n",
       "            console.log([gd, 'removed!']);\n",
       "            Plotly.purge(gd);\n",
       "            observer.disconnect();\n",
       "        }}\n",
       "}});\n",
       "\n",
       "// Listen for the removal of the full notebook cells\n",
       "var notebookContainer = gd.closest('#notebook-container');\n",
       "if (notebookContainer) {{\n",
       "    x.observe(notebookContainer, {childList: true});\n",
       "}}\n",
       "\n",
       "// Listen for the clearing of the current output cell\n",
       "var outputEl = gd.closest('.output');\n",
       "if (outputEl) {{\n",
       "    x.observe(outputEl, {childList: true});\n",
       "}}\n",
       "\n",
       "                        })                };                });            </script>        </div>"
      ]
     },
     "metadata": {},
     "output_type": "display_data"
    }
   ],
   "source": [
    "fig = px.scatter_3d(df, x = \"underground_wave_energy ** 2\", y = \"vibration_axis_variation ** 2\", z = \"underground_wave_energy * vibration_axis_variation\", \n",
    "                   color = \"seismic_event_detected\")\n",
    "fig.show()"
   ]
  },
  {
   "cell_type": "code",
   "execution_count": 65,
   "id": "f8abc00c-674e-4d3e-8a94-526a32d70084",
   "metadata": {},
   "outputs": [
    {
     "name": "stdout",
     "output_type": "stream",
     "text": [
      "              precision    recall  f1-score   support\n",
      "\n",
      "           0       1.00      1.00      1.00        48\n",
      "           1       1.00      1.00      1.00        52\n",
      "\n",
      "    accuracy                           1.00       100\n",
      "   macro avg       1.00      1.00      1.00       100\n",
      "weighted avg       1.00      1.00      1.00       100\n",
      "\n",
      "[[48  0]\n",
      " [ 0 52]]\n"
     ]
    }
   ],
   "source": [
    "linear = SVC(kernel = \"linear\")\n",
    "linear.fit(X_train, y_train)\n",
    "y_pred8 = linear.predict(X_test)\n",
    "print(classification_report(y_test, y_pred8))\n",
    "print(confusion_matrix(y_test, y_pred8))"
   ]
  },
  {
   "cell_type": "code",
   "execution_count": 66,
   "id": "6825a02f-842d-46af-bebc-33a38ff75f48",
   "metadata": {},
   "outputs": [],
   "source": [
    "# automatic rbf "
   ]
  },
  {
   "cell_type": "code",
   "execution_count": null,
   "id": "5cf12244-cc70-42ee-a3d4-9021e69050c4",
   "metadata": {},
   "outputs": [],
   "source": [
    "df = pd.read_csv(\"9-seismic_activity_svm.csv\")"
   ]
  },
  {
   "cell_type": "code",
   "execution_count": 68,
   "id": "48625409-2b22-4199-9fca-59f33bd595fb",
   "metadata": {},
   "outputs": [],
   "source": [
    "X = df.drop(\"seismic_event_detected\", axis = 1)\n",
    "y = df[\"seismic_event_detected\"]\n",
    "X_train, X_test, y_train, y_test = train_test_split(X,y,test_size=0.25, random_state=15)"
   ]
  },
  {
   "cell_type": "code",
   "execution_count": 69,
   "id": "b3907c3b-d95e-4306-bf00-df7f244d06da",
   "metadata": {},
   "outputs": [
    {
     "name": "stdout",
     "output_type": "stream",
     "text": [
      "              precision    recall  f1-score   support\n",
      "\n",
      "           0       0.48      1.00      0.65        48\n",
      "           1       0.00      0.00      0.00        52\n",
      "\n",
      "    accuracy                           0.48       100\n",
      "   macro avg       0.24      0.50      0.32       100\n",
      "weighted avg       0.23      0.48      0.31       100\n",
      "\n",
      "[[48  0]\n",
      " [52  0]]\n"
     ]
    },
    {
     "name": "stderr",
     "output_type": "stream",
     "text": [
      "/Users/batuhanbasoda/Desktop/CENG/anaconda3/lib/python3.13/site-packages/sklearn/metrics/_classification.py:1565: UndefinedMetricWarning:\n",
      "\n",
      "Precision is ill-defined and being set to 0.0 in labels with no predicted samples. Use `zero_division` parameter to control this behavior.\n",
      "\n",
      "/Users/batuhanbasoda/Desktop/CENG/anaconda3/lib/python3.13/site-packages/sklearn/metrics/_classification.py:1565: UndefinedMetricWarning:\n",
      "\n",
      "Precision is ill-defined and being set to 0.0 in labels with no predicted samples. Use `zero_division` parameter to control this behavior.\n",
      "\n",
      "/Users/batuhanbasoda/Desktop/CENG/anaconda3/lib/python3.13/site-packages/sklearn/metrics/_classification.py:1565: UndefinedMetricWarning:\n",
      "\n",
      "Precision is ill-defined and being set to 0.0 in labels with no predicted samples. Use `zero_division` parameter to control this behavior.\n",
      "\n"
     ]
    }
   ],
   "source": [
    "linear = SVC(kernel = \"linear\")\n",
    "linear.fit(X_train, y_train)\n",
    "y_pred9 = linear.predict(X_test)\n",
    "print(classification_report(y_test, y_pred9))\n",
    "print(confusion_matrix(y_test, y_pred9))"
   ]
  },
  {
   "cell_type": "code",
   "execution_count": 71,
   "id": "d120027a-b6f0-4eb4-ab3c-917829cfeac3",
   "metadata": {},
   "outputs": [
    {
     "name": "stdout",
     "output_type": "stream",
     "text": [
      "              precision    recall  f1-score   support\n",
      "\n",
      "           0       1.00      1.00      1.00        48\n",
      "           1       1.00      1.00      1.00        52\n",
      "\n",
      "    accuracy                           1.00       100\n",
      "   macro avg       1.00      1.00      1.00       100\n",
      "weighted avg       1.00      1.00      1.00       100\n",
      "\n",
      "[[48  0]\n",
      " [ 0 52]]\n"
     ]
    }
   ],
   "source": [
    "rbf = SVC(kernel = \"rbf\")\n",
    "rbf.fit(X_train, y_train)\n",
    "y_pred10 = rbf.predict(X_test)\n",
    "print(classification_report(y_test, y_pred10))\n",
    "print(confusion_matrix(y_test, y_pred10))"
   ]
  },
  {
   "cell_type": "code",
   "execution_count": null,
   "id": "abd723ea-ef24-414f-996b-0d41118f9401",
   "metadata": {},
   "outputs": [],
   "source": []
  }
 ],
 "metadata": {
  "kernelspec": {
   "display_name": "Python 3 (ipykernel)",
   "language": "python",
   "name": "python3"
  },
  "language_info": {
   "codemirror_mode": {
    "name": "ipython",
    "version": 3
   },
   "file_extension": ".py",
   "mimetype": "text/x-python",
   "name": "python",
   "nbconvert_exporter": "python",
   "pygments_lexer": "ipython3",
   "version": "3.13.5"
  }
 },
 "nbformat": 4,
 "nbformat_minor": 5
}
