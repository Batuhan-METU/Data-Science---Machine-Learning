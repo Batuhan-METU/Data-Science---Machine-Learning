{
 "cells": [
  {
   "cell_type": "code",
   "execution_count": null,
   "id": "51910bf6-79f0-48f4-85be-57180f83b138",
   "metadata": {},
   "outputs": [],
   "source": [
    "import pandas as pd \n",
    "import numpy as np \n",
    "import matplotlib.pyplot as plt \n",
    "import seaborn as sns \n",
    "%matplotlib inline"
   ]
  },
  {
   "cell_type": "code",
   "execution_count": null,
   "id": "e7c8c837-108c-47ed-be9f-28d237cec522",
   "metadata": {},
   "outputs": [],
   "source": [
    "df = pd.read_csv(\"14-income_evaluation.csv\")"
   ]
  },
  {
   "cell_type": "code",
   "execution_count": null,
   "id": "a4f271c1-f5a8-494b-91f2-bfc11d6fd70e",
   "metadata": {},
   "outputs": [],
   "source": [
    "df.head()"
   ]
  },
  {
   "cell_type": "code",
   "execution_count": null,
   "id": "570223ae-4b04-4bc5-b86c-522ecaa94de5",
   "metadata": {},
   "outputs": [],
   "source": [
    "df.shape"
   ]
  },
  {
   "cell_type": "code",
   "execution_count": null,
   "id": "6579a197-590d-4e07-a421-ab5c627f1f1d",
   "metadata": {},
   "outputs": [],
   "source": [
    "df.columns"
   ]
  },
  {
   "cell_type": "code",
   "execution_count": null,
   "id": "0e622649-d83d-4012-8f8a-a0944aba11e2",
   "metadata": {},
   "outputs": [],
   "source": [
    "col_names = [\"age\", \"workclass\", \"finalweight\", \"education\", \"education_num\", \"marital_status\", \"occupation\", \n",
    "            \"relationship\", \"race\", \"sex\",\"capital_gain\", \"capital_loss\",\"hours_per_week\", \"native_country\",\"income\"]"
   ]
  },
  {
   "cell_type": "code",
   "execution_count": null,
   "id": "4d6cc3c6-c1d7-4466-8fb7-225080b85759",
   "metadata": {},
   "outputs": [],
   "source": [
    "df.columns = col_names"
   ]
  },
  {
   "cell_type": "code",
   "execution_count": null,
   "id": "afeb4291-3bcb-4bdd-9276-46d9834c7b78",
   "metadata": {},
   "outputs": [],
   "source": [
    "df.columns"
   ]
  },
  {
   "cell_type": "code",
   "execution_count": null,
   "id": "c0e44171-8cda-4bec-a1c0-8cfeb029f58a",
   "metadata": {},
   "outputs": [],
   "source": [
    "df.info()"
   ]
  },
  {
   "cell_type": "code",
   "execution_count": null,
   "id": "a352ad06-eb01-4298-bc6e-4e30734c90bb",
   "metadata": {},
   "outputs": [],
   "source": [
    "df.describe()"
   ]
  },
  {
   "cell_type": "code",
   "execution_count": null,
   "id": "a7c2b46c-3511-4f2a-a5c8-4f61c62d12c3",
   "metadata": {},
   "outputs": [],
   "source": [
    "df.isnull().sum()"
   ]
  },
  {
   "cell_type": "code",
   "execution_count": null,
   "id": "7ac87e88-6412-435c-94d9-dad4e441c93d",
   "metadata": {},
   "outputs": [],
   "source": [
    "categorical = [col for col in df.columns if df[col].dtype == \"O\"]\n",
    "numerical = [col for col in df.columns if df[col].dtype != \"O\"]"
   ]
  },
  {
   "cell_type": "code",
   "execution_count": null,
   "id": "98474093-3082-4952-b1a8-0bf65195e647",
   "metadata": {},
   "outputs": [],
   "source": [
    "categorical"
   ]
  },
  {
   "cell_type": "code",
   "execution_count": null,
   "id": "8b685717-2f44-4f80-9507-a5b774f91f09",
   "metadata": {},
   "outputs": [],
   "source": [
    "numerical"
   ]
  },
  {
   "cell_type": "code",
   "execution_count": null,
   "id": "7e534a13-1437-4ae6-8360-b18a2079a944",
   "metadata": {},
   "outputs": [],
   "source": [
    "df[categorical].head()"
   ]
  },
  {
   "cell_type": "code",
   "execution_count": null,
   "id": "e64a6c5e-ec61-4eb0-8ee5-62224e812f16",
   "metadata": {},
   "outputs": [],
   "source": [
    "for col in categorical: \n",
    "    print(df[col].value_counts())"
   ]
  },
  {
   "cell_type": "code",
   "execution_count": null,
   "id": "70d072e0-52a7-4ab4-a5ea-4cf256765d31",
   "metadata": {},
   "outputs": [],
   "source": [
    "fig, ax = plt.subplots(figsize = (10,8))\n",
    "ax = sns.countplot(x = \"income\", hue = \"sex\", data = df)\n",
    "ax.set_title(\"Distribution of income by gender\")\n",
    "plt.show()"
   ]
  },
  {
   "cell_type": "code",
   "execution_count": null,
   "id": "27568027-b5c6-4de1-be59-e5580a9e49c5",
   "metadata": {},
   "outputs": [],
   "source": [
    "fig, ax = plt.subplots(figsize = (10,8))\n",
    "ax = sns.countplot(x = \"income\", hue = \"race\", data = df)\n",
    "ax.set_title(\"Distribution of income by gender\")\n",
    "plt.show()"
   ]
  },
  {
   "cell_type": "code",
   "execution_count": null,
   "id": "b58063d4-62d8-453f-9cb2-34fc71e072ff",
   "metadata": {},
   "outputs": [],
   "source": [
    "sns.catplot(y = df[\"hours_per_week\"], hue = df[\"income\"])\n",
    "plt.show()"
   ]
  },
  {
   "cell_type": "code",
   "execution_count": null,
   "id": "0b2b54e2-eaa8-492c-85dc-23b629403db8",
   "metadata": {},
   "outputs": [],
   "source": [
    "over_40_hours = df[df[\"hours_per_week\"] > 40]\n",
    "under_40_hours = df[df[\"hours_per_week\"] <= 40]"
   ]
  },
  {
   "cell_type": "code",
   "execution_count": null,
   "id": "834c6e52-1ba1-42cc-8e98-cc33f43554b0",
   "metadata": {},
   "outputs": [],
   "source": [
    "over_40_hours[\"income\"].value_counts()"
   ]
  },
  {
   "cell_type": "code",
   "execution_count": null,
   "id": "0bee1ff5-7342-4cd6-a412-cc540d379895",
   "metadata": {},
   "outputs": [],
   "source": [
    "under_40_hours[\"income\"].value_counts()"
   ]
  },
  {
   "cell_type": "code",
   "execution_count": null,
   "id": "86d97bb5-c01f-4e80-a906-ec70a4df1f7e",
   "metadata": {},
   "outputs": [],
   "source": [
    "df[\"workclass\"].unique()"
   ]
  },
  {
   "cell_type": "code",
   "execution_count": null,
   "id": "66cdfbe9-daf9-49c6-a1e0-04540b2743a1",
   "metadata": {},
   "outputs": [],
   "source": [
    "df[\"workclass\"] = df[\"workclass\"].replace(\" ?\", np.nan)"
   ]
  },
  {
   "cell_type": "code",
   "execution_count": null,
   "id": "43f3bfed-5c99-4291-b6ff-498448d4ca15",
   "metadata": {},
   "outputs": [],
   "source": [
    "df[\"workclass\"].value_counts()"
   ]
  },
  {
   "cell_type": "code",
   "execution_count": null,
   "id": "74237903-8629-450d-92a2-ed82ca99731f",
   "metadata": {},
   "outputs": [],
   "source": [
    "df[\"marital_status\"].unique()"
   ]
  },
  {
   "cell_type": "code",
   "execution_count": null,
   "id": "282cdf15-b952-48bf-8f44-a08beedb7081",
   "metadata": {},
   "outputs": [],
   "source": [
    "df[\"occupation\"].unique()"
   ]
  },
  {
   "cell_type": "code",
   "execution_count": null,
   "id": "32c1e534-e33c-4b9e-b6d7-372f1dc38b0b",
   "metadata": {},
   "outputs": [],
   "source": [
    "df[\"occupation\"] = df[\"occupation\"].replace(\" ?\", np.nan)"
   ]
  },
  {
   "cell_type": "code",
   "execution_count": null,
   "id": "7e26034d-336b-44b8-baf7-d5928ec81b8f",
   "metadata": {},
   "outputs": [],
   "source": [
    "df[\"native_country\"] = df[\"native_country\"].replace(\" ?\", np.nan)"
   ]
  },
  {
   "cell_type": "code",
   "execution_count": null,
   "id": "8ec002f7-0b31-4b97-a38d-dc6a51a6f1c0",
   "metadata": {},
   "outputs": [],
   "source": [
    "df.isnull().sum()"
   ]
  },
  {
   "cell_type": "code",
   "execution_count": null,
   "id": "b6d132d3-e8b0-4d64-82d3-56ffe84d877d",
   "metadata": {},
   "outputs": [],
   "source": [
    "sns.pairplot(df, hue = \"income\")\n",
    "plt.show()"
   ]
  },
  {
   "cell_type": "code",
   "execution_count": null,
   "id": "c1f525cb-1fa3-47c7-a0c7-0a1a7795af0e",
   "metadata": {},
   "outputs": [],
   "source": [
    "X = df.drop(\"income\", axis = 1)\n",
    "y = df[\"income\"]"
   ]
  },
  {
   "cell_type": "code",
   "execution_count": null,
   "id": "d67a3874-d8b5-44f7-90f5-ec830ff2dfe5",
   "metadata": {},
   "outputs": [],
   "source": [
    "from sklearn.model_selection import train_test_split\n",
    "X_train, X_test, y_train, y_test = train_test_split(X,y,test_size=0.3, random_state=0)"
   ]
  },
  {
   "cell_type": "code",
   "execution_count": null,
   "id": "a63dcd09-2406-4f85-bd32-f8a9f450a6c6",
   "metadata": {},
   "outputs": [],
   "source": [
    "categorical = [col for col in X_train.columns if X_train[col].dtype == \"O\"]"
   ]
  },
  {
   "cell_type": "code",
   "execution_count": null,
   "id": "4b110cf2-36dd-422a-9450-56f7d9118c95",
   "metadata": {},
   "outputs": [],
   "source": [
    "X_train[categorical]"
   ]
  },
  {
   "cell_type": "code",
   "execution_count": null,
   "id": "8007a15f-f090-4eae-bbd7-29fd55939ccd",
   "metadata": {},
   "outputs": [],
   "source": [
    "X_train[categorical].isnull().sum()"
   ]
  },
  {
   "cell_type": "code",
   "execution_count": null,
   "id": "7aa863da-74ef-4678-a612-2ed0d5d1d4e9",
   "metadata": {},
   "outputs": [],
   "source": [
    "X_test[categorical].isnull().sum()"
   ]
  },
  {
   "cell_type": "code",
   "execution_count": null,
   "id": "addb5401-690a-4aa3-80ab-e48b1c3f6486",
   "metadata": {},
   "outputs": [],
   "source": [
    "for i in [X_train, X_test]: \n",
    "    i[\"workclass\"] = i[\"workclass\"].fillna(X_train[\"workclass\"].mode()[0])\n",
    "    i[\"occupation\"] = i[\"occupation\"].fillna(X_train[\"occupation\"].mode()[0])\n",
    "    i[\"native_country\"] = i[\"native_country\"].fillna(X_train[\"native_country\"].mode()[0])"
   ]
  },
  {
   "cell_type": "code",
   "execution_count": null,
   "id": "49708381-84e6-49f9-b7eb-1775840609f2",
   "metadata": {},
   "outputs": [],
   "source": [
    "X_train[categorical].isnull().sum()"
   ]
  },
  {
   "cell_type": "code",
   "execution_count": null,
   "id": "ceb46491-439c-4f5f-a686-eb4b124122f1",
   "metadata": {},
   "outputs": [],
   "source": [
    "X_test[categorical].isnull().sum()"
   ]
  },
  {
   "cell_type": "code",
   "execution_count": null,
   "id": "d7679749-c282-4a64-a187-4cd2edafee58",
   "metadata": {},
   "outputs": [],
   "source": [
    "# encoding"
   ]
  },
  {
   "cell_type": "code",
   "execution_count": null,
   "id": "28bda9d5-f8a9-4e79-9163-5730b6ecf2aa",
   "metadata": {},
   "outputs": [],
   "source": [
    "X_train[categorical].head()"
   ]
  },
  {
   "cell_type": "code",
   "execution_count": null,
   "id": "d4ee508b-ddaf-4430-96c7-819a9497b920",
   "metadata": {},
   "outputs": [],
   "source": [
    "df[categorical].nunique()"
   ]
  },
  {
   "cell_type": "code",
   "execution_count": null,
   "id": "e8d6292b-ddcd-4da6-b549-787df9e17dc3",
   "metadata": {},
   "outputs": [],
   "source": [
    "y_train_binary = y_train.apply(lambda x: 1 if x.strip() == \">50K\" else 0)"
   ]
  },
  {
   "cell_type": "code",
   "execution_count": null,
   "id": "a4c461b8-9804-4ffa-808e-a1f64428ef2c",
   "metadata": {},
   "outputs": [],
   "source": [
    "target_means = y_train_binary.groupby(X_train[\"native_country\"]).mean()"
   ]
  },
  {
   "cell_type": "code",
   "execution_count": null,
   "id": "5e7c5574-e768-4aaa-ad64-ea7550a62e74",
   "metadata": {},
   "outputs": [],
   "source": [
    "X_train[\"native_country_encoded\"] = X_train[\"native_country\"].map(target_means)\n",
    "X_train[\"native_country_encoded\"] = X_train[\"native_country_encoded\"].fillna(y_train_binary.mean())\n",
    "\n",
    "X_test[\"native_country_encoded\"] = X_test[\"native_country\"].map(target_means)\n",
    "X_test[\"native_country_encoded\"] = X_test[\"native_country_encoded\"].fillna(y_train_binary.mean())"
   ]
  },
  {
   "cell_type": "code",
   "execution_count": null,
   "id": "ca2c9647-49d1-473d-ad2b-f1fa44d5cd9c",
   "metadata": {},
   "outputs": [],
   "source": [
    "X_train.head()"
   ]
  },
  {
   "cell_type": "code",
   "execution_count": null,
   "id": "10e7882e-3b45-4410-8687-9df5533e0623",
   "metadata": {},
   "outputs": [],
   "source": [
    "X_train.drop(\"native_country\", axis = 1, inplace = True)\n",
    "X_test.drop(\"native_country\", axis = 1, inplace = True)"
   ]
  },
  {
   "cell_type": "code",
   "execution_count": null,
   "id": "e204e72b-b920-4afb-9598-2c923d8124f8",
   "metadata": {},
   "outputs": [],
   "source": [
    "categorical"
   ]
  },
  {
   "cell_type": "code",
   "execution_count": null,
   "id": "1bc995d3-bd8a-4931-9bf9-a6fc4ee44a58",
   "metadata": {},
   "outputs": [],
   "source": [
    "one_hot_categories = ['workclass',\n",
    " 'education',\n",
    " 'marital_status',\n",
    " 'occupation',\n",
    " 'relationship',\n",
    " 'race',\n",
    " 'sex']"
   ]
  },
  {
   "cell_type": "code",
   "execution_count": null,
   "id": "4f0ab0cd-2819-46bb-aee4-2ca5c5cbd9ab",
   "metadata": {},
   "outputs": [],
   "source": [
    "from sklearn.preprocessing import OneHotEncoder\n",
    "from sklearn.compose import ColumnTransformer "
   ]
  },
  {
   "cell_type": "code",
   "execution_count": null,
   "id": "ad5f6785-86d7-4627-a11c-78bcbd492644",
   "metadata": {},
   "outputs": [],
   "source": [
    "encoder = ColumnTransformer(\n",
    "    transformers = [\n",
    "        (\"cat\", OneHotEncoder(handle_unknown=\"ignore\", sparse_output=False), one_hot_categories)\n",
    "    ], remainder = \"passthrough\"\n",
    ")"
   ]
  },
  {
   "cell_type": "code",
   "execution_count": null,
   "id": "b5db5de4-5c39-4002-8553-5e370404ce4d",
   "metadata": {},
   "outputs": [],
   "source": [
    "X_train_enc = encoder.fit_transform(X_train)\n",
    "X_test_enc = encoder.transform(X_test)"
   ]
  },
  {
   "cell_type": "code",
   "execution_count": null,
   "id": "c8b068da-89d4-40bb-b8d2-223437eb2490",
   "metadata": {},
   "outputs": [],
   "source": [
    "columns = encoder.get_feature_names_out()"
   ]
  },
  {
   "cell_type": "code",
   "execution_count": null,
   "id": "ec086687-c691-403b-9b2a-bcec69bf668c",
   "metadata": {},
   "outputs": [],
   "source": [
    "columns"
   ]
  },
  {
   "cell_type": "code",
   "execution_count": null,
   "id": "de673d58-104c-4225-87f8-6296dd2a19f9",
   "metadata": {},
   "outputs": [],
   "source": [
    "X_train = pd.DataFrame(X_train_enc, columns = columns, index = X_train.index)\n",
    "X_test = pd.DataFrame(X_test_enc, columns = columns, index = X_test.index)"
   ]
  },
  {
   "cell_type": "code",
   "execution_count": null,
   "id": "db420ab3-cdf4-4e11-927a-2d39e1372705",
   "metadata": {},
   "outputs": [],
   "source": [
    "X_train"
   ]
  },
  {
   "cell_type": "code",
   "execution_count": null,
   "id": "9de14c2b-979e-4530-9fe4-73017c3e2f67",
   "metadata": {},
   "outputs": [],
   "source": [
    "cols = X_train.columns"
   ]
  },
  {
   "cell_type": "code",
   "execution_count": null,
   "id": "d6a1d632-2b64-4888-b608-7d309eec4207",
   "metadata": {},
   "outputs": [],
   "source": [
    "from sklearn.preprocessing import RobustScaler \n",
    "scaler = RobustScaler()"
   ]
  },
  {
   "cell_type": "code",
   "execution_count": null,
   "id": "4d980cf5-e398-475d-982a-18a01eec9c78",
   "metadata": {},
   "outputs": [],
   "source": [
    "X_train = scaler.fit_transform(X_train)\n",
    "X_test = scaler.transform(X_test)"
   ]
  },
  {
   "cell_type": "code",
   "execution_count": null,
   "id": "c9474974-f020-41ca-b2c0-dccf683773e3",
   "metadata": {},
   "outputs": [],
   "source": [
    "X_train = pd.DataFrame(X_train, columns = cols)\n",
    "X_test = pd.DataFrame(X_test, columns = cols)"
   ]
  },
  {
   "cell_type": "code",
   "execution_count": null,
   "id": "d7b99ace-8a16-4e68-8902-7bd80cbad691",
   "metadata": {},
   "outputs": [],
   "source": [
    "# training "
   ]
  },
  {
   "cell_type": "code",
   "execution_count": null,
   "id": "795d4fac-29a3-4821-a562-971144e0ea33",
   "metadata": {},
   "outputs": [],
   "source": [
    "from sklearn.ensemble import RandomForestClassifier "
   ]
  },
  {
   "cell_type": "code",
   "execution_count": null,
   "id": "1510c7fb-bc10-44ce-b7fd-48c0b8cf93ca",
   "metadata": {},
   "outputs": [],
   "source": [
    "rfc = RandomForestClassifier(n_estimators=10, random_state=15)\n",
    "rfc.fit(X_train, y_train)"
   ]
  },
  {
   "cell_type": "code",
   "execution_count": null,
   "id": "331c8408-e064-4852-b904-380287f1e938",
   "metadata": {},
   "outputs": [],
   "source": [
    "y_pred = rfc.predict(X_test)"
   ]
  },
  {
   "cell_type": "code",
   "execution_count": null,
   "id": "4ccaf74c-7450-435d-95de-ac798ec75a05",
   "metadata": {},
   "outputs": [],
   "source": [
    "from sklearn.metrics import accuracy_score, classification_report, confusion_matrix \n",
    "print(accuracy_score(y_test, y_pred))\n",
    "print(confusion_matrix(y_test, y_pred))\n",
    "print(classification_report(y_test, y_pred))"
   ]
  },
  {
   "cell_type": "code",
   "execution_count": null,
   "id": "9f5573c0-e55c-40f8-a4d7-78c1e48fdd9a",
   "metadata": {},
   "outputs": [],
   "source": [
    "rfc = RandomForestClassifier(n_estimators=100, random_state=15)\n",
    "rfc.fit(X_train, y_train)\n",
    "y_pred = rfc.predict(X_test)\n",
    "from sklearn.metrics import accuracy_score, classification_report, confusion_matrix \n",
    "print(accuracy_score(y_test, y_pred))\n",
    "print(confusion_matrix(y_test, y_pred))\n",
    "print(classification_report(y_test, y_pred))"
   ]
  },
  {
   "cell_type": "code",
   "execution_count": null,
   "id": "19921a9a-0db8-4265-b24b-ef410844b384",
   "metadata": {},
   "outputs": [],
   "source": [
    "feature_scores =pd.Series(rfc.feature_importances_, index = X_train.columns).sort_values(ascending=False)"
   ]
  },
  {
   "cell_type": "code",
   "execution_count": null,
   "id": "0e2069bd-8f26-4bea-b288-8d96262c12c7",
   "metadata": {},
   "outputs": [],
   "source": [
    "feature_scores"
   ]
  },
  {
   "cell_type": "code",
   "execution_count": null,
   "id": "6d45c493-c661-40d7-9586-cce71bcb83a4",
   "metadata": {},
   "outputs": [],
   "source": [
    "feature_scores.tail(10)"
   ]
  },
  {
   "cell_type": "code",
   "execution_count": null,
   "id": "860b08a4-7ebd-4ba9-a754-e9872d7e6d03",
   "metadata": {},
   "outputs": [],
   "source": [
    "X_train = X_train.drop([\"cat__education_ 12th\", \"cat__race_ Other\", \"cat__education_ 5th-6th\", \"cat__education_ 1st-4th\", \"cat__marital_status_ Married-AF-spouse\", \"cat__occupation_ Priv-house-serv\",\n",
    "                        \"cat__workclass_ Without-pay\", \"cat__education_ Preschool\", \"cat__occupation_ Armed-Forces\", \"cat__workclass_ Never-worked\"], axis = 1)"
   ]
  },
  {
   "cell_type": "code",
   "execution_count": null,
   "id": "e384970e-d133-4279-97c9-985fcc3d9aa2",
   "metadata": {},
   "outputs": [],
   "source": [
    "X_train.head()"
   ]
  },
  {
   "cell_type": "code",
   "execution_count": null,
   "id": "dfddf18f-9969-40fb-bd5b-3c3fc5f33b26",
   "metadata": {},
   "outputs": [],
   "source": [
    "X_test = X_test.drop([\"cat__education_ 12th\", \"cat__race_ Other\", \"cat__education_ 5th-6th\", \"cat__education_ 1st-4th\", \"cat__marital_status_ Married-AF-spouse\", \"cat__occupation_ Priv-house-serv\",\n",
    "                        \"cat__workclass_ Without-pay\", \"cat__education_ Preschool\", \"cat__occupation_ Armed-Forces\", \"cat__workclass_ Never-worked\"], axis = 1)"
   ]
  },
  {
   "cell_type": "code",
   "execution_count": null,
   "id": "d3b1c6a1-5cb1-477e-8ba8-d41e1e190eaa",
   "metadata": {},
   "outputs": [],
   "source": [
    "rfc = RandomForestClassifier(n_estimators=100, random_state=15)\n",
    "rfc.fit(X_train, y_train)\n",
    "y_pred = rfc.predict(X_test)\n",
    "from sklearn.metrics import accuracy_score, classification_report, confusion_matrix \n",
    "print(accuracy_score(y_test, y_pred))\n",
    "print(confusion_matrix(y_test, y_pred))\n",
    "print(classification_report(y_test, y_pred))"
   ]
  },
  {
   "cell_type": "code",
   "execution_count": null,
   "id": "47600c28-5cd1-434b-82c1-e48949c8d60e",
   "metadata": {},
   "outputs": [],
   "source": [
    "# hyperparameter tuning "
   ]
  },
  {
   "cell_type": "code",
   "execution_count": null,
   "id": "efa7d5b9-2d44-4157-a866-88427a12bfec",
   "metadata": {},
   "outputs": [],
   "source": [
    "rfc_params = {\n",
    "    \"n_estimators\": [100, 200, 500, 1000],\n",
    "    \"max_depth\": [5,8,10,15, None], \n",
    "    \"max_features\": [\"sqrt\", \"log2\", 5,6,7,8],\n",
    "    \"min_samples_split\": [2,8,15,20]\n",
    "}"
   ]
  },
  {
   "cell_type": "code",
   "execution_count": null,
   "id": "23ebfee0-a0b6-46bd-ba38-f41fca98454f",
   "metadata": {},
   "outputs": [],
   "source": [
    "from sklearn.model_selection import RandomizedSearchCV \n",
    "rfc = RandomForestClassifier()"
   ]
  },
  {
   "cell_type": "code",
   "execution_count": null,
   "id": "95b5021c-2aac-4092-b44f-9de815a37288",
   "metadata": {},
   "outputs": [],
   "source": [
    "rscv = RandomizedSearchCV(estimator=rfc, param_distributions=rfc_params, cv = 3, n_jobs = -1)\n",
    "rscv.fit(X_train, y_train)"
   ]
  },
  {
   "cell_type": "code",
   "execution_count": null,
   "id": "af266f28-85cd-4774-963f-913222ed7b3a",
   "metadata": {},
   "outputs": [],
   "source": [
    "y_pred = rscv.predict(X_test)\n",
    "from sklearn.metrics import accuracy_score, classification_report, confusion_matrix \n",
    "print(accuracy_score(y_test, y_pred))\n",
    "print(confusion_matrix(y_test, y_pred))\n",
    "print(classification_report(y_test, y_pred))"
   ]
  },
  {
   "cell_type": "code",
   "execution_count": null,
   "id": "1af19243-89f4-415d-91f6-e16a0f1b5608",
   "metadata": {},
   "outputs": [],
   "source": [
    "rscv.best_params_"
   ]
  },
  {
   "cell_type": "code",
   "execution_count": null,
   "id": "5977444c-63da-4f56-90b1-054c6606d8a1",
   "metadata": {},
   "outputs": [],
   "source": []
  }
 ],
 "metadata": {
  "kernelspec": {
   "display_name": "Python 3 (ipykernel)",
   "language": "python",
   "name": "python3"
  },
  "language_info": {
   "codemirror_mode": {
    "name": "ipython",
    "version": 3
   },
   "file_extension": ".py",
   "mimetype": "text/x-python",
   "name": "python",
   "nbconvert_exporter": "python",
   "pygments_lexer": "ipython3",
   "version": "3.13.5"
  }
 },
 "nbformat": 4,
 "nbformat_minor": 5
}
