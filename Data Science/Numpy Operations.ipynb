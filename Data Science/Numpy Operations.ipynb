{
 "cells": [
  {
   "cell_type": "code",
   "execution_count": 1,
   "id": "d2731529-b211-46dc-9167-5b4e527c4df3",
   "metadata": {},
   "outputs": [],
   "source": [
    "import numpy as np "
   ]
  },
  {
   "cell_type": "code",
   "execution_count": 2,
   "id": "6c051b95-5026-4fd8-8b90-582dd6b067a9",
   "metadata": {},
   "outputs": [],
   "source": [
    "new_array = np.random.randint(1,100,20)"
   ]
  },
  {
   "cell_type": "code",
   "execution_count": 3,
   "id": "d076b3fd-281f-4006-9a29-831e70e02e1b",
   "metadata": {},
   "outputs": [
    {
     "data": {
      "text/plain": [
       "array([89, 89, 78, 21, 82, 28,  1,  8, 85, 32,  7, 14, 91, 32, 32, 59, 81,\n",
       "       65, 61,  4])"
      ]
     },
     "execution_count": 3,
     "metadata": {},
     "output_type": "execute_result"
    }
   ],
   "source": [
    "new_array"
   ]
  },
  {
   "cell_type": "code",
   "execution_count": 4,
   "id": "0649297e-b440-4c46-b39b-2355f91a63a4",
   "metadata": {},
   "outputs": [
    {
     "data": {
      "text/plain": [
       "array([ True,  True,  True, False,  True,  True, False, False,  True,\n",
       "        True, False, False,  True,  True,  True,  True,  True,  True,\n",
       "        True, False])"
      ]
     },
     "execution_count": 4,
     "metadata": {},
     "output_type": "execute_result"
    }
   ],
   "source": [
    "new_array > 25 "
   ]
  },
  {
   "cell_type": "code",
   "execution_count": 5,
   "id": "3139ee7f-78b7-4056-924e-f28685311e4d",
   "metadata": {},
   "outputs": [
    {
     "data": {
      "text/plain": [
       "array([89, 89, 78, 21, 82, 28,  8, 85, 32,  7, 14, 91, 32, 32, 59, 81, 65,\n",
       "       61,  4])"
      ]
     },
     "execution_count": 5,
     "metadata": {},
     "output_type": "execute_result"
    }
   ],
   "source": [
    "new_array[new_array>2]"
   ]
  },
  {
   "cell_type": "code",
   "execution_count": 6,
   "id": "339c4c87-5929-4852-8b02-8f3c82ddd231",
   "metadata": {},
   "outputs": [
    {
     "data": {
      "text/plain": [
       "array([89, 89, 78, 82, 28, 85, 32, 91, 32, 32, 59, 81, 65, 61])"
      ]
     },
     "execution_count": 6,
     "metadata": {},
     "output_type": "execute_result"
    }
   ],
   "source": [
    "new_array[new_array>25]"
   ]
  },
  {
   "cell_type": "code",
   "execution_count": 7,
   "id": "a29b9837-1a41-4b3f-b002-d2031fc54811",
   "metadata": {},
   "outputs": [],
   "source": [
    "matrix_array = np.array([[10,20], [20,30], [30,40]]) "
   ]
  },
  {
   "cell_type": "code",
   "execution_count": 8,
   "id": "f36044dd-7d46-4ca2-9e5d-8ac60f083d12",
   "metadata": {},
   "outputs": [
    {
     "data": {
      "text/plain": [
       "array([[10, 20],\n",
       "       [20, 30],\n",
       "       [30, 40]])"
      ]
     },
     "execution_count": 8,
     "metadata": {},
     "output_type": "execute_result"
    }
   ],
   "source": [
    "matrix_array"
   ]
  },
  {
   "cell_type": "code",
   "execution_count": 9,
   "id": "129fdac2-460e-4423-8851-4a97ebd14b6e",
   "metadata": {},
   "outputs": [
    {
     "data": {
      "text/plain": [
       "array([[10, 20, 30],\n",
       "       [20, 30, 40]])"
      ]
     },
     "execution_count": 9,
     "metadata": {},
     "output_type": "execute_result"
    }
   ],
   "source": [
    "matrix_array.transpose()"
   ]
  },
  {
   "cell_type": "code",
   "execution_count": 10,
   "id": "70d8e9e1-390d-4231-abfd-ecf841576b0c",
   "metadata": {},
   "outputs": [
    {
     "data": {
      "text/plain": [
       "array([[10, 20, 30],\n",
       "       [20, 30, 40]])"
      ]
     },
     "execution_count": 10,
     "metadata": {},
     "output_type": "execute_result"
    }
   ],
   "source": [
    "matrix_array.T"
   ]
  },
  {
   "cell_type": "code",
   "execution_count": 11,
   "id": "6a45a882-171b-44f3-a762-8a5d1f2bb6a0",
   "metadata": {},
   "outputs": [],
   "source": [
    "random_array = np.random.random((6,1))"
   ]
  },
  {
   "cell_type": "code",
   "execution_count": 12,
   "id": "315db945-3a21-4e85-a88e-538d2df00784",
   "metadata": {},
   "outputs": [
    {
     "data": {
      "text/plain": [
       "array([[0.54550548],\n",
       "       [0.3153564 ],\n",
       "       [0.41788221],\n",
       "       [0.4969521 ],\n",
       "       [0.0851708 ],\n",
       "       [0.41817108]])"
      ]
     },
     "execution_count": 12,
     "metadata": {},
     "output_type": "execute_result"
    }
   ],
   "source": [
    "random_array"
   ]
  },
  {
   "cell_type": "code",
   "execution_count": 13,
   "id": "bea0702d-44f4-4eef-84b6-b79b575c631c",
   "metadata": {},
   "outputs": [
    {
     "data": {
      "text/plain": [
       "array([[0.54550548, 0.3153564 , 0.41788221],\n",
       "       [0.4969521 , 0.0851708 , 0.41817108]])"
      ]
     },
     "execution_count": 13,
     "metadata": {},
     "output_type": "execute_result"
    }
   ],
   "source": [
    "random_array.reshape(2,3)"
   ]
  },
  {
   "cell_type": "code",
   "execution_count": 14,
   "id": "a813fd92-c704-490c-bb91-2f02a033efea",
   "metadata": {},
   "outputs": [
    {
     "data": {
      "text/plain": [
       "array([[0.54550548, 0.3153564 ],\n",
       "       [0.41788221, 0.4969521 ],\n",
       "       [0.0851708 , 0.41817108]])"
      ]
     },
     "execution_count": 14,
     "metadata": {},
     "output_type": "execute_result"
    }
   ],
   "source": [
    "random_array.reshape(3,2)"
   ]
  },
  {
   "cell_type": "code",
   "execution_count": 15,
   "id": "99e7e29e-aec9-4181-886c-1e59587efb34",
   "metadata": {},
   "outputs": [],
   "source": [
    "# z-score"
   ]
  },
  {
   "cell_type": "code",
   "execution_count": 16,
   "id": "e42ebbcb-5766-436a-abc4-00ed7577b3c9",
   "metadata": {},
   "outputs": [],
   "source": [
    "data = np.array([10,12,13,15,18,25,100,105])"
   ]
  },
  {
   "cell_type": "code",
   "execution_count": 17,
   "id": "f521f1c3-01a5-46ac-b2ad-0522d54c7f3c",
   "metadata": {},
   "outputs": [],
   "source": [
    "#outlier"
   ]
  },
  {
   "cell_type": "code",
   "execution_count": 18,
   "id": "587c2f3b-91a6-476b-b185-867d39a0a150",
   "metadata": {},
   "outputs": [],
   "source": [
    "mean = np.mean(data)"
   ]
  },
  {
   "cell_type": "code",
   "execution_count": 19,
   "id": "5d0ef297-7b7e-4064-abdd-0fc56eecd6b2",
   "metadata": {},
   "outputs": [
    {
     "data": {
      "text/plain": [
       "np.float64(37.25)"
      ]
     },
     "execution_count": 19,
     "metadata": {},
     "output_type": "execute_result"
    }
   ],
   "source": [
    "mean"
   ]
  },
  {
   "cell_type": "code",
   "execution_count": 20,
   "id": "b361ba68-9a40-456d-ac56-17546a2dadb6",
   "metadata": {},
   "outputs": [],
   "source": [
    "std = np.std(data)"
   ]
  },
  {
   "cell_type": "code",
   "execution_count": 21,
   "id": "02abbe3d-7a2b-45e2-9cc9-2794bd5c42dc",
   "metadata": {},
   "outputs": [
    {
     "data": {
      "text/plain": [
       "np.float64(37.9333296719389)"
      ]
     },
     "execution_count": 21,
     "metadata": {},
     "output_type": "execute_result"
    }
   ],
   "source": [
    "std"
   ]
  },
  {
   "cell_type": "code",
   "execution_count": 22,
   "id": "96e2ba32-833f-4b72-bd12-9c3bf85954c8",
   "metadata": {},
   "outputs": [],
   "source": [
    "z_scores = (data - mean) / std"
   ]
  },
  {
   "cell_type": "code",
   "execution_count": 23,
   "id": "582cc3cb-7e1e-49df-993e-c1d3ec21339e",
   "metadata": {},
   "outputs": [
    {
     "data": {
      "text/plain": [
       "array([-0.71836562, -0.66564154, -0.6392795 , -0.58655542, -0.50746929,\n",
       "       -0.322935  ,  1.65421809,  1.78602829])"
      ]
     },
     "execution_count": 23,
     "metadata": {},
     "output_type": "execute_result"
    }
   ],
   "source": [
    "z_scores"
   ]
  },
  {
   "cell_type": "code",
   "execution_count": 24,
   "id": "3b8f9cd1-ab89-409c-ab52-bd96901f162f",
   "metadata": {},
   "outputs": [
    {
     "data": {
      "text/plain": [
       "array([100, 105])"
      ]
     },
     "execution_count": 24,
     "metadata": {},
     "output_type": "execute_result"
    }
   ],
   "source": [
    "data[z_scores>1]"
   ]
  },
  {
   "cell_type": "code",
   "execution_count": 25,
   "id": "51a77712-9600-48ac-8915-9039975ba6d0",
   "metadata": {},
   "outputs": [],
   "source": [
    "# math equations"
   ]
  },
  {
   "cell_type": "code",
   "execution_count": 26,
   "id": "cec800fb-3156-4301-9635-50e73f6e3c91",
   "metadata": {},
   "outputs": [],
   "source": [
    "#coefficients"
   ]
  },
  {
   "cell_type": "code",
   "execution_count": 27,
   "id": "e638387e-9147-45aa-a6f1-9b92edc3b62a",
   "metadata": {},
   "outputs": [],
   "source": [
    "A = np.array([[2,3], [5,7]])"
   ]
  },
  {
   "cell_type": "code",
   "execution_count": 28,
   "id": "08384583-47f1-477a-8372-6990162475e0",
   "metadata": {},
   "outputs": [],
   "source": [
    "#constants"
   ]
  },
  {
   "cell_type": "code",
   "execution_count": 31,
   "id": "2e801ebd-614f-4a08-a8d2-ad4fbb110ea7",
   "metadata": {},
   "outputs": [],
   "source": [
    "b = np.array([8,19])"
   ]
  },
  {
   "cell_type": "code",
   "execution_count": 32,
   "id": "b74c4840-a598-475b-aa92-0a0e976a8d05",
   "metadata": {},
   "outputs": [],
   "source": [
    "solution = np.linalg.solve(A,b)"
   ]
  },
  {
   "cell_type": "code",
   "execution_count": 33,
   "id": "7d10c40f-99f9-4488-b6d3-eefd18fd7ed3",
   "metadata": {},
   "outputs": [
    {
     "data": {
      "text/plain": [
       "array([1., 2.])"
      ]
     },
     "execution_count": 33,
     "metadata": {},
     "output_type": "execute_result"
    }
   ],
   "source": [
    "solution"
   ]
  },
  {
   "cell_type": "code",
   "execution_count": null,
   "id": "631a8e9e-74d3-414a-91ea-764c03e5afe8",
   "metadata": {},
   "outputs": [],
   "source": []
  }
 ],
 "metadata": {
  "kernelspec": {
   "display_name": "Python 3 (ipykernel)",
   "language": "python",
   "name": "python3"
  },
  "language_info": {
   "codemirror_mode": {
    "name": "ipython",
    "version": 3
   },
   "file_extension": ".py",
   "mimetype": "text/x-python",
   "name": "python",
   "nbconvert_exporter": "python",
   "pygments_lexer": "ipython3",
   "version": "3.13.5"
  }
 },
 "nbformat": 4,
 "nbformat_minor": 5
}
