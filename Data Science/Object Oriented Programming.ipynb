{
 "cells": [
  {
   "cell_type": "code",
   "execution_count": 48,
   "id": "d97256a9-349f-47de-b9e3-c99059da4197",
   "metadata": {},
   "outputs": [],
   "source": [
    "class Person(): \n",
    "    #property\n",
    "    #name = \"\" \n",
    "    #age = 0\n",
    "    #gender = \"\"\n",
    "    job = \"developer\"\n",
    "\n",
    "    #initializer method\n",
    "    def __init__(self,name,age,gender):\n",
    "        self.name = name\n",
    "        self.age = age\n",
    "        self.gender = gender\n",
    "    def printName(self): \n",
    "        print(self.name)"
   ]
  },
  {
   "cell_type": "code",
   "execution_count": 49,
   "id": "8e0ddd66-e89c-45d1-ab24-fa2d4e1137c6",
   "metadata": {},
   "outputs": [],
   "source": [
    "batu = Person(\"Atil\", 35, \"Male\")"
   ]
  },
  {
   "cell_type": "code",
   "execution_count": 50,
   "id": "0118bd0b-77ef-4bcc-8ee5-a0f13cec363b",
   "metadata": {},
   "outputs": [
    {
     "data": {
      "text/plain": [
       "'Atil'"
      ]
     },
     "execution_count": 50,
     "metadata": {},
     "output_type": "execute_result"
    }
   ],
   "source": [
    "batu.name"
   ]
  },
  {
   "cell_type": "code",
   "execution_count": 51,
   "id": "d8c4791f-b979-469f-8e39-e7a2f886007a",
   "metadata": {},
   "outputs": [
    {
     "name": "stdout",
     "output_type": "stream",
     "text": [
      "Atil\n"
     ]
    }
   ],
   "source": [
    "batu.printName()"
   ]
  },
  {
   "cell_type": "code",
   "execution_count": 52,
   "id": "224887b7-fd94-4804-9e30-3722f75bc0e9",
   "metadata": {},
   "outputs": [
    {
     "data": {
      "text/plain": [
       "'developer'"
      ]
     },
     "execution_count": 52,
     "metadata": {},
     "output_type": "execute_result"
    }
   ],
   "source": [
    "batu.job"
   ]
  },
  {
   "cell_type": "code",
   "execution_count": 75,
   "id": "26b7040e-841e-4a45-bc9e-f4cee6569c4f",
   "metadata": {},
   "outputs": [],
   "source": [
    "class Dog(): \n",
    "\n",
    "    year = 7\n",
    "    \n",
    "    def __init__(self, age = 5):\n",
    "        self.age = age\n",
    "        self.dogHumanAge = age * self.year\n",
    "        print(\"dog instance\")\n",
    "        \n",
    "    def humanAge(self): \n",
    "        return self.age * Dog.year #Dog.year -> self.year"
   ]
  },
  {
   "cell_type": "code",
   "execution_count": 70,
   "id": "819de148-b90a-48bf-89e9-d041e990af9f",
   "metadata": {},
   "outputs": [
    {
     "name": "stdout",
     "output_type": "stream",
     "text": [
      "dog instance\n"
     ]
    }
   ],
   "source": [
    "myDog = Dog(3)"
   ]
  },
  {
   "cell_type": "code",
   "execution_count": 71,
   "id": "932dda5a-5781-43c2-893d-4c954717bb30",
   "metadata": {},
   "outputs": [
    {
     "data": {
      "text/plain": [
       "3"
      ]
     },
     "execution_count": 71,
     "metadata": {},
     "output_type": "execute_result"
    }
   ],
   "source": [
    "myDog.age"
   ]
  },
  {
   "cell_type": "code",
   "execution_count": 72,
   "id": "c90c414d-0c7a-4c42-9533-7fbe76ca7a2b",
   "metadata": {},
   "outputs": [
    {
     "data": {
      "text/plain": [
       "21"
      ]
     },
     "execution_count": 72,
     "metadata": {},
     "output_type": "execute_result"
    }
   ],
   "source": [
    "myDog.humanAge()"
   ]
  },
  {
   "cell_type": "code",
   "execution_count": 73,
   "id": "13b9908b-965d-4222-b94e-3c43bb38ea01",
   "metadata": {},
   "outputs": [
    {
     "data": {
      "text/plain": [
       "21"
      ]
     },
     "execution_count": 73,
     "metadata": {},
     "output_type": "execute_result"
    }
   ],
   "source": [
    "myDog.dogHumanAge"
   ]
  },
  {
   "cell_type": "code",
   "execution_count": 79,
   "id": "c3d6a1cc-c8aa-4035-b61f-a7d2840579b0",
   "metadata": {},
   "outputs": [
    {
     "name": "stdout",
     "output_type": "stream",
     "text": [
      "dog instance\n"
     ]
    }
   ],
   "source": [
    "barley = Dog()"
   ]
  },
  {
   "cell_type": "code",
   "execution_count": 80,
   "id": "50026201-f9d4-49a7-9a9a-3f254eaef8d2",
   "metadata": {},
   "outputs": [
    {
     "data": {
      "text/plain": [
       "5"
      ]
     },
     "execution_count": 80,
     "metadata": {},
     "output_type": "execute_result"
    }
   ],
   "source": [
    "barley.age"
   ]
  },
  {
   "cell_type": "code",
   "execution_count": 82,
   "id": "400b3f29-9345-4fee-84cc-13bb4953fd5c",
   "metadata": {},
   "outputs": [],
   "source": [
    "class Musician():\n",
    "\n",
    "    def __init__(self, name): \n",
    "        self.name = name\n",
    "        print(\"musician class\")\n",
    "\n",
    "    def test1(self): \n",
    "        print(\"test1\")\n",
    "    def test2(self): \n",
    "        print(\"test2\") "
   ]
  },
  {
   "cell_type": "code",
   "execution_count": 98,
   "id": "dabde2b3-e745-426e-a7e1-338f5ced35ff",
   "metadata": {},
   "outputs": [],
   "source": [
    "class MusicianPlus(Musician):\n",
    "\n",
    "    def __init__(self, name): \n",
    "        Musician.__init__(self, name)\n",
    "        print(\"musician plus\")\n",
    "    def test3(self): \n",
    "        print(\"test3\")\n",
    "    \n",
    "    def test1(self): \n",
    "        print(\"test1 test1 test1\")"
   ]
  },
  {
   "cell_type": "code",
   "execution_count": 95,
   "id": "9baaf5cc-209e-4d61-a024-552e8fee7e25",
   "metadata": {},
   "outputs": [
    {
     "name": "stdout",
     "output_type": "stream",
     "text": [
      "musician class\n",
      "musician plus\n"
     ]
    }
   ],
   "source": [
    "atlas = MusicianPlus(\"Atlas\")"
   ]
  },
  {
   "cell_type": "code",
   "execution_count": 99,
   "id": "d0113d2a-8897-491e-8159-1742a1061e13",
   "metadata": {},
   "outputs": [
    {
     "name": "stdout",
     "output_type": "stream",
     "text": [
      "test1 test1 test1\n"
     ]
    }
   ],
   "source": [
    "atlas.test1()"
   ]
  },
  {
   "cell_type": "code",
   "execution_count": 101,
   "id": "edafb890-179f-4824-a04e-faad8c485094",
   "metadata": {},
   "outputs": [],
   "source": [
    "class Banana(): \n",
    "\n",
    "    def __init__(self, name): \n",
    "        self.name = name \n",
    "    def info(self):\n",
    "        return f\"100 calories {self.name}\"\n",
    "        \n",
    "class Apple(): \n",
    "\n",
    "    def __init__(self, name): \n",
    "        self.name = name \n",
    "    def info(self):\n",
    "        return f\"150 calories {self.name}\""
   ]
  },
  {
   "cell_type": "code",
   "execution_count": 102,
   "id": "2f20ba2e-9562-482c-a038-6141df9c5110",
   "metadata": {},
   "outputs": [],
   "source": [
    "banana = Banana(\"banana\")"
   ]
  },
  {
   "cell_type": "code",
   "execution_count": 103,
   "id": "2fa27160-6b82-466f-991d-7a41ad19c1b8",
   "metadata": {},
   "outputs": [],
   "source": [
    "apple = Apple(\"apple\")"
   ]
  },
  {
   "cell_type": "code",
   "execution_count": 104,
   "id": "a5d41d44-5269-4fe3-a90d-fa6bd8d0c71b",
   "metadata": {},
   "outputs": [
    {
     "data": {
      "text/plain": [
       "'100 calories banana'"
      ]
     },
     "execution_count": 104,
     "metadata": {},
     "output_type": "execute_result"
    }
   ],
   "source": [
    "banana.info()"
   ]
  },
  {
   "cell_type": "code",
   "execution_count": 105,
   "id": "1a9ab80d-d224-41fd-9ce7-c9858ead40a0",
   "metadata": {},
   "outputs": [
    {
     "data": {
      "text/plain": [
       "'150 calories apple'"
      ]
     },
     "execution_count": 105,
     "metadata": {},
     "output_type": "execute_result"
    }
   ],
   "source": [
    "apple.info()"
   ]
  },
  {
   "cell_type": "code",
   "execution_count": 106,
   "id": "adfdb7c6-c415-4aff-9a82-04b2057239b0",
   "metadata": {},
   "outputs": [],
   "source": [
    "fruitList = [banana, apple]"
   ]
  },
  {
   "cell_type": "code",
   "execution_count": 107,
   "id": "9f1b95ec-e89d-4b30-ba96-28da0d200c4d",
   "metadata": {},
   "outputs": [
    {
     "name": "stdout",
     "output_type": "stream",
     "text": [
      "100 calories banana\n",
      "150 calories apple\n"
     ]
    }
   ],
   "source": [
    "for fruit in fruitList: \n",
    "    print(fruit.info())"
   ]
  },
  {
   "cell_type": "code",
   "execution_count": 124,
   "id": "7bcc2caf-5227-49be-afb9-9a6a3d2d1fa2",
   "metadata": {},
   "outputs": [],
   "source": [
    "class Phone(): \n",
    "\n",
    "    def __init__(self, name, price): \n",
    "        self.name = name \n",
    "        self.__price = price \n",
    "\n",
    "    def info(self): \n",
    "        print(f\"{self.name} price is: {self.__price}\")\n",
    "\n",
    "    def changePrice(self, price): \n",
    "        self.__price = price"
   ]
  },
  {
   "cell_type": "code",
   "execution_count": 125,
   "id": "5099a0e1-f721-4991-99a9-0efca76c4b86",
   "metadata": {},
   "outputs": [],
   "source": [
    "iphone = Phone(\"iPhone 14\", 500)"
   ]
  },
  {
   "cell_type": "code",
   "execution_count": 126,
   "id": "4a23d40c-021d-45e1-8088-63240fcdb25c",
   "metadata": {},
   "outputs": [
    {
     "name": "stdout",
     "output_type": "stream",
     "text": [
      "iPhone 14 price is: 500\n"
     ]
    }
   ],
   "source": [
    "iphone.info()"
   ]
  },
  {
   "cell_type": "code",
   "execution_count": 127,
   "id": "5a232495-7339-4b2e-9eb5-f2ffeff7f1bb",
   "metadata": {},
   "outputs": [],
   "source": [
    "iphone.__price = 400 "
   ]
  },
  {
   "cell_type": "code",
   "execution_count": 128,
   "id": "93b39f8a-403b-41ad-8dd1-300f29409a76",
   "metadata": {},
   "outputs": [
    {
     "name": "stdout",
     "output_type": "stream",
     "text": [
      "iPhone 14 price is: 500\n"
     ]
    }
   ],
   "source": [
    "iphone.info()"
   ]
  },
  {
   "cell_type": "code",
   "execution_count": 129,
   "id": "e68b083b-f503-4d5b-9f35-200288be3363",
   "metadata": {},
   "outputs": [],
   "source": [
    "iphone.changePrice(300)"
   ]
  },
  {
   "cell_type": "code",
   "execution_count": 130,
   "id": "313a1413-8940-4b5f-8c60-f6f15422868d",
   "metadata": {},
   "outputs": [
    {
     "name": "stdout",
     "output_type": "stream",
     "text": [
      "iPhone 14 price is: 300\n"
     ]
    }
   ],
   "source": [
    "iphone.info()"
   ]
  },
  {
   "cell_type": "code",
   "execution_count": 131,
   "id": "6d2c52dd-a155-4252-9911-a97584ec9cfc",
   "metadata": {},
   "outputs": [],
   "source": [
    "from abc import ABC, abstractmethod"
   ]
  },
  {
   "cell_type": "code",
   "execution_count": 140,
   "id": "fe235631-6e33-4bab-9dda-a24bb215940d",
   "metadata": {},
   "outputs": [],
   "source": [
    "class Car(ABC):\n",
    "\n",
    "    @abstractmethod\n",
    "    def maxSpeed(self): \n",
    "        pass "
   ]
  },
  {
   "cell_type": "code",
   "execution_count": 141,
   "id": "638ad9a5-faf7-4a6c-8a01-b0b2e1c6a842",
   "metadata": {},
   "outputs": [],
   "source": [
    "class Tesla(Car): \n",
    "\n",
    "    def maxSpeed(self): \n",
    "        print(\"200 km\")"
   ]
  },
  {
   "cell_type": "code",
   "execution_count": 142,
   "id": "aa13f682-4a2d-47e0-b37a-bd1496b92ac5",
   "metadata": {},
   "outputs": [],
   "source": [
    "tesla = Tesla()"
   ]
  },
  {
   "cell_type": "code",
   "execution_count": 143,
   "id": "60392df8-3256-4ea1-88fc-2fee50c92e55",
   "metadata": {},
   "outputs": [
    {
     "name": "stdout",
     "output_type": "stream",
     "text": [
      "200 km\n"
     ]
    }
   ],
   "source": [
    "tesla.maxSpeed()"
   ]
  },
  {
   "cell_type": "code",
   "execution_count": 144,
   "id": "bbe983e4-a4d1-446c-bdc4-a56ad0d62696",
   "metadata": {},
   "outputs": [],
   "source": [
    "class Mercedes(Car): \n",
    "\n",
    "    def maxSpeed(self):\n",
    "        print(\"250 km\")"
   ]
  },
  {
   "cell_type": "code",
   "execution_count": 145,
   "id": "b0963b4c-c79e-4cdc-9581-4dbbff418088",
   "metadata": {},
   "outputs": [],
   "source": [
    "mercedes = Mercedes()"
   ]
  },
  {
   "cell_type": "code",
   "execution_count": 147,
   "id": "8a5f6bcf-3449-4f07-b085-87ffddf40d4b",
   "metadata": {},
   "outputs": [
    {
     "name": "stdout",
     "output_type": "stream",
     "text": [
      "250 km\n"
     ]
    }
   ],
   "source": [
    "mercedes.maxSpeed()"
   ]
  },
  {
   "cell_type": "code",
   "execution_count": 148,
   "id": "a266f429-9134-45fd-a91b-7d58abfb1b61",
   "metadata": {},
   "outputs": [
    {
     "name": "stdout",
     "output_type": "stream",
     "text": [
      "Writing myfile.txt\n"
     ]
    }
   ],
   "source": [
    "%%writefile myfile.txt\n",
    "test 1\n",
    "test 2\n",
    "test 3"
   ]
  },
  {
   "cell_type": "code",
   "execution_count": 149,
   "id": "ededafb2-cf7c-4fa4-8594-dac95e5522ee",
   "metadata": {},
   "outputs": [],
   "source": [
    "myFile = open(\"myfile.txt\")"
   ]
  },
  {
   "cell_type": "code",
   "execution_count": 150,
   "id": "a66b9dd0-2dc1-45d2-9bcf-8da0a237d9c8",
   "metadata": {},
   "outputs": [
    {
     "data": {
      "text/plain": [
       "_io.TextIOWrapper"
      ]
     },
     "execution_count": 150,
     "metadata": {},
     "output_type": "execute_result"
    }
   ],
   "source": [
    "type(myFile)"
   ]
  },
  {
   "cell_type": "code",
   "execution_count": 151,
   "id": "55fa233a-98f7-4a68-9de3-f0b3ab914798",
   "metadata": {},
   "outputs": [
    {
     "data": {
      "text/plain": [
       "'test 1\\ntest 2\\ntest 3\\n'"
      ]
     },
     "execution_count": 151,
     "metadata": {},
     "output_type": "execute_result"
    }
   ],
   "source": [
    "myFile.read()"
   ]
  },
  {
   "cell_type": "code",
   "execution_count": 152,
   "id": "e31e5145-caf5-407f-a7da-ef122d46fb56",
   "metadata": {},
   "outputs": [
    {
     "data": {
      "text/plain": [
       "''"
      ]
     },
     "execution_count": 152,
     "metadata": {},
     "output_type": "execute_result"
    }
   ],
   "source": [
    "myFile.read()"
   ]
  },
  {
   "cell_type": "code",
   "execution_count": 153,
   "id": "833f992d-8979-4efd-a3da-4e3aac850ddc",
   "metadata": {},
   "outputs": [],
   "source": [
    "myFile.close()"
   ]
  },
  {
   "cell_type": "code",
   "execution_count": 154,
   "id": "6aa111de-8609-4e6d-8496-96d4449e9e9b",
   "metadata": {},
   "outputs": [],
   "source": [
    "with open(\"myFile.txt\") as myFile: \n",
    "    myContent = myFile.read()"
   ]
  },
  {
   "cell_type": "code",
   "execution_count": 155,
   "id": "36fe3b46-5d8b-4aab-bbec-14ef9bbf83b4",
   "metadata": {},
   "outputs": [
    {
     "data": {
      "text/plain": [
       "'test 1\\ntest 2\\ntest 3\\n'"
      ]
     },
     "execution_count": 155,
     "metadata": {},
     "output_type": "execute_result"
    }
   ],
   "source": [
    "myContent"
   ]
  },
  {
   "cell_type": "code",
   "execution_count": 165,
   "id": "ab2577cc-219c-4b3a-b3c7-b6a54369c8bf",
   "metadata": {},
   "outputs": [],
   "source": [
    "with open(\"myFile.txt\", mode = \"w\") as myNewFile: \n",
    "    myNewFile.write(\"test 4\")"
   ]
  },
  {
   "cell_type": "code",
   "execution_count": 166,
   "id": "321e9c20-9577-4e12-a790-6cc0df115e95",
   "metadata": {},
   "outputs": [
    {
     "data": {
      "text/plain": [
       "<_io.TextIOWrapper name='myFile.txt' mode='w' encoding='UTF-8'>"
      ]
     },
     "execution_count": 166,
     "metadata": {},
     "output_type": "execute_result"
    }
   ],
   "source": [
    "myNewFile"
   ]
  },
  {
   "cell_type": "code",
   "execution_count": 167,
   "id": "fa82348b-708a-4bb2-b809-e385e4accbfb",
   "metadata": {},
   "outputs": [],
   "source": [
    "with open(\"myFile.txt\", mode = \"a\") as myNewFile3: \n",
    "    myNewFile3.write(\"test 5\")"
   ]
  },
  {
   "cell_type": "code",
   "execution_count": 168,
   "id": "10773e8d-3fe0-4378-a20d-74493c158018",
   "metadata": {},
   "outputs": [],
   "source": [
    "with open(\"myFile.txt\", mode = \"r\") as myNewFile4: \n",
    "    myContent = myNewFile4.read()"
   ]
  },
  {
   "cell_type": "code",
   "execution_count": 169,
   "id": "ff6705cb-5973-4819-b7b6-ecf8120c174e",
   "metadata": {},
   "outputs": [
    {
     "data": {
      "text/plain": [
       "'test 4test 5'"
      ]
     },
     "execution_count": 169,
     "metadata": {},
     "output_type": "execute_result"
    }
   ],
   "source": [
    "myContent"
   ]
  }
 ],
 "metadata": {
  "kernelspec": {
   "display_name": "Python 3 (ipykernel)",
   "language": "python",
   "name": "python3"
  },
  "language_info": {
   "codemirror_mode": {
    "name": "ipython",
    "version": 3
   },
   "file_extension": ".py",
   "mimetype": "text/x-python",
   "name": "python",
   "nbconvert_exporter": "python",
   "pygments_lexer": "ipython3",
   "version": "3.13.5"
  }
 },
 "nbformat": 4,
 "nbformat_minor": 5
}
