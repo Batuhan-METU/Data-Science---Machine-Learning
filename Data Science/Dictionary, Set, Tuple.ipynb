{
 "cells": [
  {
   "cell_type": "code",
   "execution_count": 3,
   "id": "67ce9cfc-19e9-4cb5-84ba-dc5d682212f2",
   "metadata": {},
   "outputs": [],
   "source": [
    "fitnessDict = {\"banana\": 100, \"apple\": 250}"
   ]
  },
  {
   "cell_type": "code",
   "execution_count": 5,
   "id": "66d0c99b-155f-4a9e-8a8b-e8defb002e5f",
   "metadata": {},
   "outputs": [
    {
     "data": {
      "text/plain": [
       "100"
      ]
     },
     "execution_count": 5,
     "metadata": {},
     "output_type": "execute_result"
    }
   ],
   "source": [
    "fitnessDict[\"banana\"]"
   ]
  },
  {
   "cell_type": "code",
   "execution_count": 6,
   "id": "1ffc6c55-48c3-45bb-a91d-fcaa9ebac3e9",
   "metadata": {},
   "outputs": [
    {
     "data": {
      "text/plain": [
       "250"
      ]
     },
     "execution_count": 6,
     "metadata": {},
     "output_type": "execute_result"
    }
   ],
   "source": [
    "fitnessDict[\"apple\"]"
   ]
  },
  {
   "cell_type": "code",
   "execution_count": 7,
   "id": "3b78918d-7526-4686-9708-8263d1b511eb",
   "metadata": {},
   "outputs": [
    {
     "data": {
      "text/plain": [
       "dict_keys(['banana', 'apple'])"
      ]
     },
     "execution_count": 7,
     "metadata": {},
     "output_type": "execute_result"
    }
   ],
   "source": [
    "fitnessDict.keys()"
   ]
  },
  {
   "cell_type": "code",
   "execution_count": 8,
   "id": "9d967cdc-e877-4c6b-b1ab-05261f33eea1",
   "metadata": {},
   "outputs": [
    {
     "data": {
      "text/plain": [
       "dict_values([100, 250])"
      ]
     },
     "execution_count": 8,
     "metadata": {},
     "output_type": "execute_result"
    }
   ],
   "source": [
    "fitnessDict.values()"
   ]
  },
  {
   "cell_type": "code",
   "execution_count": 9,
   "id": "93d7c66a-3be3-4a47-ae88-a2fa317aa897",
   "metadata": {},
   "outputs": [],
   "source": [
    "fitnessDict[\"melon\"] = 300 "
   ]
  },
  {
   "cell_type": "code",
   "execution_count": 10,
   "id": "13a4ca2c-6e7b-4c8a-9bcd-4af0ff261ecb",
   "metadata": {},
   "outputs": [
    {
     "data": {
      "text/plain": [
       "{'banana': 100, 'apple': 250, 'melon': 300}"
      ]
     },
     "execution_count": 10,
     "metadata": {},
     "output_type": "execute_result"
    }
   ],
   "source": [
    "fitnessDict"
   ]
  },
  {
   "cell_type": "code",
   "execution_count": 11,
   "id": "40967ca5-fa8e-4d18-bbe7-5deb311199c7",
   "metadata": {},
   "outputs": [
    {
     "data": {
      "text/plain": [
       "250"
      ]
     },
     "execution_count": 11,
     "metadata": {},
     "output_type": "execute_result"
    }
   ],
   "source": [
    "fitnessDict.get(\"apple\", 0)"
   ]
  },
  {
   "cell_type": "code",
   "execution_count": 12,
   "id": "29dc591a-2996-476e-b014-ec6f1758f874",
   "metadata": {},
   "outputs": [
    {
     "data": {
      "text/plain": [
       "0"
      ]
     },
     "execution_count": 12,
     "metadata": {},
     "output_type": "execute_result"
    }
   ],
   "source": [
    "fitnessDict.get(\"strawberry\",0)"
   ]
  },
  {
   "cell_type": "code",
   "execution_count": 13,
   "id": "daebffa9-0e8c-4183-899d-605ea827651e",
   "metadata": {},
   "outputs": [],
   "source": [
    "lastDict = {\"k1\": 10, \"k2\":[10,20,30,40,50], \"k3\":\"string\", \"k4\":{\"a\": 100, \"b\":200}}\n"
   ]
  },
  {
   "cell_type": "code",
   "execution_count": 14,
   "id": "2c96d8f1-5b0a-44a5-a986-35cf7dec4e87",
   "metadata": {},
   "outputs": [
    {
     "data": {
      "text/plain": [
       "200"
      ]
     },
     "execution_count": 14,
     "metadata": {},
     "output_type": "execute_result"
    }
   ],
   "source": [
    "lastDict[\"k4\"][\"b\"]"
   ]
  },
  {
   "cell_type": "code",
   "execution_count": 16,
   "id": "efa21136-e7c4-4224-a3e9-2d3e0a251f8a",
   "metadata": {},
   "outputs": [],
   "source": [
    "mySet = set([10,20,20,30]) #set fonksiyonu herhangi bir listeyi set yapar. "
   ]
  },
  {
   "cell_type": "code",
   "execution_count": 17,
   "id": "0702654d-9f72-4c94-a8d9-53f18d421db9",
   "metadata": {},
   "outputs": [
    {
     "data": {
      "text/plain": [
       "{10, 20, 30}"
      ]
     },
     "execution_count": 17,
     "metadata": {},
     "output_type": "execute_result"
    }
   ],
   "source": [
    "mySet"
   ]
  },
  {
   "cell_type": "code",
   "execution_count": 18,
   "id": "f4ac98ee-2c23-4296-9992-9b1fdd6a300e",
   "metadata": {},
   "outputs": [],
   "source": [
    "mySet.add(50)"
   ]
  },
  {
   "cell_type": "code",
   "execution_count": 19,
   "id": "e15b25a7-6742-4f5e-a7c5-36da1333633e",
   "metadata": {},
   "outputs": [
    {
     "data": {
      "text/plain": [
       "{10, 20, 30, 50}"
      ]
     },
     "execution_count": 19,
     "metadata": {},
     "output_type": "execute_result"
    }
   ],
   "source": [
    "mySet"
   ]
  },
  {
   "cell_type": "code",
   "execution_count": 20,
   "id": "43a311e8-c465-45b4-a0e9-9f4a92d38c89",
   "metadata": {},
   "outputs": [],
   "source": [
    "mySet2 = {30,30,50,50,60}"
   ]
  },
  {
   "cell_type": "code",
   "execution_count": 21,
   "id": "0cb36003-8d73-4155-84c0-aa57ad1b4f2e",
   "metadata": {},
   "outputs": [
    {
     "data": {
      "text/plain": [
       "{30, 50, 60}"
      ]
     },
     "execution_count": 21,
     "metadata": {},
     "output_type": "execute_result"
    }
   ],
   "source": [
    "mySet2"
   ]
  },
  {
   "cell_type": "code",
   "execution_count": null,
   "id": "03e8cbd6-528a-480e-9651-367cdfb77690",
   "metadata": {},
   "outputs": [],
   "source": []
  }
 ],
 "metadata": {
  "kernelspec": {
   "display_name": "Python 3 (ipykernel)",
   "language": "python",
   "name": "python3"
  },
  "language_info": {
   "codemirror_mode": {
    "name": "ipython",
    "version": 3
   },
   "file_extension": ".py",
   "mimetype": "text/x-python",
   "name": "python",
   "nbconvert_exporter": "python",
   "pygments_lexer": "ipython3",
   "version": "3.13.5"
  }
 },
 "nbformat": 4,
 "nbformat_minor": 5
}
