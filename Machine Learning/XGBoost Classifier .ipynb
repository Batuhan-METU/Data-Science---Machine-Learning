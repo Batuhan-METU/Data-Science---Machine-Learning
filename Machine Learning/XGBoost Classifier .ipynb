{
 "cells": [
  {
   "cell_type": "code",
   "execution_count": null,
   "id": "b3731227-be37-472c-b12d-fcb785301fcd",
   "metadata": {},
   "outputs": [],
   "source": [
    "import pandas as pd \n",
    "import numpy as np \n",
    "import matplotlib.pyplot as plt \n",
    "import seaborn as sns \n",
    "%matplotlib inline"
   ]
  },
  {
   "cell_type": "code",
   "execution_count": null,
   "id": "8b704fc8-961d-4b40-a202-51f270202b5a",
   "metadata": {},
   "outputs": [],
   "source": [
    "df = pd.read_csv(\"20-digitalskysurvey.csv\")"
   ]
  },
  {
   "cell_type": "code",
   "execution_count": null,
   "id": "b93b5988-f564-45c7-9ef5-148f7d3b0ddb",
   "metadata": {},
   "outputs": [],
   "source": [
    "df.head()"
   ]
  },
  {
   "cell_type": "code",
   "execution_count": null,
   "id": "d0766140-ef4a-4383-a7a0-36041c609254",
   "metadata": {},
   "outputs": [],
   "source": [
    "columns_to_drop = [\"objid\", \"specobjid\", \"run\", \"rerun\", \"camcol\", \"field\"]"
   ]
  },
  {
   "cell_type": "code",
   "execution_count": null,
   "id": "04a430da-9477-4780-a0e0-deb39e2fdd9a",
   "metadata": {},
   "outputs": [],
   "source": [
    "df.drop(columns_to_drop, axis = 1, inplace = True)"
   ]
  },
  {
   "cell_type": "code",
   "execution_count": null,
   "id": "909bc3cc-036a-4d59-9d37-b83763ba9025",
   "metadata": {},
   "outputs": [],
   "source": [
    "df.head()"
   ]
  },
  {
   "cell_type": "code",
   "execution_count": null,
   "id": "7fa92c11-93e4-4ca1-9e02-6b6fa71dc5c4",
   "metadata": {},
   "outputs": [],
   "source": [
    "df.info()"
   ]
  },
  {
   "cell_type": "code",
   "execution_count": null,
   "id": "f60bc00f-0fc1-487e-a88f-7728a069d47c",
   "metadata": {},
   "outputs": [],
   "source": [
    "df[\"class\"].value_counts()"
   ]
  },
  {
   "cell_type": "code",
   "execution_count": null,
   "id": "aef03749-86cf-46f4-a449-44387a142ec8",
   "metadata": {},
   "outputs": [],
   "source": [
    "sns.scatterplot(data = df, x = \"redshift\", y = \"ra\", hue = \"class\")\n",
    "plt.show()"
   ]
  },
  {
   "cell_type": "code",
   "execution_count": null,
   "id": "be32e64e-8f5a-4709-ba43-60b6061c57a0",
   "metadata": {},
   "outputs": [],
   "source": [
    "sns.scatterplot(data = df, x = \"redshift\", y = \"dec\", hue = \"class\")\n",
    "plt.show()"
   ]
  },
  {
   "cell_type": "code",
   "execution_count": null,
   "id": "f5a0d69c-5429-4903-89d6-104437b26b44",
   "metadata": {},
   "outputs": [],
   "source": [
    "sns.scatterplot(data = df, x = \"redshift\", y = \"plate\", hue = \"class\")\n",
    "plt.show()"
   ]
  },
  {
   "cell_type": "code",
   "execution_count": null,
   "id": "b965a041-30cd-4308-9483-f27453d833cd",
   "metadata": {},
   "outputs": [],
   "source": [
    "from sklearn.preprocessing import LabelEncoder\n",
    "le = LabelEncoder()\n",
    "df[\"class\"] = le.fit_transform(df[\"class\"])"
   ]
  },
  {
   "cell_type": "code",
   "execution_count": null,
   "id": "0fe96c3b-21c6-46cf-b05c-ff7c9e266dd1",
   "metadata": {},
   "outputs": [],
   "source": [
    "df.head()"
   ]
  },
  {
   "cell_type": "code",
   "execution_count": null,
   "id": "dbda108e-ca71-4ed5-8efc-37798e79a669",
   "metadata": {},
   "outputs": [],
   "source": [
    "df.corr()"
   ]
  },
  {
   "cell_type": "code",
   "execution_count": null,
   "id": "8e1ef030-73e0-45cd-8abb-14c4af7799e2",
   "metadata": {},
   "outputs": [],
   "source": [
    "sns.pairplot(df, hue = \"class\")\n",
    "plt.show()"
   ]
  },
  {
   "cell_type": "code",
   "execution_count": null,
   "id": "fa761e6f-c3f0-4c55-a9ec-1dc1d0113dca",
   "metadata": {},
   "outputs": [],
   "source": [
    "fig,axes = plt.subplots(nrows = 1, ncols = 3, figsize = (16,4))\n",
    "ax = sns.histplot(df[df[\"class\"] == 2].redshift, ax = axes[0])\n",
    "ax.set_title(\"Star\")\n",
    "ax = sns.histplot(df[df[\"class\"] == 0].redshift, ax = axes[1])\n",
    "ax.set_title(\"Galaxy\")\n",
    "ax = sns.histplot(df[df[\"class\"] == 1].redshift, ax = axes[2])\n",
    "ax.set_title(\"QSO\")\n",
    "plt.show()"
   ]
  },
  {
   "cell_type": "code",
   "execution_count": null,
   "id": "e03db1e4-4a89-4a8b-af4f-9b189b324783",
   "metadata": {},
   "outputs": [],
   "source": [
    "X = df.drop(\"class\", axis = 1)\n",
    "y = df[\"class\"]\n",
    "from sklearn.model_selection import train_test_split \n",
    "from sklearn.preprocessing import StandardScaler\n",
    "X_train, X_test, y_train, y_test = train_test_split(X,y,test_size=0.33, random_state=15)"
   ]
  },
  {
   "cell_type": "code",
   "execution_count": null,
   "id": "aa096689-f25e-4220-8a97-ffabfdc47885",
   "metadata": {},
   "outputs": [],
   "source": [
    "scaler = StandardScaler()\n",
    "X_train = scaler.fit_transform(X_train)\n",
    "X_test = scaler.transform(X_test)"
   ]
  },
  {
   "cell_type": "code",
   "execution_count": null,
   "id": "e04e65f2-d730-406c-b08b-14cfc635af35",
   "metadata": {},
   "outputs": [],
   "source": [
    "!pip install xgboost"
   ]
  },
  {
   "cell_type": "code",
   "execution_count": null,
   "id": "8382821f-2c13-4ea2-b150-89ab21557469",
   "metadata": {},
   "outputs": [],
   "source": [
    "from xgboost import XGBClassifier \n",
    "xgb = XGBClassifier(n_estimators = 100)\n",
    "xgb.fit(X_train, y_train)"
   ]
  },
  {
   "cell_type": "code",
   "execution_count": null,
   "id": "1404c320-4378-4681-87e8-5c3d1cef33fd",
   "metadata": {},
   "outputs": [],
   "source": [
    "y_pred = xgb.predict(X_test)\n",
    "from sklearn.metrics import confusion_matrix, classification_report, accuracy_score\n",
    "print(\"confusion matrix: \", confusion_matrix(y_test,y_pred))\n",
    "print(\"accuracy score: \", accuracy_score(y_test,y_pred))\n",
    "print(classification_report(y_test,y_pred))"
   ]
  },
  {
   "cell_type": "code",
   "execution_count": null,
   "id": "3fdd14fd-f691-4cac-9b58-26cdcd1b1449",
   "metadata": {},
   "outputs": [],
   "source": [
    "params = {\n",
    "    \"n_estimators\": [100,200,300,500], \n",
    "    \"learning_rate\": [0.01, 0.1], \n",
    "    \"max_depth\": [5,8,12,20,30], \n",
    "    \"colsample_bytree\": [0.3, 0.4, 0.5,0.8,1]\n",
    "}"
   ]
  },
  {
   "cell_type": "code",
   "execution_count": null,
   "id": "e53e90f5-1958-4336-9a29-1610daae86a1",
   "metadata": {},
   "outputs": [],
   "source": [
    "from sklearn.model_selection import GridSearchCV \n",
    "grid = GridSearchCV(estimator=XGBClassifier(), param_grid=params, cv = 5, n_jobs=-1)"
   ]
  },
  {
   "cell_type": "code",
   "execution_count": null,
   "id": "cdf6566f-7d72-41f5-a9ed-89e137e51200",
   "metadata": {},
   "outputs": [],
   "source": [
    "grid.fit(X_train, y_train)\n",
    "y_pred = grid.predict(X_test)\n",
    "print(\"confusion matrix: \", confusion_matrix(y_test,y_pred))\n",
    "print(\"accuracy score: \", accuracy_score(y_test,y_pred))\n",
    "print(classification_report(y_test,y_pred))"
   ]
  },
  {
   "cell_type": "code",
   "execution_count": null,
   "id": "6170a584-1790-4afe-841f-e50be9b9c897",
   "metadata": {},
   "outputs": [],
   "source": []
  }
 ],
 "metadata": {
  "kernelspec": {
   "display_name": "Python 3 (ipykernel)",
   "language": "python",
   "name": "python3"
  },
  "language_info": {
   "codemirror_mode": {
    "name": "ipython",
    "version": 3
   },
   "file_extension": ".py",
   "mimetype": "text/x-python",
   "name": "python",
   "nbconvert_exporter": "python",
   "pygments_lexer": "ipython3",
   "version": "3.13.5"
  }
 },
 "nbformat": 4,
 "nbformat_minor": 5
}
